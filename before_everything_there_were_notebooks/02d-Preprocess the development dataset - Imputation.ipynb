{
 "cells": [
  {
   "cell_type": "markdown",
   "id": "be91dbfd-600a-46a3-85f3-6d0247c277f4",
   "metadata": {},
   "source": [
    "# 02d - Preprocess the `development` dataset - Imputations"
   ]
  },
  {
   "cell_type": "markdown",
   "id": "aa0a1ee4-713b-4177-ac91-aed7ec73dbd4",
   "metadata": {},
   "source": [
    "__Goal__: Replace the outliers detected previously by missing values. Impute them and the original ones with suited methods.\n",
    "\n",
    "1. Read the `development` dataset `weather_dataset_raw_development_columns.pkl`;\n",
    "2. Read the outliers `outlier_indices_dict.pkl` of the numerical variables of the `development` dataset;\n",
    "3. Replace the relevant outliers only, by missing values;\n",
    "4. Impute all original and  outlier-generated missing values with suited methods:\n",
    "- Impute numerical_variables with the `linear` interpolation method\n",
    "- Impute `Weather` with the `nearest` interpolation method\n",
    "6. Save the fully preprocessed `develpment` dataset as `weather_dataset_development.pkl`, and remove `weather_dataset_raw_development_columns.pkl`; \n",
    "7. Test the interpolation methods"
   ]
  },
  {
   "cell_type": "markdown",
   "id": "e705f3e1-b2d2-4db9-a05b-f844ee814968",
   "metadata": {},
   "source": [
    "### Import"
   ]
  },
  {
   "cell_type": "code",
   "execution_count": 1,
   "id": "f5fa93ae-189d-4f04-8c79-707c370fec48",
   "metadata": {},
   "outputs": [],
   "source": [
    "import numpy as np\n",
    "import os\n",
    "import pandas as pd\n",
    "import pickle\n",
    "import seaborn as sns\n",
    "from pathlib import Path"
   ]
  },
  {
   "cell_type": "code",
   "execution_count": 2,
   "id": "36c64e5d-429a-48b0-a178-5bf847439b4a",
   "metadata": {},
   "outputs": [],
   "source": [
    "artifacts_dir = Path('../artifacts')\n",
    "data_dir = Path('../data')"
   ]
  },
  {
   "cell_type": "markdown",
   "id": "b6ac6a67-54ee-4ba6-bb11-09265d1bde2f",
   "metadata": {},
   "source": [
    "### Utilities"
   ]
  },
  {
   "cell_type": "code",
   "execution_count": 3,
   "id": "a65eb8b0-d37b-4552-bd5e-1859e5044d01",
   "metadata": {},
   "outputs": [],
   "source": [
    "def convert_column_datatype_into_int(df, column_name):\n",
    "    df[column_name] = df[column_name].astype(int)"
   ]
  },
  {
   "cell_type": "code",
   "execution_count": 4,
   "id": "34ca5fe2-112f-4493-9252-39be50c3ce25",
   "metadata": {},
   "outputs": [],
   "source": [
    "def display_the_number_of_missing_values_per_variable(df):\n",
    "    print(df.isna().sum())\n",
    "\n",
    "def display_the_overall_number_of_missing_values(df):\n",
    "    print(df.isna().sum().sum())"
   ]
  },
  {
   "cell_type": "code",
   "execution_count": 5,
   "id": "cb960842-6a14-4e32-b1d8-09619f61f8ea",
   "metadata": {},
   "outputs": [],
   "source": [
    "def display_the_rows_with_at_least_one_missing_value(df):\n",
    "    at_least_one_nan_index = df.index[df.isnull().any(axis=1)]\n",
    "    display(df.loc[at_least_one_nan_index])\n",
    "\n",
    "def display_the_rows_with_fully_missing_values(df):\n",
    "    all_nan_index = df.index[df.isnull().all(axis=1)]\n",
    "    display(df.loc[all_nan_index])"
   ]
  },
  {
   "cell_type": "code",
   "execution_count": 6,
   "id": "beb0352c-4e7f-4922-a398-a9f85bf7a4aa",
   "metadata": {},
   "outputs": [],
   "source": [
    "def display_outlier_series(outlier_series_dict):\n",
    "    for variable_name in outlier_series_dict.keys():\n",
    "        print(f'Timestamps of the outliers of \"{variable_name}\":')\n",
    "        print(\"=\"*len(f'Timestamps of the outliers of \"{variable_name}\":')+\"\\n\")  \n",
    "        print(outlier_series_dict[variable_name], \"\\n\")       "
   ]
  },
  {
   "cell_type": "code",
   "execution_count": 7,
   "id": "80ed302e-b092-46ce-8289-0d10304c88ea",
   "metadata": {},
   "outputs": [],
   "source": [
    "def replace_outliers_by_NaNs(df, selected_outlier_series_keys, outlier_series_dict):\n",
    "    no_outlier_df = df.copy()\n",
    "    for key in selected_outlier_series_keys:\n",
    "        no_outlier_df.loc[outlier_series_dict[key].index, key] = np.nan\n",
    "    return no_outlier_df"
   ]
  },
  {
   "cell_type": "code",
   "execution_count": 8,
   "id": "2f87c801-43a5-4118-9e93-0b797dc6ddef",
   "metadata": {},
   "outputs": [],
   "source": [
    "def display_the_rows_with_missing_value_at_column(column_name, outlier_series_dictionary_of_df, df):\n",
    "    display(df.loc[outlier_series_dictionary_of_df[column_name].index])"
   ]
  },
  {
   "cell_type": "code",
   "execution_count": 9,
   "id": "a79367c3-200a-41db-83d4-16fbf98708e2",
   "metadata": {},
   "outputs": [],
   "source": [
    "def impute_missing_numerical_variables_with_linear_interpolation(df, numerical_variables):\n",
    "    clean_df = df.copy()\n",
    "    for variable in numerical_variables:\n",
    "        clean_df[variable+\"_linear\"] = clean_df[variable].interpolate(method=\"linear\")\n",
    "    for variable in numerical_variables:\n",
    "        clean_df.drop([variable], axis=1, inplace=True)\n",
    "        clean_df.rename(columns={variable+\"_linear\": variable}, inplace=True)\n",
    "    return clean_df"
   ]
  },
  {
   "cell_type": "code",
   "execution_count": 10,
   "id": "6b57332b-8bf8-47b2-ae1b-4716a32e598c",
   "metadata": {},
   "outputs": [],
   "source": [
    "def impute_missing_categorical_variables_with_nearest_interpolation(df, categorical_variables):\n",
    "    clean_df = df.copy()\n",
    "    for variable in categorical_variables:\n",
    "        clean_df[variable+\"_nearest\"] = clean_df[variable].interpolate(method=\"nearest\")\n",
    "    for variable in categorical_variables:\n",
    "        clean_df.drop([variable], axis=1, inplace=True)\n",
    "        clean_df.rename(columns={variable+\"_nearest\": variable}, inplace=True)\n",
    "    return  clean_df"
   ]
  },
  {
   "cell_type": "markdown",
   "id": "aaaaa174-40cc-426d-9699-609b5d1d302c",
   "metadata": {},
   "source": [
    "# 1. Read the `development` dataset"
   ]
  },
  {
   "cell_type": "code",
   "execution_count": 11,
   "id": "f1a0b806-d037-410a-a647-6c9751343d0b",
   "metadata": {},
   "outputs": [
    {
     "data": {
      "text/html": [
       "<div>\n",
       "<style scoped>\n",
       "    .dataframe tbody tr th:only-of-type {\n",
       "        vertical-align: middle;\n",
       "    }\n",
       "\n",
       "    .dataframe tbody tr th {\n",
       "        vertical-align: top;\n",
       "    }\n",
       "\n",
       "    .dataframe thead th {\n",
       "        text-align: right;\n",
       "    }\n",
       "</style>\n",
       "<table border=\"1\" class=\"dataframe\">\n",
       "  <thead>\n",
       "    <tr style=\"text-align: right;\">\n",
       "      <th></th>\n",
       "      <th>Temperature</th>\n",
       "      <th>Humidity</th>\n",
       "      <th>Wind_speed</th>\n",
       "      <th>Wind_bearing</th>\n",
       "      <th>Visibility</th>\n",
       "      <th>Pressure</th>\n",
       "      <th>Weather</th>\n",
       "    </tr>\n",
       "  </thead>\n",
       "  <tbody>\n",
       "    <tr>\n",
       "      <th>2006-01-01 00:00:00+00:00</th>\n",
       "      <td>1.161111</td>\n",
       "      <td>0.85</td>\n",
       "      <td>16.6152</td>\n",
       "      <td>139</td>\n",
       "      <td>9.9015</td>\n",
       "      <td>1016.15</td>\n",
       "      <td>0.0</td>\n",
       "    </tr>\n",
       "    <tr>\n",
       "      <th>2006-01-01 01:00:00+00:00</th>\n",
       "      <td>1.666667</td>\n",
       "      <td>0.82</td>\n",
       "      <td>20.2538</td>\n",
       "      <td>140</td>\n",
       "      <td>9.9015</td>\n",
       "      <td>1015.87</td>\n",
       "      <td>0.0</td>\n",
       "    </tr>\n",
       "    <tr>\n",
       "      <th>2006-01-01 02:00:00+00:00</th>\n",
       "      <td>1.711111</td>\n",
       "      <td>0.82</td>\n",
       "      <td>14.4900</td>\n",
       "      <td>140</td>\n",
       "      <td>9.9015</td>\n",
       "      <td>1015.56</td>\n",
       "      <td>0.0</td>\n",
       "    </tr>\n",
       "    <tr>\n",
       "      <th>2006-01-01 03:00:00+00:00</th>\n",
       "      <td>1.183333</td>\n",
       "      <td>0.86</td>\n",
       "      <td>13.9426</td>\n",
       "      <td>134</td>\n",
       "      <td>9.9015</td>\n",
       "      <td>1014.98</td>\n",
       "      <td>0.0</td>\n",
       "    </tr>\n",
       "    <tr>\n",
       "      <th>2006-01-01 04:00:00+00:00</th>\n",
       "      <td>1.205556</td>\n",
       "      <td>0.85</td>\n",
       "      <td>15.9068</td>\n",
       "      <td>149</td>\n",
       "      <td>9.9820</td>\n",
       "      <td>1014.08</td>\n",
       "      <td>0.0</td>\n",
       "    </tr>\n",
       "  </tbody>\n",
       "</table>\n",
       "</div>"
      ],
      "text/plain": [
       "                           Temperature  Humidity  Wind_speed  Wind_bearing  \\\n",
       "2006-01-01 00:00:00+00:00     1.161111      0.85     16.6152           139   \n",
       "2006-01-01 01:00:00+00:00     1.666667      0.82     20.2538           140   \n",
       "2006-01-01 02:00:00+00:00     1.711111      0.82     14.4900           140   \n",
       "2006-01-01 03:00:00+00:00     1.183333      0.86     13.9426           134   \n",
       "2006-01-01 04:00:00+00:00     1.205556      0.85     15.9068           149   \n",
       "\n",
       "                           Visibility  Pressure  Weather  \n",
       "2006-01-01 00:00:00+00:00      9.9015   1016.15      0.0  \n",
       "2006-01-01 01:00:00+00:00      9.9015   1015.87      0.0  \n",
       "2006-01-01 02:00:00+00:00      9.9015   1015.56      0.0  \n",
       "2006-01-01 03:00:00+00:00      9.9015   1014.98      0.0  \n",
       "2006-01-01 04:00:00+00:00      9.9820   1014.08      0.0  "
      ]
     },
     "execution_count": 11,
     "metadata": {},
     "output_type": "execute_result"
    }
   ],
   "source": [
    "df = pd.read_pickle(data_dir/'weather_dataset_raw_development_columns.pkl')\n",
    "df.head()"
   ]
  },
  {
   "cell_type": "markdown",
   "id": "741712d7-55c5-49d4-a6b7-4ee7741ef829",
   "metadata": {},
   "source": [
    "# 2. Read the outliers of the numerical variables of the `development` dataset "
   ]
  },
  {
   "cell_type": "code",
   "execution_count": 12,
   "id": "b1207137-a40a-442a-8685-94cac4af68c6",
   "metadata": {},
   "outputs": [
    {
     "name": "stdout",
     "output_type": "stream",
     "text": [
      "Timestamps of the outliers of \"Temperature\":\n",
      "============================================\n",
      "\n",
      "Series([], Freq: H, Name: Temperature, dtype: float64) \n",
      "\n",
      "Timestamps of the outliers of \"Humidity\":\n",
      "=========================================\n",
      "\n",
      "2008-02-17 13:00:00+00:00    0.0\n",
      "2009-01-25 10:00:00+00:00    0.0\n",
      "2009-12-20 20:00:00+00:00    0.0\n",
      "2009-12-20 22:00:00+00:00    0.0\n",
      "2009-12-21 05:00:00+00:00    0.0\n",
      "Name: Humidity, dtype: float64 \n",
      "\n",
      "Timestamps of the outliers of \"Wind_speed\":\n",
      "===========================================\n",
      "\n",
      "2006-01-22 16:00:00+00:00    33.2304\n",
      "2006-01-22 18:00:00+00:00    33.4880\n",
      "2006-01-22 21:00:00+00:00    32.6025\n",
      "2006-01-22 23:00:00+00:00    31.5721\n",
      "2006-03-04 04:00:00+00:00    38.7044\n",
      "                              ...   \n",
      "2010-12-10 03:00:00+00:00    38.0121\n",
      "2010-12-10 08:00:00+00:00    34.1481\n",
      "2010-12-10 09:00:00+00:00    32.8923\n",
      "2010-12-10 11:00:00+00:00    32.8440\n",
      "2010-12-10 12:00:00+00:00    31.7653\n",
      "Name: Wind_speed, Length: 635, dtype: float64 \n",
      "\n",
      "Timestamps of the outliers of \"Wind_bearing\":\n",
      "=============================================\n",
      "\n",
      "Series([], Freq: H, Name: Wind_bearing, dtype: int64) \n",
      "\n",
      "Timestamps of the outliers of \"Visibility\":\n",
      "===========================================\n",
      "\n",
      "2006-01-06 00:00:00+00:00    0.4830\n",
      "2006-01-06 01:00:00+00:00    1.7549\n",
      "2006-01-06 02:00:00+00:00    1.7549\n",
      "2006-01-07 01:00:00+00:00    0.2415\n",
      "2006-01-07 02:00:00+00:00    0.2898\n",
      "                              ...  \n",
      "2010-12-31 09:00:00+00:00    0.6923\n",
      "2010-12-31 10:00:00+00:00    0.8050\n",
      "2010-12-31 11:00:00+00:00    0.9660\n",
      "2010-12-31 12:00:00+00:00    1.2558\n",
      "2010-12-31 13:00:00+00:00    1.7549\n",
      "Name: Visibility, Length: 1998, dtype: float64 \n",
      "\n",
      "Timestamps of the outliers of \"Pressure\":\n",
      "=========================================\n",
      "\n",
      "2006-01-04 10:00:00+00:00    0.0\n",
      "2006-01-05 17:00:00+00:00    0.0\n",
      "2006-01-05 19:00:00+00:00    0.0\n",
      "2006-01-10 13:00:00+00:00    0.0\n",
      "2006-01-10 14:00:00+00:00    0.0\n",
      "                            ... \n",
      "2010-12-13 10:00:00+00:00    0.0\n",
      "2010-12-13 11:00:00+00:00    0.0\n",
      "2010-12-13 13:00:00+00:00    0.0\n",
      "2010-12-13 14:00:00+00:00    0.0\n",
      "2010-12-26 08:00:00+00:00    0.0\n",
      "Name: Pressure, Length: 1045, dtype: float64 \n",
      "\n"
     ]
    }
   ],
   "source": [
    "with open(artifacts_dir/'outlier_series_dict.pkl', 'rb') as f:\n",
    "    outlier_series_dictionary = pickle.load(f)\n",
    "    \n",
    "display_outlier_series(outlier_series_dictionary)"
   ]
  },
  {
   "cell_type": "markdown",
   "id": "910a39b6-a1f8-4477-b4f1-36a25179eaac",
   "metadata": {},
   "source": [
    "# 3. Replace the relevant outliers only, by `NaN`s"
   ]
  },
  {
   "cell_type": "code",
   "execution_count": 13,
   "id": "9755f932-2e5f-41f9-b4d7-51c31d5eec9c",
   "metadata": {},
   "outputs": [],
   "source": [
    "relevant_outlier_series_keys = [\"Humidity\", \"Pressure\"] \n",
    "no_outlier_df = replace_outliers_by_NaNs(df, relevant_outlier_series_keys, outlier_series_dictionary)"
   ]
  },
  {
   "cell_type": "code",
   "execution_count": 14,
   "id": "f587737a-8419-4e07-a15b-5c09c75ffe09",
   "metadata": {},
   "outputs": [
    {
     "data": {
      "text/html": [
       "<div>\n",
       "<style scoped>\n",
       "    .dataframe tbody tr th:only-of-type {\n",
       "        vertical-align: middle;\n",
       "    }\n",
       "\n",
       "    .dataframe tbody tr th {\n",
       "        vertical-align: top;\n",
       "    }\n",
       "\n",
       "    .dataframe thead th {\n",
       "        text-align: right;\n",
       "    }\n",
       "</style>\n",
       "<table border=\"1\" class=\"dataframe\">\n",
       "  <thead>\n",
       "    <tr style=\"text-align: right;\">\n",
       "      <th></th>\n",
       "      <th>Temperature</th>\n",
       "      <th>Humidity</th>\n",
       "      <th>Wind_speed</th>\n",
       "      <th>Wind_bearing</th>\n",
       "      <th>Visibility</th>\n",
       "      <th>Pressure</th>\n",
       "      <th>Weather</th>\n",
       "    </tr>\n",
       "  </thead>\n",
       "  <tbody>\n",
       "    <tr>\n",
       "      <th>2008-02-17 13:00:00+00:00</th>\n",
       "      <td>-1.111111</td>\n",
       "      <td>NaN</td>\n",
       "      <td>4.4275</td>\n",
       "      <td>12</td>\n",
       "      <td>9.982</td>\n",
       "      <td>NaN</td>\n",
       "      <td>1.0</td>\n",
       "    </tr>\n",
       "    <tr>\n",
       "      <th>2009-01-25 10:00:00+00:00</th>\n",
       "      <td>1.111111</td>\n",
       "      <td>NaN</td>\n",
       "      <td>20.9300</td>\n",
       "      <td>350</td>\n",
       "      <td>0.161</td>\n",
       "      <td>1000.1</td>\n",
       "      <td>0.0</td>\n",
       "    </tr>\n",
       "    <tr>\n",
       "      <th>2009-12-20 20:00:00+00:00</th>\n",
       "      <td>-15.000000</td>\n",
       "      <td>NaN</td>\n",
       "      <td>3.2200</td>\n",
       "      <td>250</td>\n",
       "      <td>9.982</td>\n",
       "      <td>1015.1</td>\n",
       "      <td>1.0</td>\n",
       "    </tr>\n",
       "    <tr>\n",
       "      <th>2009-12-20 22:00:00+00:00</th>\n",
       "      <td>-15.555556</td>\n",
       "      <td>NaN</td>\n",
       "      <td>6.4400</td>\n",
       "      <td>160</td>\n",
       "      <td>9.982</td>\n",
       "      <td>1015.9</td>\n",
       "      <td>1.0</td>\n",
       "    </tr>\n",
       "    <tr>\n",
       "      <th>2009-12-21 05:00:00+00:00</th>\n",
       "      <td>-13.888889</td>\n",
       "      <td>NaN</td>\n",
       "      <td>22.5400</td>\n",
       "      <td>160</td>\n",
       "      <td>9.982</td>\n",
       "      <td>1016.8</td>\n",
       "      <td>1.0</td>\n",
       "    </tr>\n",
       "  </tbody>\n",
       "</table>\n",
       "</div>"
      ],
      "text/plain": [
       "                           Temperature  Humidity  Wind_speed  Wind_bearing  \\\n",
       "2008-02-17 13:00:00+00:00    -1.111111       NaN      4.4275            12   \n",
       "2009-01-25 10:00:00+00:00     1.111111       NaN     20.9300           350   \n",
       "2009-12-20 20:00:00+00:00   -15.000000       NaN      3.2200           250   \n",
       "2009-12-20 22:00:00+00:00   -15.555556       NaN      6.4400           160   \n",
       "2009-12-21 05:00:00+00:00   -13.888889       NaN     22.5400           160   \n",
       "\n",
       "                           Visibility  Pressure  Weather  \n",
       "2008-02-17 13:00:00+00:00       9.982       NaN      1.0  \n",
       "2009-01-25 10:00:00+00:00       0.161    1000.1      0.0  \n",
       "2009-12-20 20:00:00+00:00       9.982    1015.1      1.0  \n",
       "2009-12-20 22:00:00+00:00       9.982    1015.9      1.0  \n",
       "2009-12-21 05:00:00+00:00       9.982    1016.8      1.0  "
      ]
     },
     "metadata": {},
     "output_type": "display_data"
    }
   ],
   "source": [
    "display_the_rows_with_missing_value_at_column(\"Humidity\", outlier_series_dictionary, no_outlier_df)"
   ]
  },
  {
   "cell_type": "code",
   "execution_count": 15,
   "id": "1feac331-81b3-4c9b-8aff-de3099b1d6b7",
   "metadata": {},
   "outputs": [
    {
     "data": {
      "text/html": [
       "<div>\n",
       "<style scoped>\n",
       "    .dataframe tbody tr th:only-of-type {\n",
       "        vertical-align: middle;\n",
       "    }\n",
       "\n",
       "    .dataframe tbody tr th {\n",
       "        vertical-align: top;\n",
       "    }\n",
       "\n",
       "    .dataframe thead th {\n",
       "        text-align: right;\n",
       "    }\n",
       "</style>\n",
       "<table border=\"1\" class=\"dataframe\">\n",
       "  <thead>\n",
       "    <tr style=\"text-align: right;\">\n",
       "      <th></th>\n",
       "      <th>Temperature</th>\n",
       "      <th>Humidity</th>\n",
       "      <th>Wind_speed</th>\n",
       "      <th>Wind_bearing</th>\n",
       "      <th>Visibility</th>\n",
       "      <th>Pressure</th>\n",
       "      <th>Weather</th>\n",
       "    </tr>\n",
       "  </thead>\n",
       "  <tbody>\n",
       "    <tr>\n",
       "      <th>2006-01-04 10:00:00+00:00</th>\n",
       "      <td>2.250000</td>\n",
       "      <td>0.92</td>\n",
       "      <td>12.2038</td>\n",
       "      <td>13</td>\n",
       "      <td>11.1251</td>\n",
       "      <td>NaN</td>\n",
       "      <td>0.0</td>\n",
       "    </tr>\n",
       "    <tr>\n",
       "      <th>2006-01-05 17:00:00+00:00</th>\n",
       "      <td>3.938889</td>\n",
       "      <td>0.92</td>\n",
       "      <td>7.9373</td>\n",
       "      <td>324</td>\n",
       "      <td>6.1985</td>\n",
       "      <td>NaN</td>\n",
       "      <td>0.0</td>\n",
       "    </tr>\n",
       "    <tr>\n",
       "      <th>2006-01-05 19:00:00+00:00</th>\n",
       "      <td>2.827778</td>\n",
       "      <td>1.00</td>\n",
       "      <td>8.1305</td>\n",
       "      <td>344</td>\n",
       "      <td>4.2021</td>\n",
       "      <td>NaN</td>\n",
       "      <td>0.0</td>\n",
       "    </tr>\n",
       "    <tr>\n",
       "      <th>2006-01-10 13:00:00+00:00</th>\n",
       "      <td>2.927778</td>\n",
       "      <td>0.60</td>\n",
       "      <td>7.8085</td>\n",
       "      <td>301</td>\n",
       "      <td>9.9820</td>\n",
       "      <td>NaN</td>\n",
       "      <td>0.0</td>\n",
       "    </tr>\n",
       "    <tr>\n",
       "      <th>2006-01-10 14:00:00+00:00</th>\n",
       "      <td>2.877778</td>\n",
       "      <td>0.61</td>\n",
       "      <td>4.6046</td>\n",
       "      <td>320</td>\n",
       "      <td>9.9820</td>\n",
       "      <td>NaN</td>\n",
       "      <td>0.0</td>\n",
       "    </tr>\n",
       "    <tr>\n",
       "      <th>...</th>\n",
       "      <td>...</td>\n",
       "      <td>...</td>\n",
       "      <td>...</td>\n",
       "      <td>...</td>\n",
       "      <td>...</td>\n",
       "      <td>...</td>\n",
       "      <td>...</td>\n",
       "    </tr>\n",
       "    <tr>\n",
       "      <th>2010-12-13 10:00:00+00:00</th>\n",
       "      <td>1.111111</td>\n",
       "      <td>0.78</td>\n",
       "      <td>22.3146</td>\n",
       "      <td>320</td>\n",
       "      <td>11.2700</td>\n",
       "      <td>NaN</td>\n",
       "      <td>0.0</td>\n",
       "    </tr>\n",
       "    <tr>\n",
       "      <th>2010-12-13 11:00:00+00:00</th>\n",
       "      <td>1.111111</td>\n",
       "      <td>0.75</td>\n",
       "      <td>17.6134</td>\n",
       "      <td>329</td>\n",
       "      <td>11.2700</td>\n",
       "      <td>NaN</td>\n",
       "      <td>0.0</td>\n",
       "    </tr>\n",
       "    <tr>\n",
       "      <th>2010-12-13 13:00:00+00:00</th>\n",
       "      <td>0.050000</td>\n",
       "      <td>0.91</td>\n",
       "      <td>7.8246</td>\n",
       "      <td>35</td>\n",
       "      <td>11.2700</td>\n",
       "      <td>NaN</td>\n",
       "      <td>0.0</td>\n",
       "    </tr>\n",
       "    <tr>\n",
       "      <th>2010-12-13 14:00:00+00:00</th>\n",
       "      <td>0.000000</td>\n",
       "      <td>0.91</td>\n",
       "      <td>7.4543</td>\n",
       "      <td>54</td>\n",
       "      <td>11.2056</td>\n",
       "      <td>NaN</td>\n",
       "      <td>1.0</td>\n",
       "    </tr>\n",
       "    <tr>\n",
       "      <th>2010-12-26 08:00:00+00:00</th>\n",
       "      <td>-2.222222</td>\n",
       "      <td>0.96</td>\n",
       "      <td>22.4595</td>\n",
       "      <td>310</td>\n",
       "      <td>11.2700</td>\n",
       "      <td>NaN</td>\n",
       "      <td>1.0</td>\n",
       "    </tr>\n",
       "  </tbody>\n",
       "</table>\n",
       "<p>1045 rows × 7 columns</p>\n",
       "</div>"
      ],
      "text/plain": [
       "                           Temperature  Humidity  Wind_speed  Wind_bearing  \\\n",
       "2006-01-04 10:00:00+00:00     2.250000      0.92     12.2038            13   \n",
       "2006-01-05 17:00:00+00:00     3.938889      0.92      7.9373           324   \n",
       "2006-01-05 19:00:00+00:00     2.827778      1.00      8.1305           344   \n",
       "2006-01-10 13:00:00+00:00     2.927778      0.60      7.8085           301   \n",
       "2006-01-10 14:00:00+00:00     2.877778      0.61      4.6046           320   \n",
       "...                                ...       ...         ...           ...   \n",
       "2010-12-13 10:00:00+00:00     1.111111      0.78     22.3146           320   \n",
       "2010-12-13 11:00:00+00:00     1.111111      0.75     17.6134           329   \n",
       "2010-12-13 13:00:00+00:00     0.050000      0.91      7.8246            35   \n",
       "2010-12-13 14:00:00+00:00     0.000000      0.91      7.4543            54   \n",
       "2010-12-26 08:00:00+00:00    -2.222222      0.96     22.4595           310   \n",
       "\n",
       "                           Visibility  Pressure  Weather  \n",
       "2006-01-04 10:00:00+00:00     11.1251       NaN      0.0  \n",
       "2006-01-05 17:00:00+00:00      6.1985       NaN      0.0  \n",
       "2006-01-05 19:00:00+00:00      4.2021       NaN      0.0  \n",
       "2006-01-10 13:00:00+00:00      9.9820       NaN      0.0  \n",
       "2006-01-10 14:00:00+00:00      9.9820       NaN      0.0  \n",
       "...                               ...       ...      ...  \n",
       "2010-12-13 10:00:00+00:00     11.2700       NaN      0.0  \n",
       "2010-12-13 11:00:00+00:00     11.2700       NaN      0.0  \n",
       "2010-12-13 13:00:00+00:00     11.2700       NaN      0.0  \n",
       "2010-12-13 14:00:00+00:00     11.2056       NaN      1.0  \n",
       "2010-12-26 08:00:00+00:00     11.2700       NaN      1.0  \n",
       "\n",
       "[1045 rows x 7 columns]"
      ]
     },
     "metadata": {},
     "output_type": "display_data"
    }
   ],
   "source": [
    "display_the_rows_with_missing_value_at_column(\"Pressure\", outlier_series_dictionary, no_outlier_df)"
   ]
  },
  {
   "cell_type": "markdown",
   "id": "b6c682bf-82f3-4c69-9149-caba666705f0",
   "metadata": {},
   "source": [
    "# 4. Impute all original and  outlier-generated `NaN`s with suited methods"
   ]
  },
  {
   "cell_type": "markdown",
   "id": "5853e80a-178e-4400-a3a9-f4d09eef9de2",
   "metadata": {},
   "source": [
    "## A. Display the rows with fully missing values"
   ]
  },
  {
   "cell_type": "code",
   "execution_count": 16,
   "id": "0a53fbf2-d388-4fa1-a66f-3b3ae6d0758f",
   "metadata": {},
   "outputs": [
    {
     "data": {
      "text/html": [
       "<div>\n",
       "<style scoped>\n",
       "    .dataframe tbody tr th:only-of-type {\n",
       "        vertical-align: middle;\n",
       "    }\n",
       "\n",
       "    .dataframe tbody tr th {\n",
       "        vertical-align: top;\n",
       "    }\n",
       "\n",
       "    .dataframe thead th {\n",
       "        text-align: right;\n",
       "    }\n",
       "</style>\n",
       "<table border=\"1\" class=\"dataframe\">\n",
       "  <thead>\n",
       "    <tr style=\"text-align: right;\">\n",
       "      <th></th>\n",
       "      <th>Temperature</th>\n",
       "      <th>Humidity</th>\n",
       "      <th>Wind_speed</th>\n",
       "      <th>Wind_bearing</th>\n",
       "      <th>Visibility</th>\n",
       "      <th>Pressure</th>\n",
       "      <th>Weather</th>\n",
       "    </tr>\n",
       "  </thead>\n",
       "  <tbody>\n",
       "  </tbody>\n",
       "</table>\n",
       "</div>"
      ],
      "text/plain": [
       "Empty DataFrame\n",
       "Columns: [Temperature, Humidity, Wind_speed, Wind_bearing, Visibility, Pressure, Weather]\n",
       "Index: []"
      ]
     },
     "metadata": {},
     "output_type": "display_data"
    }
   ],
   "source": [
    "display_the_rows_with_fully_missing_values(no_outlier_df)"
   ]
  },
  {
   "cell_type": "markdown",
   "id": "b1fcf467-bdca-4570-b78e-7add7346d0c9",
   "metadata": {},
   "source": [
    "## B. Display the rows with at least one missing value"
   ]
  },
  {
   "cell_type": "code",
   "execution_count": 17,
   "id": "3c0d7faa-af0e-4285-a405-7b89e77be938",
   "metadata": {},
   "outputs": [
    {
     "data": {
      "text/html": [
       "<div>\n",
       "<style scoped>\n",
       "    .dataframe tbody tr th:only-of-type {\n",
       "        vertical-align: middle;\n",
       "    }\n",
       "\n",
       "    .dataframe tbody tr th {\n",
       "        vertical-align: top;\n",
       "    }\n",
       "\n",
       "    .dataframe thead th {\n",
       "        text-align: right;\n",
       "    }\n",
       "</style>\n",
       "<table border=\"1\" class=\"dataframe\">\n",
       "  <thead>\n",
       "    <tr style=\"text-align: right;\">\n",
       "      <th></th>\n",
       "      <th>Temperature</th>\n",
       "      <th>Humidity</th>\n",
       "      <th>Wind_speed</th>\n",
       "      <th>Wind_bearing</th>\n",
       "      <th>Visibility</th>\n",
       "      <th>Pressure</th>\n",
       "      <th>Weather</th>\n",
       "    </tr>\n",
       "  </thead>\n",
       "  <tbody>\n",
       "    <tr>\n",
       "      <th>2006-01-04 10:00:00+00:00</th>\n",
       "      <td>2.250000</td>\n",
       "      <td>0.92</td>\n",
       "      <td>12.2038</td>\n",
       "      <td>13</td>\n",
       "      <td>11.1251</td>\n",
       "      <td>NaN</td>\n",
       "      <td>0.0</td>\n",
       "    </tr>\n",
       "    <tr>\n",
       "      <th>2006-01-05 17:00:00+00:00</th>\n",
       "      <td>3.938889</td>\n",
       "      <td>0.92</td>\n",
       "      <td>7.9373</td>\n",
       "      <td>324</td>\n",
       "      <td>6.1985</td>\n",
       "      <td>NaN</td>\n",
       "      <td>0.0</td>\n",
       "    </tr>\n",
       "    <tr>\n",
       "      <th>2006-01-05 19:00:00+00:00</th>\n",
       "      <td>2.827778</td>\n",
       "      <td>1.00</td>\n",
       "      <td>8.1305</td>\n",
       "      <td>344</td>\n",
       "      <td>4.2021</td>\n",
       "      <td>NaN</td>\n",
       "      <td>0.0</td>\n",
       "    </tr>\n",
       "    <tr>\n",
       "      <th>2006-01-10 13:00:00+00:00</th>\n",
       "      <td>2.927778</td>\n",
       "      <td>0.60</td>\n",
       "      <td>7.8085</td>\n",
       "      <td>301</td>\n",
       "      <td>9.9820</td>\n",
       "      <td>NaN</td>\n",
       "      <td>0.0</td>\n",
       "    </tr>\n",
       "    <tr>\n",
       "      <th>2006-01-10 14:00:00+00:00</th>\n",
       "      <td>2.877778</td>\n",
       "      <td>0.61</td>\n",
       "      <td>4.6046</td>\n",
       "      <td>320</td>\n",
       "      <td>9.9820</td>\n",
       "      <td>NaN</td>\n",
       "      <td>0.0</td>\n",
       "    </tr>\n",
       "    <tr>\n",
       "      <th>...</th>\n",
       "      <td>...</td>\n",
       "      <td>...</td>\n",
       "      <td>...</td>\n",
       "      <td>...</td>\n",
       "      <td>...</td>\n",
       "      <td>...</td>\n",
       "      <td>...</td>\n",
       "    </tr>\n",
       "    <tr>\n",
       "      <th>2010-12-13 10:00:00+00:00</th>\n",
       "      <td>1.111111</td>\n",
       "      <td>0.78</td>\n",
       "      <td>22.3146</td>\n",
       "      <td>320</td>\n",
       "      <td>11.2700</td>\n",
       "      <td>NaN</td>\n",
       "      <td>0.0</td>\n",
       "    </tr>\n",
       "    <tr>\n",
       "      <th>2010-12-13 11:00:00+00:00</th>\n",
       "      <td>1.111111</td>\n",
       "      <td>0.75</td>\n",
       "      <td>17.6134</td>\n",
       "      <td>329</td>\n",
       "      <td>11.2700</td>\n",
       "      <td>NaN</td>\n",
       "      <td>0.0</td>\n",
       "    </tr>\n",
       "    <tr>\n",
       "      <th>2010-12-13 13:00:00+00:00</th>\n",
       "      <td>0.050000</td>\n",
       "      <td>0.91</td>\n",
       "      <td>7.8246</td>\n",
       "      <td>35</td>\n",
       "      <td>11.2700</td>\n",
       "      <td>NaN</td>\n",
       "      <td>0.0</td>\n",
       "    </tr>\n",
       "    <tr>\n",
       "      <th>2010-12-13 14:00:00+00:00</th>\n",
       "      <td>0.000000</td>\n",
       "      <td>0.91</td>\n",
       "      <td>7.4543</td>\n",
       "      <td>54</td>\n",
       "      <td>11.2056</td>\n",
       "      <td>NaN</td>\n",
       "      <td>1.0</td>\n",
       "    </tr>\n",
       "    <tr>\n",
       "      <th>2010-12-26 08:00:00+00:00</th>\n",
       "      <td>-2.222222</td>\n",
       "      <td>0.96</td>\n",
       "      <td>22.4595</td>\n",
       "      <td>310</td>\n",
       "      <td>11.2700</td>\n",
       "      <td>NaN</td>\n",
       "      <td>1.0</td>\n",
       "    </tr>\n",
       "  </tbody>\n",
       "</table>\n",
       "<p>1054 rows × 7 columns</p>\n",
       "</div>"
      ],
      "text/plain": [
       "                           Temperature  Humidity  Wind_speed  Wind_bearing  \\\n",
       "2006-01-04 10:00:00+00:00     2.250000      0.92     12.2038            13   \n",
       "2006-01-05 17:00:00+00:00     3.938889      0.92      7.9373           324   \n",
       "2006-01-05 19:00:00+00:00     2.827778      1.00      8.1305           344   \n",
       "2006-01-10 13:00:00+00:00     2.927778      0.60      7.8085           301   \n",
       "2006-01-10 14:00:00+00:00     2.877778      0.61      4.6046           320   \n",
       "...                                ...       ...         ...           ...   \n",
       "2010-12-13 10:00:00+00:00     1.111111      0.78     22.3146           320   \n",
       "2010-12-13 11:00:00+00:00     1.111111      0.75     17.6134           329   \n",
       "2010-12-13 13:00:00+00:00     0.050000      0.91      7.8246            35   \n",
       "2010-12-13 14:00:00+00:00     0.000000      0.91      7.4543            54   \n",
       "2010-12-26 08:00:00+00:00    -2.222222      0.96     22.4595           310   \n",
       "\n",
       "                           Visibility  Pressure  Weather  \n",
       "2006-01-04 10:00:00+00:00     11.1251       NaN      0.0  \n",
       "2006-01-05 17:00:00+00:00      6.1985       NaN      0.0  \n",
       "2006-01-05 19:00:00+00:00      4.2021       NaN      0.0  \n",
       "2006-01-10 13:00:00+00:00      9.9820       NaN      0.0  \n",
       "2006-01-10 14:00:00+00:00      9.9820       NaN      0.0  \n",
       "...                               ...       ...      ...  \n",
       "2010-12-13 10:00:00+00:00     11.2700       NaN      0.0  \n",
       "2010-12-13 11:00:00+00:00     11.2700       NaN      0.0  \n",
       "2010-12-13 13:00:00+00:00     11.2700       NaN      0.0  \n",
       "2010-12-13 14:00:00+00:00     11.2056       NaN      1.0  \n",
       "2010-12-26 08:00:00+00:00     11.2700       NaN      1.0  \n",
       "\n",
       "[1054 rows x 7 columns]"
      ]
     },
     "metadata": {},
     "output_type": "display_data"
    }
   ],
   "source": [
    "display_the_rows_with_at_least_one_missing_value(no_outlier_df)"
   ]
  },
  {
   "cell_type": "markdown",
   "id": "67bc3b0f-523d-488c-803e-10129fc675d7",
   "metadata": {},
   "source": [
    "## C. Display the number of missing values per variable"
   ]
  },
  {
   "cell_type": "code",
   "execution_count": 18,
   "id": "44e393ef-4f23-4711-ac29-90d0a9c955df",
   "metadata": {},
   "outputs": [
    {
     "name": "stdout",
     "output_type": "stream",
     "text": [
      "Temperature     0\n",
      "Humidity        0\n",
      "Wind_speed      0\n",
      "Wind_bearing    0\n",
      "Visibility      0\n",
      "Pressure        0\n",
      "Weather         5\n",
      "dtype: int64\n"
     ]
    }
   ],
   "source": [
    "display_the_number_of_missing_values_per_variable(df)"
   ]
  },
  {
   "cell_type": "markdown",
   "id": "e08cddb3-b378-4395-bdc9-9eeab5a36ed4",
   "metadata": {},
   "source": [
    "## D. Display the overall number of missing  values"
   ]
  },
  {
   "cell_type": "code",
   "execution_count": 19,
   "id": "b1358895-6695-451c-bc0a-fade413bcc3a",
   "metadata": {},
   "outputs": [
    {
     "name": "stdout",
     "output_type": "stream",
     "text": [
      "5\n"
     ]
    }
   ],
   "source": [
    "display_the_overall_number_of_missing_values(df)"
   ]
  },
  {
   "cell_type": "markdown",
   "id": "af2052c2-4eea-4989-95de-dfc76a6273fd",
   "metadata": {},
   "source": [
    "## E. Impute `numerical_variables` with the `linear` interpolation method"
   ]
  },
  {
   "cell_type": "code",
   "execution_count": 20,
   "id": "c91e58d0-b1e2-4581-a804-036b410c726b",
   "metadata": {},
   "outputs": [
    {
     "name": "stdout",
     "output_type": "stream",
     "text": [
      "Weather         5\n",
      "Temperature     0\n",
      "Humidity        0\n",
      "Wind_speed      0\n",
      "Wind_bearing    0\n",
      "Visibility      0\n",
      "Pressure        0\n",
      "dtype: int64\n"
     ]
    }
   ],
   "source": [
    "numerical_variables = list(df.columns); numerical_variables.remove(\"Weather\")\n",
    "\n",
    "num_clean_df = impute_missing_numerical_variables_with_linear_interpolation(df, numerical_variables)\n",
    "display_the_number_of_missing_values_per_variable(num_clean_df)"
   ]
  },
  {
   "cell_type": "markdown",
   "id": "4fae0e8a-4215-4d43-94a8-40d9bd5734a2",
   "metadata": {},
   "source": [
    "## F. Impute `Weather` with the `nearest` interpolation method"
   ]
  },
  {
   "cell_type": "code",
   "execution_count": 21,
   "id": "1ced9854-f785-4fb2-b08d-17573b39666e",
   "metadata": {},
   "outputs": [
    {
     "name": "stdout",
     "output_type": "stream",
     "text": [
      "Temperature     0\n",
      "Humidity        0\n",
      "Wind_speed      0\n",
      "Wind_bearing    0\n",
      "Visibility      0\n",
      "Pressure        0\n",
      "Weather         0\n",
      "dtype: int64\n"
     ]
    }
   ],
   "source": [
    "categorical_variables = [\"Weather\"]\n",
    "\n",
    "clean_df = impute_missing_categorical_variables_with_nearest_interpolation(num_clean_df, categorical_variables)\n",
    "display_the_number_of_missing_values_per_variable(clean_df)"
   ]
  },
  {
   "cell_type": "markdown",
   "id": "1ce8db45-fb58-4499-9383-08b316da79a2",
   "metadata": {},
   "source": [
    "## G. Check the `NaN` absence in the `development` dataset"
   ]
  },
  {
   "cell_type": "code",
   "execution_count": 22,
   "id": "9db09268-e72c-40c5-8ee9-329e49b65ed1",
   "metadata": {},
   "outputs": [
    {
     "name": "stdout",
     "output_type": "stream",
     "text": [
      "0\n"
     ]
    }
   ],
   "source": [
    "display_the_overall_number_of_missing_values(clean_df)"
   ]
  },
  {
   "cell_type": "markdown",
   "id": "6423bf54-dc16-47c1-b106-d1533ee77be2",
   "metadata": {},
   "source": [
    "# 5. Save the fully preprocessed `develpment` dataset"
   ]
  },
  {
   "cell_type": "code",
   "execution_count": 23,
   "id": "e2c6cb56-b6fc-4fdf-b4a4-b7e89fc08696",
   "metadata": {},
   "outputs": [],
   "source": [
    "clean_df.to_pickle(data_dir / 'clean_weather_dataset.pkl')"
   ]
  },
  {
   "cell_type": "code",
   "execution_count": 24,
   "id": "9cd21301-3b5f-41ad-93e9-43372f3c9d68",
   "metadata": {},
   "outputs": [],
   "source": [
    "os.remove(data_dir/'weather_dataset_raw_development_columns.pkl')"
   ]
  },
  {
   "cell_type": "code",
   "execution_count": null,
   "id": "b1c1ca49-76dd-4a2c-85b3-79903c774d23",
   "metadata": {},
   "outputs": [],
   "source": []
  }
 ],
 "metadata": {
  "kernelspec": {
   "display_name": "Python 3 (ipykernel)",
   "language": "python",
   "name": "python3"
  },
  "language_info": {
   "codemirror_mode": {
    "name": "ipython",
    "version": 3
   },
   "file_extension": ".py",
   "mimetype": "text/x-python",
   "name": "python",
   "nbconvert_exporter": "python",
   "pygments_lexer": "ipython3",
   "version": "3.10.13"
  }
 },
 "nbformat": 4,
 "nbformat_minor": 5
}
