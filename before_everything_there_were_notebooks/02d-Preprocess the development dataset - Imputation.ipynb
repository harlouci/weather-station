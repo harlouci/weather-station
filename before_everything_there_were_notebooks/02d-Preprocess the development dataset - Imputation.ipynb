{
 "cells": [
  {
   "cell_type": "markdown",
   "id": "be91dbfd-600a-46a3-85f3-6d0247c277f4",
   "metadata": {},
   "source": [
    "# 02d - Preprocess the `development` dataset - Imputations"
   ]
  },
  {
   "cell_type": "markdown",
   "id": "aa0a1ee4-713b-4177-ac91-aed7ec73dbd4",
   "metadata": {},
   "source": [
    "__Goal__: Replace the outliers detected previously by missing values. Impute them and the original ones with suited methods.\n",
    "\n",
    "1. Read the `development` dataset `weather_dataset_raw_development_columns.pkl`;\n",
    "2. Read the outliers `outlier_indices_dict.pkl` of the numerical variables of the `development` dataset;\n",
    "3. Replace the relevant outliers only, by missing values;\n",
    "4. Impute all original and  outlier-generated missing values with suited methods:\n",
    "- Impute numerical_variables with the `linear` interpolation method\n",
    "- Impute `Weather` with the `nearest` interpolation method\n",
    "6. Save the fully preprocessed `develpment` dataset as `weather_dataset_development.pkl`, and remove `weather_dataset_raw_development_columns.pkl`; \n",
    "7. Test the interpolation methods"
   ]
  },
  {
   "cell_type": "markdown",
   "id": "e705f3e1-b2d2-4db9-a05b-f844ee814968",
   "metadata": {},
   "source": [
    "### Import"
   ]
  },
  {
   "cell_type": "code",
   "execution_count": null,
   "id": "f5fa93ae-189d-4f04-8c79-707c370fec48",
   "metadata": {},
   "outputs": [],
   "source": [
    "import numpy as np\n",
    "import os\n",
    "import pandas as pd\n",
    "import pickle\n",
    "import seaborn as sns\n",
    "from pathlib import Path"
   ]
  },
  {
   "cell_type": "code",
   "execution_count": null,
   "id": "36c64e5d-429a-48b0-a178-5bf847439b4a",
   "metadata": {},
   "outputs": [],
   "source": [
    "artifacts_dir = Path('./artifacts')\n",
    "data_dir = Path('../data')"
   ]
  },
  {
   "cell_type": "markdown",
   "id": "b6ac6a67-54ee-4ba6-bb11-09265d1bde2f",
   "metadata": {},
   "source": [
    "### Utilities"
   ]
  },
  {
   "cell_type": "code",
   "execution_count": null,
   "id": "a65eb8b0-d37b-4552-bd5e-1859e5044d01",
   "metadata": {},
   "outputs": [],
   "source": [
    "def convert_column_datatype_into_int(df, column_name):\n",
    "    df[column_name] = df[column_name].astype(int)"
   ]
  },
  {
   "cell_type": "code",
   "execution_count": null,
   "id": "34ca5fe2-112f-4493-9252-39be50c3ce25",
   "metadata": {},
   "outputs": [],
   "source": [
    "def display_the_number_of_missing_values_per_variable(df):\n",
    "    print(df.isna().sum())\n",
    "\n",
    "def display_the_overall_number_of_missing_values(df):\n",
    "    print(df.isna().sum().sum())"
   ]
  },
  {
   "cell_type": "code",
   "execution_count": null,
   "id": "cb960842-6a14-4e32-b1d8-09619f61f8ea",
   "metadata": {},
   "outputs": [],
   "source": [
    "def display_the_rows_with_at_least_one_missing_value(df):\n",
    "    at_least_one_nan_index = df.index[df.isnull().any(axis=1)]\n",
    "    display(df.loc[at_least_one_nan_index])\n",
    "\n",
    "def display_the_rows_with_fully_missing_values(df):\n",
    "    all_nan_index = df.index[df.isnull().all(axis=1)]\n",
    "    display(df.loc[all_nan_index])"
   ]
  },
  {
   "cell_type": "code",
   "execution_count": null,
   "id": "beb0352c-4e7f-4922-a398-a9f85bf7a4aa",
   "metadata": {},
   "outputs": [],
   "source": [
    "def display_outlier_series(outlier_series_dict):\n",
    "    for variable_name in outlier_series_dict.keys():\n",
    "        print(f'Timestamps of the outliers of \"{variable_name}\":')\n",
    "        print(\"=\"*len(f'Timestamps of the outliers of \"{variable_name}\":')+\"\\n\")  \n",
    "        print(outlier_series_dict[variable_name], \"\\n\")       "
   ]
  },
  {
   "cell_type": "code",
   "execution_count": null,
   "id": "80ed302e-b092-46ce-8289-0d10304c88ea",
   "metadata": {},
   "outputs": [],
   "source": [
    "def replace_outliers_by_NaNs(df, selected_outlier_series_keys, outlier_series_dict):\n",
    "    no_outlier_df = df.copy()\n",
    "    for key in selected_outlier_series_keys:\n",
    "        no_outlier_df.loc[outlier_series_dict[key].index, key] = np.nan\n",
    "    return no_outlier_df"
   ]
  },
  {
   "cell_type": "code",
   "execution_count": null,
   "id": "2f87c801-43a5-4118-9e93-0b797dc6ddef",
   "metadata": {},
   "outputs": [],
   "source": [
    "def display_the_rows_with_missing_value_at_column(column_name, outlier_series_dictionary_of_df, df):\n",
    "    display(df.loc[outlier_series_dictionary_of_df[column_name].index])"
   ]
  },
  {
   "cell_type": "code",
   "execution_count": null,
   "id": "a79367c3-200a-41db-83d4-16fbf98708e2",
   "metadata": {},
   "outputs": [],
   "source": [
    "def impute_missing_numerical_variables_with_linear_interpolation(df, numerical_variables):\n",
    "    clean_df = df.copy()\n",
    "    for variable in numerical_variables:\n",
    "        clean_df[variable+\"_linear\"] = clean_df[variable].interpolate(method=\"linear\")\n",
    "    for variable in numerical_variables:\n",
    "        clean_df.drop([variable], axis=1, inplace=True)\n",
    "        clean_df.rename(columns={variable+\"_linear\": variable}, inplace=True)\n",
    "    return clean_df"
   ]
  },
  {
   "cell_type": "code",
   "execution_count": null,
   "id": "6b57332b-8bf8-47b2-ae1b-4716a32e598c",
   "metadata": {},
   "outputs": [],
   "source": [
    "def impute_missing_categorical_variables_with_nearest_interpolation(df, categorical_variables):\n",
    "    clean_df = df.copy()\n",
    "    for variable in categorical_variables:\n",
    "        clean_df[variable+\"_nearest\"] = clean_df[variable].interpolate(method=\"nearest\")\n",
    "    for variable in categorical_variables:\n",
    "        clean_df.drop([variable], axis=1, inplace=True)\n",
    "        clean_df.rename(columns={variable+\"_nearest\": variable}, inplace=True)\n",
    "    return  clean_df"
   ]
  },
  {
   "cell_type": "markdown",
   "id": "aaaaa174-40cc-426d-9699-609b5d1d302c",
   "metadata": {},
   "source": [
    "# 1. Read the `development` dataset"
   ]
  },
  {
   "cell_type": "code",
   "execution_count": null,
   "id": "f1a0b806-d037-410a-a647-6c9751343d0b",
   "metadata": {},
   "outputs": [],
   "source": [
    "df = pd.read_pickle(data_dir/'weather_dataset_raw_development_columns.pkl')\n",
    "df.head()"
   ]
  },
  {
   "cell_type": "markdown",
   "id": "741712d7-55c5-49d4-a6b7-4ee7741ef829",
   "metadata": {},
   "source": [
    "# 2. Read the outliers of the numerical variables of the `development` dataset "
   ]
  },
  {
   "cell_type": "code",
   "execution_count": null,
   "id": "b1207137-a40a-442a-8685-94cac4af68c6",
   "metadata": {},
   "outputs": [],
   "source": [
    "with open(artifacts_dir/'outlier_series_dict.pkl', 'rb') as f:\n",
    "    outlier_series_dictionary = pickle.load(f)\n",
    "    \n",
    "display_outlier_series(outlier_series_dictionary)"
   ]
  },
  {
   "cell_type": "markdown",
   "id": "910a39b6-a1f8-4477-b4f1-36a25179eaac",
   "metadata": {},
   "source": [
    "# 3. Replace the relevant outliers only, by `NaN`s"
   ]
  },
  {
   "cell_type": "code",
   "execution_count": null,
   "id": "9755f932-2e5f-41f9-b4d7-51c31d5eec9c",
   "metadata": {},
   "outputs": [],
   "source": [
    "relevant_outlier_series_keys = [\"Humidity\", \"Pressure\"] \n",
    "no_outlier_df = replace_outliers_by_NaNs(df, relevant_outlier_series_keys, outlier_series_dictionary)"
   ]
  },
  {
   "cell_type": "code",
   "execution_count": null,
   "id": "f587737a-8419-4e07-a15b-5c09c75ffe09",
   "metadata": {},
   "outputs": [],
   "source": [
    "display_the_rows_with_missing_value_at_column(\"Humidity\", outlier_series_dictionary, no_outlier_df)"
   ]
  },
  {
   "cell_type": "code",
   "execution_count": null,
   "id": "1feac331-81b3-4c9b-8aff-de3099b1d6b7",
   "metadata": {},
   "outputs": [],
   "source": [
    "display_the_rows_with_missing_value_at_column(\"Pressure\", outlier_series_dictionary, no_outlier_df)"
   ]
  },
  {
   "cell_type": "markdown",
   "id": "b6c682bf-82f3-4c69-9149-caba666705f0",
   "metadata": {},
   "source": [
    "# 4. Impute all original and  outlier-generated `NaN`s with suited methods"
   ]
  },
  {
   "cell_type": "markdown",
   "id": "5853e80a-178e-4400-a3a9-f4d09eef9de2",
   "metadata": {},
   "source": [
    "## A. Display the rows with fully missing values"
   ]
  },
  {
   "cell_type": "code",
   "execution_count": null,
   "id": "0a53fbf2-d388-4fa1-a66f-3b3ae6d0758f",
   "metadata": {},
   "outputs": [],
   "source": [
    "display_the_rows_with_fully_missing_values(no_outlier_df)"
   ]
  },
  {
   "cell_type": "markdown",
   "id": "b1fcf467-bdca-4570-b78e-7add7346d0c9",
   "metadata": {},
   "source": [
    "## B. Display the rows with at least one missing value"
   ]
  },
  {
   "cell_type": "code",
   "execution_count": null,
   "id": "3c0d7faa-af0e-4285-a405-7b89e77be938",
   "metadata": {},
   "outputs": [],
   "source": [
    "display_the_rows_with_at_least_one_missing_value(no_outlier_df)"
   ]
  },
  {
   "cell_type": "markdown",
   "id": "67bc3b0f-523d-488c-803e-10129fc675d7",
   "metadata": {},
   "source": [
    "## C. Display the number of missing values per variable"
   ]
  },
  {
   "cell_type": "code",
   "execution_count": null,
   "id": "44e393ef-4f23-4711-ac29-90d0a9c955df",
   "metadata": {},
   "outputs": [],
   "source": [
    "display_the_number_of_missing_values_per_variable(df)"
   ]
  },
  {
   "cell_type": "markdown",
   "id": "e08cddb3-b378-4395-bdc9-9eeab5a36ed4",
   "metadata": {},
   "source": [
    "## D. Display the overall number of missing  values"
   ]
  },
  {
   "cell_type": "code",
   "execution_count": null,
   "id": "b1358895-6695-451c-bc0a-fade413bcc3a",
   "metadata": {},
   "outputs": [],
   "source": [
    "display_the_overall_number_of_missing_values(df)"
   ]
  },
  {
   "cell_type": "markdown",
   "id": "af2052c2-4eea-4989-95de-dfc76a6273fd",
   "metadata": {},
   "source": [
    "## E. Impute `numerical_variables` with the `linear` interpolation method"
   ]
  },
  {
   "cell_type": "code",
   "execution_count": null,
   "id": "c91e58d0-b1e2-4581-a804-036b410c726b",
   "metadata": {},
   "outputs": [],
   "source": [
    "numerical_variables = list(df.columns); numerical_variables.remove(\"Weather\")\n",
    "\n",
    "num_clean_df = impute_missing_numerical_variables_with_linear_interpolation(df, numerical_variables)\n",
    "display_the_number_of_missing_values_per_variable(num_clean_df)"
   ]
  },
  {
   "cell_type": "markdown",
   "id": "4fae0e8a-4215-4d43-94a8-40d9bd5734a2",
   "metadata": {},
   "source": [
    "## F. Impute `Weather` with the `nearest` interpolation method"
   ]
  },
  {
   "cell_type": "code",
   "execution_count": null,
   "id": "1ced9854-f785-4fb2-b08d-17573b39666e",
   "metadata": {},
   "outputs": [],
   "source": [
    "categorical_variables = [\"Weather\"]\n",
    "\n",
    "clean_df = impute_missing_categorical_variables_with_nearest_interpolation(num_clean_df, categorical_variables)\n",
    "display_the_number_of_missing_values_per_variable(clean_df)"
   ]
  },
  {
   "cell_type": "markdown",
   "id": "1ce8db45-fb58-4499-9383-08b316da79a2",
   "metadata": {},
   "source": [
    "## G. Check the `NaN` absence in the `development` dataset"
   ]
  },
  {
   "cell_type": "code",
   "execution_count": null,
   "id": "9db09268-e72c-40c5-8ee9-329e49b65ed1",
   "metadata": {},
   "outputs": [],
   "source": [
    "display_the_overall_number_of_missing_values(clean_df)"
   ]
  },
  {
   "cell_type": "markdown",
   "id": "6423bf54-dc16-47c1-b106-d1533ee77be2",
   "metadata": {},
   "source": [
    "# 5. Save the fully preprocessed `develpment` dataset"
   ]
  },
  {
   "cell_type": "code",
   "execution_count": null,
   "id": "e2c6cb56-b6fc-4fdf-b4a4-b7e89fc08696",
   "metadata": {},
   "outputs": [],
   "source": [
    "clean_df.to_pickle(data_dir / 'clean_weather_dataset.pkl')"
   ]
  },
  {
   "cell_type": "code",
   "execution_count": null,
   "id": "9cd21301-3b5f-41ad-93e9-43372f3c9d68",
   "metadata": {},
   "outputs": [],
   "source": [
    "os.remove(data_dir/'weather_dataset_raw_development_columns.pkl')"
   ]
  },
  {
   "cell_type": "code",
   "execution_count": null,
   "id": "b1c1ca49-76dd-4a2c-85b3-79903c774d23",
   "metadata": {},
   "outputs": [],
   "source": []
  }
 ],
 "metadata": {
  "kernelspec": {
   "display_name": "Python 3 (ipykernel)",
   "language": "python",
   "name": "python3"
  },
  "language_info": {
   "codemirror_mode": {
    "name": "ipython",
    "version": 3
   },
   "file_extension": ".py",
   "mimetype": "text/x-python",
   "name": "python",
   "nbconvert_exporter": "python",
   "pygments_lexer": "ipython3",
   "version": "3.10.13"
  }
 },
 "nbformat": 4,
 "nbformat_minor": 5
}
