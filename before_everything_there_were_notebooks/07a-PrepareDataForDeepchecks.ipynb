{
 "cells": [
  {
   "cell_type": "markdown",
   "metadata": {},
   "source": [
    "# 07a - Prepare data for `Deepchecks`, and run some `Deepcheks` tests"
   ]
  },
  {
   "cell_type": "markdown",
   "metadata": {},
   "source": [
    "__Goal__:\n",
    "\n",
    "1. Read a raw CSV file into a dataframe, e.g. `weather_dataset_raw_development.csv`\n",
    "2. Preprocess it and prepare it for Deepchecks. In particular:\n",
    " - Rename the columns\n",
    " - Remove useless columns: `S_No`, `Location`, `Apparent_temperature`\n",
    " - Preprocess `Timestamp`:\n",
    "   - Convert the `Timestamp` type to `datetime` without `UTC offsets`\n",
    "   - Check if `Timestamp` is in ascending order, if not sort `df` by `Timestamp`\n",
    "   - Remove `Timestamp` duplicates\n",
    "   - Set `Timestamp` as the index of the dataframe\n",
    "   - Add rows of `NaN`s to `df` when a timestamp is missing\n",
    " - Add columns `Year` and `month`;\n",
    " - Replace categories `“snow”` and `“clear”` of the target variable `Weather` by `“no_rain”`;\n",
    "3. Give the preprocessed dataset a name, e.g. `dev`, and save it, e.g. in `deepcheks\\dev\\dev.pkl`."
   ]
  },
  {
   "cell_type": "markdown",
   "metadata": {},
   "source": [
    "### Import"
   ]
  },
  {
   "cell_type": "code",
   "execution_count": 1,
   "metadata": {},
   "outputs": [],
   "source": [
    "import pandas as pd\n",
    "from pathlib import Path"
   ]
  },
  {
   "cell_type": "code",
   "execution_count": 2,
   "metadata": {},
   "outputs": [],
   "source": [
    "data_dir = Path('../data')\n",
    "deepchecks_dir = Path('../deepchecks')\n",
    "deepchecks_dir.mkdir(exist_ok=True)"
   ]
  },
  {
   "cell_type": "markdown",
   "metadata": {},
   "source": [
    "# 1. Read a raw `CSV` file into a dataframe"
   ]
  },
  {
   "cell_type": "code",
   "execution_count": 3,
   "metadata": {},
   "outputs": [
    {
     "name": "stdout",
     "output_type": "stream",
     "text": [
      "<class 'pandas.core.frame.DataFrame'>\n",
      "RangeIndex: 43848 entries, 0 to 43847\n",
      "Data columns (total 11 columns):\n",
      " #   Column                  Non-Null Count  Dtype  \n",
      "---  ------                  --------------  -----  \n",
      " 0   S_No                    43848 non-null  int64  \n",
      " 1   Timestamp               43848 non-null  object \n",
      " 2   Location                43848 non-null  object \n",
      " 3   Temperature_C           43848 non-null  float64\n",
      " 4   Apparent_Temperature_C  43848 non-null  float64\n",
      " 5   Humidity                43848 non-null  float64\n",
      " 6   Wind_speed_kmph         43848 non-null  float64\n",
      " 7   Wind_bearing_degrees    43848 non-null  int64  \n",
      " 8   Visibility_km           43848 non-null  float64\n",
      " 9   Pressure_millibars      43848 non-null  float64\n",
      " 10  Weather_conditions      43843 non-null  object \n",
      "dtypes: float64(6), int64(2), object(3)\n",
      "memory usage: 3.7+ MB\n"
     ]
    }
   ],
   "source": [
    "csv_file_name = 'weather_dataset_raw_development.csv'\n",
    "\n",
    "df = pd.read_csv(data_dir / csv_file_name)\n",
    "df.info()"
   ]
  },
  {
   "cell_type": "markdown",
   "metadata": {},
   "source": [
    "# 2. Preprocess the dataframe "
   ]
  },
  {
   "cell_type": "markdown",
   "metadata": {},
   "source": [
    "## A. Rename the columns"
   ]
  },
  {
   "cell_type": "code",
   "execution_count": 4,
   "metadata": {},
   "outputs": [
    {
     "data": {
      "text/html": [
       "<div>\n",
       "<style scoped>\n",
       "    .dataframe tbody tr th:only-of-type {\n",
       "        vertical-align: middle;\n",
       "    }\n",
       "\n",
       "    .dataframe tbody tr th {\n",
       "        vertical-align: top;\n",
       "    }\n",
       "\n",
       "    .dataframe thead th {\n",
       "        text-align: right;\n",
       "    }\n",
       "</style>\n",
       "<table border=\"1\" class=\"dataframe\">\n",
       "  <thead>\n",
       "    <tr style=\"text-align: right;\">\n",
       "      <th></th>\n",
       "      <th>S_No</th>\n",
       "      <th>Timestamp</th>\n",
       "      <th>Location</th>\n",
       "      <th>Temperature</th>\n",
       "      <th>Apparent_temperature</th>\n",
       "      <th>Humidity</th>\n",
       "      <th>Wind_speed</th>\n",
       "      <th>Wind_bearing</th>\n",
       "      <th>Visibility</th>\n",
       "      <th>Pressure</th>\n",
       "      <th>Weather</th>\n",
       "    </tr>\n",
       "  </thead>\n",
       "  <tbody>\n",
       "    <tr>\n",
       "      <th>0</th>\n",
       "      <td>2881</td>\n",
       "      <td>2006-01-01 00:00:00+00:00</td>\n",
       "      <td>Port of Turku, Finland</td>\n",
       "      <td>1.161111</td>\n",
       "      <td>-3.238889</td>\n",
       "      <td>0.85</td>\n",
       "      <td>16.6152</td>\n",
       "      <td>139</td>\n",
       "      <td>9.9015</td>\n",
       "      <td>1016.15</td>\n",
       "      <td>rain</td>\n",
       "    </tr>\n",
       "  </tbody>\n",
       "</table>\n",
       "</div>"
      ],
      "text/plain": [
       "   S_No                  Timestamp                Location  Temperature  \\\n",
       "0  2881  2006-01-01 00:00:00+00:00  Port of Turku, Finland     1.161111   \n",
       "\n",
       "   Apparent_temperature  Humidity  Wind_speed  Wind_bearing  Visibility  \\\n",
       "0             -3.238889      0.85     16.6152           139      9.9015   \n",
       "\n",
       "   Pressure Weather  \n",
       "0   1016.15    rain  "
      ]
     },
     "execution_count": 4,
     "metadata": {},
     "output_type": "execute_result"
    }
   ],
   "source": [
    "df.rename(columns={\"Temperature_C\": \"Temperature\", \n",
    "                   \"Apparent_Temperature_C\": \"Apparent_temperature\",\n",
    "                   \"Wind_speed_kmph\": \"Wind_speed\",\n",
    "                   \"Wind_bearing_degrees\": \"Wind_bearing\",\n",
    "                   \"Visibility_km\": \"Visibility\",\n",
    "                   \"Pressure_millibars\": \"Pressure\",\n",
    "                   \"Weather_conditions\": \"Weather\"}, inplace=True)\n",
    "df.head(1)"
   ]
  },
  {
   "cell_type": "markdown",
   "metadata": {},
   "source": [
    "## B. Remove useless columns"
   ]
  },
  {
   "cell_type": "code",
   "execution_count": 5,
   "metadata": {},
   "outputs": [
    {
     "data": {
      "text/html": [
       "<div>\n",
       "<style scoped>\n",
       "    .dataframe tbody tr th:only-of-type {\n",
       "        vertical-align: middle;\n",
       "    }\n",
       "\n",
       "    .dataframe tbody tr th {\n",
       "        vertical-align: top;\n",
       "    }\n",
       "\n",
       "    .dataframe thead th {\n",
       "        text-align: right;\n",
       "    }\n",
       "</style>\n",
       "<table border=\"1\" class=\"dataframe\">\n",
       "  <thead>\n",
       "    <tr style=\"text-align: right;\">\n",
       "      <th></th>\n",
       "      <th>Timestamp</th>\n",
       "      <th>Temperature</th>\n",
       "      <th>Humidity</th>\n",
       "      <th>Wind_speed</th>\n",
       "      <th>Wind_bearing</th>\n",
       "      <th>Visibility</th>\n",
       "      <th>Pressure</th>\n",
       "      <th>Weather</th>\n",
       "    </tr>\n",
       "  </thead>\n",
       "  <tbody>\n",
       "    <tr>\n",
       "      <th>0</th>\n",
       "      <td>2006-01-01 00:00:00+00:00</td>\n",
       "      <td>1.161111</td>\n",
       "      <td>0.85</td>\n",
       "      <td>16.6152</td>\n",
       "      <td>139</td>\n",
       "      <td>9.9015</td>\n",
       "      <td>1016.15</td>\n",
       "      <td>rain</td>\n",
       "    </tr>\n",
       "  </tbody>\n",
       "</table>\n",
       "</div>"
      ],
      "text/plain": [
       "                   Timestamp  Temperature  Humidity  Wind_speed  Wind_bearing  \\\n",
       "0  2006-01-01 00:00:00+00:00     1.161111      0.85     16.6152           139   \n",
       "\n",
       "   Visibility  Pressure Weather  \n",
       "0      9.9015   1016.15    rain  "
      ]
     },
     "execution_count": 5,
     "metadata": {},
     "output_type": "execute_result"
    }
   ],
   "source": [
    "df.drop(['S_No'], axis=1, inplace=True)\n",
    "df.drop(['Location'], axis=1, inplace=True)\n",
    "df.drop(['Apparent_temperature'], axis=1, inplace=True)\n",
    "df.head(1)"
   ]
  },
  {
   "cell_type": "markdown",
   "metadata": {},
   "source": [
    "## C. Preprocess `Timestamp`"
   ]
  },
  {
   "cell_type": "markdown",
   "metadata": {},
   "source": [
    "#### C.1. Convert the `Timestamp` type to `datetime` without `UTC offsets`"
   ]
  },
  {
   "cell_type": "code",
   "execution_count": 6,
   "metadata": {},
   "outputs": [],
   "source": [
    "df['Timestamp'] = pd.to_datetime(df['Timestamp'], utc=True)"
   ]
  },
  {
   "cell_type": "markdown",
   "metadata": {},
   "source": [
    "#### C.2. Check if `Timestamp` is in ascending order, if not sort `df` by `Timestamp`"
   ]
  },
  {
   "cell_type": "code",
   "execution_count": 7,
   "metadata": {},
   "outputs": [
    {
     "name": "stdout",
     "output_type": "stream",
     "text": [
      "The dataset `df` is already sorted by `Timestamp`.\n",
      "Length of `df`: 43848\n"
     ]
    }
   ],
   "source": [
    "if df[\"Timestamp\"].is_monotonic_increasing:  # Answer is False, if there are NaNs\n",
    "    print(\"The dataset `df` is already sorted by `Timestamp`.\")\n",
    "else:\n",
    "    df.sort_values(by='Timestamp', inplace=True) # Rows with NaN at \"Timestamp\" column are put at the end\n",
    "df.dropna(subset=[\"Timestamp\"], inplace=True)    # Remove rows with NaN at \"Timestamp\" column \n",
    "print(f\"Length of `df`: {len(df)}\")"
   ]
  },
  {
   "cell_type": "markdown",
   "metadata": {},
   "source": [
    "#### C.3. Remove `Timestamp` duplicates"
   ]
  },
  {
   "cell_type": "code",
   "execution_count": 8,
   "metadata": {},
   "outputs": [
    {
     "name": "stdout",
     "output_type": "stream",
     "text": [
      "Length of `df`: 43824\n"
     ]
    }
   ],
   "source": [
    "df = df.drop_duplicates(subset=[\"Timestamp\"], keep=\"last\") # We keep the last row of the subset of duplicated timestamps\n",
    "print(f\"Length of `df`: {len(df)}\")"
   ]
  },
  {
   "cell_type": "markdown",
   "metadata": {},
   "source": [
    "#### C.4 Set `Timestamp` as the index of `df`"
   ]
  },
  {
   "cell_type": "code",
   "execution_count": 9,
   "metadata": {},
   "outputs": [],
   "source": [
    "#df.set_index('Timestamp', inplace=True)"
   ]
  },
  {
   "cell_type": "markdown",
   "metadata": {},
   "source": [
    "#### C5. Add rows of `NaN`s to `df` when a timestamp is missing"
   ]
  },
  {
   "cell_type": "code",
   "execution_count": 10,
   "metadata": {},
   "outputs": [],
   "source": [
    "#df_min_timestamp = df.index.min()\n",
    "#df_max_timestamp = df.index.max()\n",
    "#print(f'Minimum index of \"df\": {df_min_timestamp} \\nMaximum index of \"df\": {df_max_timestamp}')"
   ]
  },
  {
   "cell_type": "code",
   "execution_count": 11,
   "metadata": {},
   "outputs": [],
   "source": [
    "# regular_timestamp_range = pd.date_range(start=df_min_timestamp, end=df_max_timestamp,freq='H')\n",
    "# print(f\"Length of `df`: {len(df)}\\nLength of `regular_timestamp_range`: {len(regular_timestamp_range)}\")\n",
    "\n",
    "# diff = len(regular_timestamp_range)-len(df)\n",
    "# if diff == 0:\n",
    "#     print(\"\\nThere were no missing timestamp in `df`!\")\n",
    "# else:\n",
    "#     print(f\"\\nThere were {diff} missing timestamps in `df`!\")"
   ]
  },
  {
   "cell_type": "code",
   "execution_count": 12,
   "metadata": {},
   "outputs": [],
   "source": [
    "# df = df.reindex(regular_timestamp_range, copy=True) # The  resulting df as rows of \"NaN\"s when a timestamp is missing\n",
    "# print(f\"Length of `df`: {len(df)}\")"
   ]
  },
  {
   "cell_type": "markdown",
   "metadata": {},
   "source": [
    "## D. Add columns `Year` and `Month`"
   ]
  },
  {
   "cell_type": "code",
   "execution_count": 13,
   "metadata": {},
   "outputs": [
    {
     "data": {
      "text/html": [
       "<div>\n",
       "<style scoped>\n",
       "    .dataframe tbody tr th:only-of-type {\n",
       "        vertical-align: middle;\n",
       "    }\n",
       "\n",
       "    .dataframe tbody tr th {\n",
       "        vertical-align: top;\n",
       "    }\n",
       "\n",
       "    .dataframe thead th {\n",
       "        text-align: right;\n",
       "    }\n",
       "</style>\n",
       "<table border=\"1\" class=\"dataframe\">\n",
       "  <thead>\n",
       "    <tr style=\"text-align: right;\">\n",
       "      <th></th>\n",
       "      <th>Timestamp</th>\n",
       "      <th>Temperature</th>\n",
       "      <th>Humidity</th>\n",
       "      <th>Wind_speed</th>\n",
       "      <th>Wind_bearing</th>\n",
       "      <th>Visibility</th>\n",
       "      <th>Pressure</th>\n",
       "      <th>Weather</th>\n",
       "      <th>Year</th>\n",
       "      <th>Month</th>\n",
       "    </tr>\n",
       "  </thead>\n",
       "  <tbody>\n",
       "    <tr>\n",
       "      <th>0</th>\n",
       "      <td>2006-01-01 00:00:00+00:00</td>\n",
       "      <td>1.161111</td>\n",
       "      <td>0.85</td>\n",
       "      <td>16.6152</td>\n",
       "      <td>139</td>\n",
       "      <td>9.9015</td>\n",
       "      <td>1016.15</td>\n",
       "      <td>rain</td>\n",
       "      <td>2006</td>\n",
       "      <td>1</td>\n",
       "    </tr>\n",
       "  </tbody>\n",
       "</table>\n",
       "</div>"
      ],
      "text/plain": [
       "                  Timestamp  Temperature  Humidity  Wind_speed  Wind_bearing  \\\n",
       "0 2006-01-01 00:00:00+00:00     1.161111      0.85     16.6152           139   \n",
       "\n",
       "   Visibility  Pressure Weather  Year  Month  \n",
       "0      9.9015   1016.15    rain  2006      1  "
      ]
     },
     "execution_count": 13,
     "metadata": {},
     "output_type": "execute_result"
    }
   ],
   "source": [
    "# df[\"Year\"] = pd.Series(df.index).dt.year.to_numpy()\n",
    "# df[\"Month\"] = pd.Series(df.index).dt.month.to_numpy()\n",
    "df[\"Year\"] = df[\"Timestamp\"].dt.year\n",
    "df[\"Month\"] = df[\"Timestamp\"].dt.month\n",
    "df.head(1)"
   ]
  },
  {
   "cell_type": "markdown",
   "metadata": {},
   "source": [
    "### E. Replace categories `“snow”` and `“clear”` of the target variable `Weather` by `“no_rain”`"
   ]
  },
  {
   "cell_type": "code",
   "execution_count": 14,
   "metadata": {},
   "outputs": [],
   "source": [
    "df[\"Weather\"] = df[\"Weather\"].replace({\"snow\": \"no_rain\", \"clear\": \"no_rain\"})"
   ]
  },
  {
   "cell_type": "markdown",
   "metadata": {},
   "source": [
    "# 3. Give the preprocessed dataset a name and save it"
   ]
  },
  {
   "cell_type": "code",
   "execution_count": 15,
   "metadata": {},
   "outputs": [],
   "source": [
    "preprocessed_dataset_name = \"dev\"\n",
    "deepchecks_subdir = deepchecks_dir / preprocessed_dataset_name\n",
    "deepchecks_subdir.mkdir(exist_ok=True)\n",
    "\n",
    "df.to_pickle(deepchecks_subdir / (preprocessed_dataset_name+\".pkl\"))"
   ]
  },
  {
   "cell_type": "code",
   "execution_count": null,
   "metadata": {},
   "outputs": [],
   "source": []
  },
  {
   "cell_type": "code",
   "execution_count": null,
   "metadata": {},
   "outputs": [],
   "source": []
  }
 ],
 "metadata": {
  "kernelspec": {
   "display_name": "Python 3 (ipykernel)",
   "language": "python",
   "name": "python3"
  },
  "language_info": {
   "codemirror_mode": {
    "name": "ipython",
    "version": 3
   },
   "file_extension": ".py",
   "mimetype": "text/x-python",
   "name": "python",
   "nbconvert_exporter": "python",
   "pygments_lexer": "ipython3",
   "version": "3.10.13"
  }
 },
 "nbformat": 4,
 "nbformat_minor": 4
}
