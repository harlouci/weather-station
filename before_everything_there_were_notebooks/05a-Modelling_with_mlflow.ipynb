{
 "cells": [
  {
   "cell_type": "markdown",
   "id": "be68fa4a-9012-4826-a75d-0416c1844c7c",
   "metadata": {},
   "source": [
    "# 05a - Modelling with mlflow"
   ]
  },
  {
   "cell_type": "markdown",
   "id": "d812e960-3d55-4b1c-a38c-7e189c70cd2b",
   "metadata": {},
   "source": [
    "__Goal__: Add `mlflow` to a simpliefied version of notebook `04a`. "
   ]
  },
  {
   "cell_type": "markdown",
   "id": "6d4c9d0f-06da-48cc-8389-a991a7ea4ce2",
   "metadata": {},
   "source": [
    "### Import"
   ]
  },
  {
   "cell_type": "code",
   "execution_count": 1,
   "id": "f5f14228-7a03-478c-955b-c3455727df4b",
   "metadata": {},
   "outputs": [],
   "source": [
    "%load_ext autoreload\n",
    "%autoreload 2\n",
    "import joblib\n",
    "import pandas as pd\n",
    "import warnings \n",
    "warnings.filterwarnings('ignore')\n",
    "from pathlib import Path\n",
    "from pprint import pprint\n",
    "\n",
    "from sklearn.ensemble import RandomForestClassifier\n",
    "from sklearn.linear_model import LogisticRegression\n",
    "from sklearn.metrics import (\n",
    "    accuracy_score,\n",
    "    f1_score,\n",
    "    precision_score,\n",
    "    recall_score,\n",
    ")\n",
    "from sklearn.svm import LinearSVC, SVC\n",
    "from sklearn.tree import DecisionTreeClassifier\n",
    "\n",
    "from weather.transformers.skl_transformer_makers import (\n",
    "    FeatureNames,\n",
    "    TargetChoice,\n",
    "    make_dataset_ingestion_transformer,\n",
    "    make_target_creation_transformer,\n",
    "    make_remove_horizonless_rows_transformer, \n",
    "    make_predictors_feature_engineering_transformer,\n",
    ")\n",
    "from weather.data.prep_datasets import (\n",
    "    prepare_binary_classification_tabular_data, \n",
    "    transform_dataset_and_create_target,\n",
    ")\n",
    "from weather.helpers.utils import camel_to_snake\n",
    "from weather.models.skl_train_models import (\n",
    "    #score_evaluation,\n",
    "    score_evaluation_dict, #TODO: remove  it\n",
    "    #print_score_dict_results,\n",
    "    #confusion_matrix_evaluation,\n",
    "    #confusion_matrix_display,\n",
    ")\n",
    "\n",
    "from weather.models.skl_tracked_train_models import Experiment\n",
    "from weather.models.skl_tracked_train_models import train_and_evaluate_with_tracking\n",
    "from weather.models.skl_train_models import train_and_evaluate"
   ]
  },
  {
   "cell_type": "markdown",
   "id": "10b19143-af9d-4b85-8fdb-52f0b4536bc6",
   "metadata": {},
   "source": [
    "### Set the directory paths"
   ]
  },
  {
   "cell_type": "code",
   "execution_count": 2,
   "id": "31e47fa1-30d6-411f-8281-fed699d5d1e1",
   "metadata": {},
   "outputs": [],
   "source": [
    "data_dir =  Path.cwd().parent / \"data\"\n",
    "models_dir = Path.cwd().parent / \"models\"\n",
    "models_dir.mkdir(exist_ok=True)"
   ]
  },
  {
   "cell_type": "markdown",
   "id": "3d73004e-6e11-49e5-aab9-6b917c4c8be2",
   "metadata": {},
   "source": [
    "# 1. Prepare the `dataset` for modelization"
   ]
  },
  {
   "cell_type": "markdown",
   "id": "d74e823b-30ee-453b-8931-cc304e059ae4",
   "metadata": {},
   "source": [
    "### Select the predictors and set the target"
   ]
  },
  {
   "cell_type": "code",
   "execution_count": 3,
   "id": "61482ed5-956f-4b18-9efa-469a2fcd1ad0",
   "metadata": {},
   "outputs": [],
   "source": [
    "# Select the predictors\n",
    "feature_names = FeatureNames(\n",
    "    numerical=[\n",
    "        \"Temperature\",\n",
    "        \"Humidity\",\n",
    "        \"Wind_speed\",\n",
    "        \"Wind_bearing\",\n",
    "        \"Visibility\",\n",
    "        \"Pressure\",\n",
    "    ],\n",
    "    categorical=[],  # Add or remove \"Weather\", \"Month\" to the predictors\n",
    ")\n",
    "\n",
    "# Set \"Weather\" within 4 hours as target\n",
    "target_name = \"Weather\"\n",
    "horizon = 4\n",
    "target_choice = TargetChoice(target_name, horizon) "
   ]
  },
  {
   "cell_type": "markdown",
   "id": "14540f18-da50-4d32-b1eb-71515116d2f0",
   "metadata": {},
   "source": [
    "### Set the dataset transformers"
   ]
  },
  {
   "cell_type": "code",
   "execution_count": 4,
   "id": "05033867-8cb3-499b-92a3-12d33f0138b9",
   "metadata": {},
   "outputs": [],
   "source": [
    "oldnames_newnames_dict = {\n",
    "    \"Temperature_C\": \"Temperature\", \n",
    "    \"Apparent_Temperature_C\": \"Apparent_temperature\",\n",
    "    \"Wind_speed_kmph\": \"Wind_speed\",\n",
    "    \"Wind_bearing_degrees\": \"Wind_bearing\",\n",
    "    \"Visibility_km\": \"Visibility\",\n",
    "    \"Pressure_millibars\": \"Pressure\",\n",
    "    \"Weather_conditions\": \"Weather\"}\n",
    "\n",
    "dataset_ingestion_transformer = make_dataset_ingestion_transformer(target_choice, oldnames_newnames_dict)\n",
    "remove_horizonless_rows_transformer = make_remove_horizonless_rows_transformer(target_choice)\n",
    "target_creation_transformer = make_target_creation_transformer(target_choice)                       \n",
    "predictors_feature_engineering_transformer = make_predictors_feature_engineering_transformer(feature_names, target_choice)"
   ]
  },
  {
   "cell_type": "markdown",
   "id": "e0d6299f-c160-4294-95f1-6d919513e5ea",
   "metadata": {},
   "source": [
    "### Read the data"
   ]
  },
  {
   "cell_type": "code",
   "execution_count": 5,
   "id": "0e868205-9670-4633-b7b3-60e62821b4ed",
   "metadata": {},
   "outputs": [
    {
     "data": {
      "text/html": [
       "<div>\n",
       "<style scoped>\n",
       "    .dataframe tbody tr th:only-of-type {\n",
       "        vertical-align: middle;\n",
       "    }\n",
       "\n",
       "    .dataframe tbody tr th {\n",
       "        vertical-align: top;\n",
       "    }\n",
       "\n",
       "    .dataframe thead th {\n",
       "        text-align: right;\n",
       "    }\n",
       "</style>\n",
       "<table border=\"1\" class=\"dataframe\">\n",
       "  <thead>\n",
       "    <tr style=\"text-align: right;\">\n",
       "      <th></th>\n",
       "      <th>S_No</th>\n",
       "      <th>Timestamp</th>\n",
       "      <th>Location</th>\n",
       "      <th>Temperature_C</th>\n",
       "      <th>Apparent_Temperature_C</th>\n",
       "      <th>Humidity</th>\n",
       "      <th>Wind_speed_kmph</th>\n",
       "      <th>Wind_bearing_degrees</th>\n",
       "      <th>Visibility_km</th>\n",
       "      <th>Pressure_millibars</th>\n",
       "      <th>Weather_conditions</th>\n",
       "    </tr>\n",
       "  </thead>\n",
       "  <tbody>\n",
       "    <tr>\n",
       "      <th>0</th>\n",
       "      <td>2881</td>\n",
       "      <td>2006-01-01 00:00:00+00:00</td>\n",
       "      <td>Port of Turku, Finland</td>\n",
       "      <td>1.161111</td>\n",
       "      <td>-3.238889</td>\n",
       "      <td>0.85</td>\n",
       "      <td>16.6152</td>\n",
       "      <td>139</td>\n",
       "      <td>9.9015</td>\n",
       "      <td>1016.15</td>\n",
       "      <td>rain</td>\n",
       "    </tr>\n",
       "  </tbody>\n",
       "</table>\n",
       "</div>"
      ],
      "text/plain": [
       "   S_No                  Timestamp                Location  Temperature_C  \\\n",
       "0  2881  2006-01-01 00:00:00+00:00  Port of Turku, Finland       1.161111   \n",
       "\n",
       "   Apparent_Temperature_C  Humidity  Wind_speed_kmph  Wind_bearing_degrees  \\\n",
       "0               -3.238889      0.85          16.6152                   139   \n",
       "\n",
       "   Visibility_km  Pressure_millibars Weather_conditions  \n",
       "0         9.9015             1016.15               rain  "
      ]
     },
     "execution_count": 5,
     "metadata": {},
     "output_type": "execute_result"
    }
   ],
   "source": [
    "df = pd.read_csv(data_dir / 'weather_dataset_raw_development.csv')\n",
    "df.head(1)"
   ]
  },
  {
   "cell_type": "markdown",
   "id": "4394929a-f30d-401c-839d-fb4cf9957c82",
   "metadata": {},
   "source": [
    "### Transform the dataset and split it"
   ]
  },
  {
   "cell_type": "code",
   "execution_count": 6,
   "id": "55323804-bf99-4d98-9415-f01fd1e9cc60",
   "metadata": {
    "scrolled": true
   },
   "outputs": [],
   "source": [
    "# Three transformers: \"dataset__ingestion_transformer\", \"remove_horizonless_rows_transformer\", \"target_creation_transformer\"\n",
    "transformed_data, created_target = transform_dataset_and_create_target(\n",
    "    df,   \n",
    "    dataset_ingestion_transformer,\n",
    "    remove_horizonless_rows_transformer,\n",
    "    target_creation_transformer,\n",
    ")\n",
    "\n",
    "# Split the dataset\n",
    "dataset = prepare_binary_classification_tabular_data(\n",
    "    transformed_data,\n",
    "    created_target,\n",
    ")"
   ]
  },
  {
   "cell_type": "markdown",
   "id": "5bcc1a49-0084-4a9d-9c6b-e6888b63a74e",
   "metadata": {},
   "source": [
    "### Define candidate models"
   ]
  },
  {
   "cell_type": "code",
   "execution_count": 7,
   "id": "ca2e57b0-280d-43b1-9e12-39155acd941b",
   "metadata": {},
   "outputs": [],
   "source": [
    "random_state = 1234\n",
    "\n",
    "models = {\n",
    "    \"DecisionTree\": {\n",
    "        \"model\": DecisionTreeClassifier(max_depth=4, random_state=random_state),\n",
    "    },\n",
    "    \"LinearSvc\": {\n",
    "        \"model\": LinearSVC(max_iter=10_000, random_state=random_state),\n",
    "    },\n",
    "    \"LogisticRegression\": {\n",
    "        \"model\": LogisticRegression(),\n",
    "    },\n",
    "    \"RandomForest\": {\n",
    "        \"model\": RandomForestClassifier(max_depth=4, random_state=random_state),\n",
    "        #\"param_grid\": {\"model__n_estimators\": [5, 10], \"model__max_depth\": [None, 5, 10]},\n",
    "    },\n",
    "    \"SvcWithRbfKernel\": {\n",
    "        \"model\": SVC(kernel=\"rbf\", gamma=0.7, random_state=0),\n",
    "    },\n",
    "}"
   ]
  },
  {
   "cell_type": "markdown",
   "id": "d3f3b31d-9c7b-4e5c-8677-6e7778ddef0f",
   "metadata": {},
   "source": [
    "# 1. Modeling without mlflow"
   ]
  },
  {
   "cell_type": "code",
   "execution_count": 8,
   "id": "e5d94bd3-62e4-46a4-aae7-59daa5a0fc7d",
   "metadata": {},
   "outputs": [],
   "source": [
    "# classifiers_list = [LogisticRegression, LinearSVC, DecisionTreeClassifier, RandomForestClassifier]\n",
    "# results = train_and_evaluate(dataset, predictors_feature_engineering_transformer, classifiers_list, f1_score)\n",
    "# pprint(results, sort_dicts=False)"
   ]
  },
  {
   "cell_type": "markdown",
   "id": "227eb3a8-b154-4d64-95f9-d85fb89794f2",
   "metadata": {},
   "source": [
    "# 2. Modeling with mlflow\n",
    "\n",
    "__WARNING__: As the method `.fit()` has already been called on the pipeline `predictors_feature_engineering_transformer` by section `1.` of this notebook within `train_and_evaluate()`,  it is redundantly called here for a second time in `train_and_evaluate_with_tracking()` but this does not affect the result."
   ]
  },
  {
   "cell_type": "code",
   "execution_count": 9,
   "id": "55b78596-acc9-4d39-96f2-442e4a51ad53",
   "metadata": {},
   "outputs": [],
   "source": [
    "MLFlow_URI = 'http://127.0.0.1:5000'\n",
    "experiment_name = \"test_of_four_classifiers_bis\"\n",
    "\n",
    "experiment = Experiment(MLFlow_URI, experiment_name)"
   ]
  },
  {
   "cell_type": "code",
   "execution_count": 11,
   "id": "11fab2b6-1216-47b2-bb75-22495538ca9f",
   "metadata": {},
   "outputs": [
    {
     "data": {
      "application/vnd.jupyter.widget-view+json": {
       "model_id": "de1881f211e24723b11a03fa65958908",
       "version_major": 2,
       "version_minor": 0
      },
      "text/plain": [
       "Downloading artifacts:   0%|          | 0/1 [00:00<?, ?it/s]"
      ]
     },
     "metadata": {},
     "output_type": "display_data"
    },
    {
     "data": {
      "application/vnd.jupyter.widget-view+json": {
       "model_id": "bc7ccfac87df441f844a03d9b9dbacb2",
       "version_major": 2,
       "version_minor": 0
      },
      "text/plain": [
       "Downloading artifacts:   0%|          | 0/1 [00:00<?, ?it/s]"
      ]
     },
     "metadata": {},
     "output_type": "display_data"
    },
    {
     "name": "stderr",
     "output_type": "stream",
     "text": [
      "2024/02/08 11:19:04 WARNING mlflow.utils.environment: Encountered an unexpected error while inferring pip requirements (model URI: C:\\Users\\ibanh\\AppData\\Local\\Temp\\tmpyecj1gk4\\model, flavor: python_function), fall back to return ['cloudpickle==2.2.1']. Set logging level to DEBUG to see the full traceback.\n"
     ]
    },
    {
     "data": {
      "application/vnd.jupyter.widget-view+json": {
       "model_id": "2c5fce967e9f4e8c8b0bded5600ad02f",
       "version_major": 2,
       "version_minor": 0
      },
      "text/plain": [
       "Downloading artifacts:   0%|          | 0/1 [00:00<?, ?it/s]"
      ]
     },
     "metadata": {},
     "output_type": "display_data"
    },
    {
     "data": {
      "application/vnd.jupyter.widget-view+json": {
       "model_id": "510c73948d504787aff5b53b44fe0dd2",
       "version_major": 2,
       "version_minor": 0
      },
      "text/plain": [
       "Downloading artifacts:   0%|          | 0/1 [00:00<?, ?it/s]"
      ]
     },
     "metadata": {},
     "output_type": "display_data"
    },
    {
     "name": "stderr",
     "output_type": "stream",
     "text": [
      "2024/02/08 11:19:11 WARNING mlflow.utils.environment: Encountered an unexpected error while inferring pip requirements (model URI: C:\\Users\\ibanh\\AppData\\Local\\Temp\\tmp46f7qkaa\\model, flavor: python_function), fall back to return ['cloudpickle==2.2.1']. Set logging level to DEBUG to see the full traceback.\n"
     ]
    },
    {
     "data": {
      "application/vnd.jupyter.widget-view+json": {
       "model_id": "60b7378c34354ca1abeb4c3ea823b946",
       "version_major": 2,
       "version_minor": 0
      },
      "text/plain": [
       "Downloading artifacts:   0%|          | 0/1 [00:00<?, ?it/s]"
      ]
     },
     "metadata": {},
     "output_type": "display_data"
    },
    {
     "data": {
      "application/vnd.jupyter.widget-view+json": {
       "model_id": "597363ca82194994a38f33fa3d25193c",
       "version_major": 2,
       "version_minor": 0
      },
      "text/plain": [
       "Downloading artifacts:   0%|          | 0/1 [00:00<?, ?it/s]"
      ]
     },
     "metadata": {},
     "output_type": "display_data"
    },
    {
     "name": "stderr",
     "output_type": "stream",
     "text": [
      "2024/02/08 11:19:18 WARNING mlflow.utils.environment: Encountered an unexpected error while inferring pip requirements (model URI: C:\\Users\\ibanh\\AppData\\Local\\Temp\\tmpkklkle14\\model, flavor: python_function), fall back to return ['cloudpickle==2.2.1']. Set logging level to DEBUG to see the full traceback.\n"
     ]
    },
    {
     "data": {
      "application/vnd.jupyter.widget-view+json": {
       "model_id": "10101a6ccce14c4dbdf4829760aa1a45",
       "version_major": 2,
       "version_minor": 0
      },
      "text/plain": [
       "Downloading artifacts:   0%|          | 0/1 [00:00<?, ?it/s]"
      ]
     },
     "metadata": {},
     "output_type": "display_data"
    },
    {
     "data": {
      "application/vnd.jupyter.widget-view+json": {
       "model_id": "18d3284bd60042daace68fd40e1312a3",
       "version_major": 2,
       "version_minor": 0
      },
      "text/plain": [
       "Downloading artifacts:   0%|          | 0/1 [00:00<?, ?it/s]"
      ]
     },
     "metadata": {},
     "output_type": "display_data"
    },
    {
     "name": "stderr",
     "output_type": "stream",
     "text": [
      "2024/02/08 11:19:38 WARNING mlflow.utils.environment: Encountered an unexpected error while inferring pip requirements (model URI: C:\\Users\\ibanh\\AppData\\Local\\Temp\\tmpzwpyqfhd\\model, flavor: python_function), fall back to return ['cloudpickle==2.2.1']. Set logging level to DEBUG to see the full traceback.\n"
     ]
    }
   ],
   "source": [
    "classifiers_list = [LogisticRegression, LinearSVC, DecisionTreeClassifier, RandomForestClassifier]\n",
    "classifiers_list = [LogisticRegression, LinearSVC, DecisionTreeClassifier, RandomForestClassifier]\n",
    "train_and_evaluate_with_tracking(dataset, predictors_feature_engineering_transformer, classifiers_list, f1_score, experiment)"
   ]
  },
  {
   "cell_type": "code",
   "execution_count": null,
   "id": "2ba62da8-0874-409f-bf38-d8128b02ce49",
   "metadata": {},
   "outputs": [],
   "source": []
  }
 ],
 "metadata": {
  "kernelspec": {
   "display_name": "Python 3 (ipykernel)",
   "language": "python",
   "name": "python3"
  },
  "language_info": {
   "codemirror_mode": {
    "name": "ipython",
    "version": 3
   },
   "file_extension": ".py",
   "mimetype": "text/x-python",
   "name": "python",
   "nbconvert_exporter": "python",
   "pygments_lexer": "ipython3",
   "version": "3.10.13"
  }
 },
 "nbformat": 4,
 "nbformat_minor": 5
}
