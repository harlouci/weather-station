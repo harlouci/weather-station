{
 "cells": [
  {
   "cell_type": "markdown",
   "id": "f023f866-a8c2-4970-8734-48d6262e3ca8",
   "metadata": {},
   "source": [
    "# 07b - Check a dataframe with `Deepchecks` testing"
   ]
  },
  {
   "cell_type": "markdown",
   "id": "206907f5-dd50-4c8d-bfc7-5fa633f0a4bf",
   "metadata": {},
   "source": [
    "__Goal__:\n",
    "\n",
    "1. Load a dataframe\n",
    "2. Check the dataframe with `Deepchecks`"
   ]
  },
  {
   "cell_type": "markdown",
   "id": "b7d72dbd-c772-4d8a-a115-a8e02f7f876b",
   "metadata": {},
   "source": [
    "### Import"
   ]
  },
  {
   "cell_type": "code",
   "execution_count": 10,
   "id": "538a3bd5-eeb0-491c-ac68-b7fff7b6df83",
   "metadata": {},
   "outputs": [],
   "source": [
    "import pandas as pd\n",
    "import shutil\n",
    "from pathlib import Path\n",
    "\n",
    "from deepchecks.tabular import Dataset\n",
    "from deepchecks.tabular.checks import OutlierSampleDetection\n",
    "from deepchecks.tabular.suites import data_integrity"
   ]
  },
  {
   "cell_type": "code",
   "execution_count": 2,
   "id": "9ab35acb-7a66-4e4a-9519-d999163457a5",
   "metadata": {},
   "outputs": [],
   "source": [
    "deepchecks_dir = Path('../deepchecks')\n",
    "preprocessed_dataset_name = \"dev\"\n",
    "deepchecks_subdir = deepchecks_dir / preprocessed_dataset_name"
   ]
  },
  {
   "cell_type": "code",
   "execution_count": 3,
   "id": "d24fa2ed-a098-425a-b9bb-218d234e47c9",
   "metadata": {},
   "outputs": [
    {
     "data": {
      "text/plain": [
       "WindowsPath('../deepchecks/dev/dev.pkl')"
      ]
     },
     "execution_count": 3,
     "metadata": {},
     "output_type": "execute_result"
    }
   ],
   "source": [
    "deepchecks_subdir / (preprocessed_dataset_name+\".pkl\")"
   ]
  },
  {
   "cell_type": "markdown",
   "id": "6d091a22-db9a-4e4a-a66f-efa2c1c7b003",
   "metadata": {},
   "source": [
    "# 1. Load a dataset"
   ]
  },
  {
   "cell_type": "code",
   "execution_count": 4,
   "id": "f7213582-bcc9-46de-8ac6-e9ac86e38f11",
   "metadata": {},
   "outputs": [
    {
     "data": {
      "text/html": [
       "<div>\n",
       "<style scoped>\n",
       "    .dataframe tbody tr th:only-of-type {\n",
       "        vertical-align: middle;\n",
       "    }\n",
       "\n",
       "    .dataframe tbody tr th {\n",
       "        vertical-align: top;\n",
       "    }\n",
       "\n",
       "    .dataframe thead th {\n",
       "        text-align: right;\n",
       "    }\n",
       "</style>\n",
       "<table border=\"1\" class=\"dataframe\">\n",
       "  <thead>\n",
       "    <tr style=\"text-align: right;\">\n",
       "      <th></th>\n",
       "      <th>Timestamp</th>\n",
       "      <th>Temperature</th>\n",
       "      <th>Humidity</th>\n",
       "      <th>Wind_speed</th>\n",
       "      <th>Wind_bearing</th>\n",
       "      <th>Visibility</th>\n",
       "      <th>Pressure</th>\n",
       "      <th>Weather</th>\n",
       "      <th>Year</th>\n",
       "      <th>Month</th>\n",
       "    </tr>\n",
       "  </thead>\n",
       "  <tbody>\n",
       "    <tr>\n",
       "      <th>0</th>\n",
       "      <td>2006-01-01 00:00:00+00:00</td>\n",
       "      <td>1.161111</td>\n",
       "      <td>0.85</td>\n",
       "      <td>16.6152</td>\n",
       "      <td>139</td>\n",
       "      <td>9.9015</td>\n",
       "      <td>1016.15</td>\n",
       "      <td>rain</td>\n",
       "      <td>2006</td>\n",
       "      <td>1</td>\n",
       "    </tr>\n",
       "  </tbody>\n",
       "</table>\n",
       "</div>"
      ],
      "text/plain": [
       "                  Timestamp  Temperature  Humidity  Wind_speed  Wind_bearing  \\\n",
       "0 2006-01-01 00:00:00+00:00     1.161111      0.85     16.6152           139   \n",
       "\n",
       "   Visibility  Pressure Weather  Year  Month  \n",
       "0      9.9015   1016.15    rain  2006      1  "
      ]
     },
     "execution_count": 4,
     "metadata": {},
     "output_type": "execute_result"
    }
   ],
   "source": [
    "df = pd.read_pickle(deepchecks_subdir / (preprocessed_dataset_name+\".pkl\"))\n",
    "df.head(1)"
   ]
  },
  {
   "cell_type": "markdown",
   "id": "6470059c-a8f7-420e-ba5d-601a2fbde82b",
   "metadata": {},
   "source": [
    "# 2. Check the dataframe with `Deepchecks`"
   ]
  },
  {
   "cell_type": "markdown",
   "id": "2bb14e8d-3c22-4aec-9c47-f417113f4b99",
   "metadata": {},
   "source": [
    "### A. Define a Dataset object"
   ]
  },
  {
   "cell_type": "code",
   "execution_count": 5,
   "id": "d5409d94-8cd9-47ac-8d79-222333c6b318",
   "metadata": {},
   "outputs": [],
   "source": [
    "label = \"Weather\"\n",
    "features = [\"Temperature\", \"Humidity\", \"Wind_speed\",  \"Wind_bearing\", \"Visibility\", \"Pressure\", \"Year\", \"Month\"]\n",
    "cat_features = [\"Year\", \"Month\"] # must be a subset of features\n",
    "index_name = \"Timestamp\"\n",
    "name=\"Dev\" \n",
    "label_type = \"binary\"\n",
    "set_datetime_from_dataframe_index = True\n",
    "ds = Dataset(\n",
    "    df,\n",
    "    label=label,\n",
    "    features=features,\n",
    "    cat_features=cat_features,\n",
    "    index_name=index_name,\n",
    "    set_datetime_from_dataframe_index=set_datetime_from_dataframe_index,\n",
    "    label_type=label_type,\n",
    ")"
   ]
  },
  {
   "cell_type": "markdown",
   "id": "6ff74e01-2338-4dc0-81ce-db50893793ff",
   "metadata": {},
   "source": [
    "### B. Run the  full suite of `Deepchecks`"
   ]
  },
  {
   "cell_type": "code",
   "execution_count": 6,
   "id": "71de0e7f-4661-4343-a4f3-0468380d11e3",
   "metadata": {},
   "outputs": [],
   "source": [
    "# from deepchecks.tabular.suites import full_suite\n",
    "\n",
    "# suite = full_suite()\n",
    "\n",
    "# suite.run(train_dataset=ds_train, test_dataset=ds_test, model=rf_clf)"
   ]
  },
  {
   "cell_type": "markdown",
   "id": "d3a88ab1-3c5e-4217-8c34-52c822f6f8cf",
   "metadata": {},
   "source": [
    "### C. Run the integrity suite of `Deepcheks`"
   ]
  },
  {
   "cell_type": "markdown",
   "id": "f2932865-8110-4dae-afcf-78d186669b43",
   "metadata": {},
   "source": [
    "#### Set and edit the suite:"
   ]
  },
  {
   "cell_type": "code",
   "execution_count": 7,
   "id": "7b155d8b-40d3-4995-9115-9e237700f7d0",
   "metadata": {},
   "outputs": [
    {
     "data": {
      "text/plain": [
       "Data Integrity Suite: [\n",
       "\t0: IsSingleValue\n",
       "\t\tConditions:\n",
       "\t\t\t0: Does not contain only a single value\n",
       "\t1: SpecialCharacters\n",
       "\t\tConditions:\n",
       "\t\t\t0: Ratio of samples containing solely special character is less or equal to 0.1%\n",
       "\t2: MixedNulls\n",
       "\t\tConditions:\n",
       "\t\t\t0: Number of different null types is less or equal to 1\n",
       "\t3: MixedDataTypes\n",
       "\t\tConditions:\n",
       "\t\t\t0: Rare data types in column are either more than 10% or less than 1% of the data\n",
       "\t4: StringMismatch\n",
       "\t\tConditions:\n",
       "\t\t\t0: No string variants\n",
       "\t5: DataDuplicates\n",
       "\t\tConditions:\n",
       "\t\t\t0: Duplicate data ratio is less or equal to 5%\n",
       "\t6: StringLengthOutOfBounds\n",
       "\t\tConditions:\n",
       "\t\t\t0: Ratio of string length outliers is less or equal to 0%\n",
       "\t7: ConflictingLabels\n",
       "\t\tConditions:\n",
       "\t\t\t0: Ambiguous sample ratio is less or equal to 0%\n",
       "\t8: OutlierSampleDetection\n",
       "\t9: FeatureLabelCorrelation(ppscore_params={}, random_state=42)\n",
       "\t\tConditions:\n",
       "\t\t\t0: Features' Predictive Power Score is less than 0.8\n",
       "\t10: FeatureFeatureCorrelation\n",
       "\t\tConditions:\n",
       "\t\t\t0: Not more than 0 pairs are correlated above 0.9\n",
       "\t11: IdentifierLabelCorrelation(ppscore_params={})\n",
       "\t\tConditions:\n",
       "\t\t\t0: Identifier columns PPS is less or equal to 0\n",
       "]"
      ]
     },
     "execution_count": 7,
     "metadata": {},
     "output_type": "execute_result"
    }
   ],
   "source": [
    "integrity_suite = data_integrity()\n",
    "integrity_suite"
   ]
  },
  {
   "cell_type": "markdown",
   "id": "88bccf5c-4940-4de9-92e9-79a661ddd246",
   "metadata": {},
   "source": [
    "#### Run the suite:"
   ]
  },
  {
   "cell_type": "code",
   "execution_count": 8,
   "id": "c6cf3fc1-d3e5-4e1f-9a9e-2bb898322335",
   "metadata": {},
   "outputs": [
    {
     "data": {
      "text/html": [
       "\n",
       "    <style>\n",
       "        progress {\n",
       "            -webkit-appearance: none;\n",
       "            border: none;\n",
       "            border-radius: 3px;\n",
       "            width: 300px;\n",
       "            height: 20px;\n",
       "            vertical-align: middle;\n",
       "            margin-right: 10px;\n",
       "            background-color: aliceblue;\n",
       "        }\n",
       "        progress::-webkit-progress-bar {\n",
       "            border-radius: 3px;\n",
       "            background-color: aliceblue;\n",
       "        }\n",
       "        progress::-webkit-progress-value {\n",
       "            background-color: #9d60fb;\n",
       "        }\n",
       "        progress::-moz-progress-bar {\n",
       "            background-color: #9d60fb;\n",
       "        }\n",
       "    </style>\n",
       "    "
      ]
     },
     "metadata": {},
     "output_type": "display_data"
    },
    {
     "data": {
      "text/html": []
     },
     "metadata": {},
     "output_type": "display_data"
    }
   ],
   "source": [
    "results = integrity_suite.run(ds)"
   ]
  },
  {
   "cell_type": "markdown",
   "id": "5d81ba9d-098f-437d-8707-06c086d6be40",
   "metadata": {},
   "source": [
    "#### Save the results as an html"
   ]
  },
  {
   "cell_type": "code",
   "execution_count": 9,
   "id": "c2ed25e4-0999-439e-86a1-1d32961aac2d",
   "metadata": {},
   "outputs": [
    {
     "data": {
      "text/plain": [
       "'..\\\\deepchecks\\\\dev\\\\integrity_suite_output.html'"
      ]
     },
     "execution_count": 9,
     "metadata": {},
     "output_type": "execute_result"
    }
   ],
   "source": [
    "results.save_as_html(\"integrity_suite_output.html\")\n",
    "shutil.move(\"integrity_suite_output.html\", deepchecks_subdir)"
   ]
  },
  {
   "cell_type": "markdown",
   "id": "5c8d3964-2578-419e-b885-3b8d2928fb17",
   "metadata": {},
   "source": [
    "### D. Run `outlier sample detection` of `Deepchecks`"
   ]
  },
  {
   "cell_type": "markdown",
   "id": "a845c4ee-caaa-41d6-a483-884b7d067a1a",
   "metadata": {},
   "source": [
    "#### Run the check:"
   ]
  },
  {
   "cell_type": "code",
   "execution_count": 12,
   "id": "b17b4760-3b0c-4b26-b936-59970ebbf359",
   "metadata": {},
   "outputs": [],
   "source": [
    "check = OutlierSampleDetection(nearest_neighbors_percent=0.01, extent_parameter=3)\n",
    "result = check.run(ds)"
   ]
  },
  {
   "cell_type": "markdown",
   "id": "6f3d34fb-a47d-4fed-a675-3d4cd69bd014",
   "metadata": {},
   "source": [
    "#### Save the results as an html"
   ]
  },
  {
   "cell_type": "code",
   "execution_count": 13,
   "id": "c28e4010-aee3-4fd0-b731-a77db1fcb214",
   "metadata": {},
   "outputs": [
    {
     "data": {
      "text/plain": [
       "'..\\\\deepchecks\\\\dev\\\\outlier_sample_detection_output.html'"
      ]
     },
     "execution_count": 13,
     "metadata": {},
     "output_type": "execute_result"
    }
   ],
   "source": [
    "result.save_as_html(\"outlier_sample_detection_output.html\")\n",
    "shutil.move(\"outlier_sample_detection_output.html\", deepchecks_subdir)"
   ]
  },
  {
   "cell_type": "code",
   "execution_count": null,
   "id": "ccc165cb-a514-465c-9e98-905a67f79105",
   "metadata": {},
   "outputs": [],
   "source": []
  }
 ],
 "metadata": {
  "kernelspec": {
   "display_name": "Python 3 (ipykernel)",
   "language": "python",
   "name": "python3"
  },
  "language_info": {
   "codemirror_mode": {
    "name": "ipython",
    "version": 3
   },
   "file_extension": ".py",
   "mimetype": "text/x-python",
   "name": "python",
   "nbconvert_exporter": "python",
   "pygments_lexer": "ipython3",
   "version": "3.10.13"
  }
 },
 "nbformat": 4,
 "nbformat_minor": 5
}
