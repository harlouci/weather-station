{
 "cells": [
  {
   "cell_type": "markdown",
   "id": "be68fa4a-9012-4826-a75d-0416c1844c7c",
   "metadata": {},
   "source": [
    "# 6c - Raw data without NaNs"
   ]
  },
  {
   "cell_type": "markdown",
   "id": "6d4c9d0f-06da-48cc-8389-a991a7ea4ce2",
   "metadata": {},
   "source": [
    "### Import"
   ]
  },
  {
   "cell_type": "code",
   "execution_count": 1,
   "id": "f5f14228-7a03-478c-955b-c3455727df4b",
   "metadata": {},
   "outputs": [],
   "source": [
    "import joblib\n",
    "import pandas as pd\n",
    "import warnings \n",
    "warnings.filterwarnings('ignore')\n",
    "from pathlib import Path\n",
    "\n",
    "# from sklearn.ensemble import RandomForestClassifier\n",
    "# from sklearn.linear_model import LogisticRegression\n",
    "# from sklearn.metrics import (\n",
    "#     accuracy_score,\n",
    "#     ConfusionMatrixDisplay,\n",
    "#     f1_score,\n",
    "#     precision_score,\n",
    "#     recall_score,\n",
    "# )\n",
    "# from sklearn.svm import LinearSVC, SVC\n",
    "# from sklearn.tree import DecisionTreeClassifier\n",
    "\n",
    "# from weather.transformers.skl_transformer_makers import (\n",
    "#     FeatureNames,\n",
    "#     TargetChoice,\n",
    "#     make_dataset_ingestion_transformer,\n",
    "#     make_target_creation_transformer,\n",
    "#     make_remove_horizonless_rows_transformer, \n",
    "#     make_predictors_feature_engineering_transformer,\n",
    "# )\n",
    "# from weather.data.prep_datasets import (\n",
    "#     prepare_binary_classification_tabular_data, \n",
    "#     transform_dataset_and_create_target,\n",
    "# )\n",
    "# from weather.helpers.utils import camel_to_snake\n",
    "# from weather.models.skl_train_models import (\n",
    "#     score_evaluation,\n",
    "#     confusion_matrix_evaluation,\n",
    "#     confusion_matrix_display,\n",
    "# )"
   ]
  },
  {
   "cell_type": "markdown",
   "id": "10b19143-af9d-4b85-8fdb-52f0b4536bc6",
   "metadata": {},
   "source": [
    "### Set the directory paths"
   ]
  },
  {
   "cell_type": "code",
   "execution_count": 2,
   "id": "31e47fa1-30d6-411f-8281-fed699d5d1e1",
   "metadata": {},
   "outputs": [],
   "source": [
    "data_dir =  Path.cwd().parent / \"data\""
   ]
  },
  {
   "cell_type": "markdown",
   "id": "a5621938-be52-4f33-8a02-cadf2987fac0",
   "metadata": {},
   "source": [
    "### Read raw data"
   ]
  },
  {
   "cell_type": "code",
   "execution_count": 3,
   "id": "6fcb9bca-3573-43fe-a334-4b3cfa8e4a92",
   "metadata": {},
   "outputs": [
    {
     "data": {
      "text/plain": [
       "96453"
      ]
     },
     "execution_count": 3,
     "metadata": {},
     "output_type": "execute_result"
    }
   ],
   "source": [
    "df = pd.read_csv(data_dir / 'weather_dataset_raw.csv')\n",
    "len(df)"
   ]
  },
  {
   "cell_type": "code",
   "execution_count": 4,
   "id": "15bdef43-d9e8-46e4-b40d-d8290672cf7f",
   "metadata": {},
   "outputs": [],
   "source": [
    "df['Timestamp'] = pd.to_datetime(df['Timestamp'], utc=True)"
   ]
  },
  {
   "cell_type": "code",
   "execution_count": 5,
   "id": "1e977da9-5d0b-4b01-8565-97fe97f7467a",
   "metadata": {},
   "outputs": [
    {
     "data": {
      "text/plain": [
       "96453"
      ]
     },
     "execution_count": 5,
     "metadata": {},
     "output_type": "execute_result"
    }
   ],
   "source": [
    "df.sort_values(by='Timestamp', inplace=True)\n",
    "len(df)"
   ]
  },
  {
   "cell_type": "code",
   "execution_count": 6,
   "id": "57e81917-bdbc-4760-9dd4-7d3511483e6b",
   "metadata": {},
   "outputs": [
    {
     "data": {
      "text/plain": [
       "96429"
      ]
     },
     "execution_count": 6,
     "metadata": {},
     "output_type": "execute_result"
    }
   ],
   "source": [
    "df = df.drop_duplicates(subset=[\"Timestamp\"], keep=\"last\")\n",
    "len(df)"
   ]
  },
  {
   "cell_type": "code",
   "execution_count": 7,
   "id": "dc2247fc-8253-4d19-897c-5586ceb00193",
   "metadata": {},
   "outputs": [],
   "source": [
    "df.set_index('Timestamp', inplace=True)"
   ]
  },
  {
   "cell_type": "code",
   "execution_count": 8,
   "id": "581a11a6-7266-4611-b180-e539b0b1eaa3",
   "metadata": {},
   "outputs": [
    {
     "name": "stdout",
     "output_type": "stream",
     "text": [
      "Minimum index of \"df\": 2005-12-31 23:00:00+00:00 \n",
      "Maximum index of \"df\": 2016-12-31 22:00:00+00:00\n"
     ]
    }
   ],
   "source": [
    "df_min_timestamp = df.index.min()\n",
    "df_max_timestamp = df.index.max()\n",
    "print(f'Minimum index of \"df\": {df_min_timestamp} \\nMaximum index of \"df\": {df_max_timestamp}')"
   ]
  },
  {
   "cell_type": "code",
   "execution_count": 9,
   "id": "cc393e0c-7354-4163-b401-4266af1525cb",
   "metadata": {},
   "outputs": [
    {
     "name": "stdout",
     "output_type": "stream",
     "text": [
      "Length of the dataframe `df`: 96429\n",
      "Length of the datetime index `regular_timestamp_range`: 96432\n"
     ]
    }
   ],
   "source": [
    "regular_timestamp_range = pd.date_range(start=df_min_timestamp, end=df_max_timestamp,freq='H')\n",
    "print(f\"Length of the dataframe `df`: {len(df)}\\nLength of the datetime index `regular_timestamp_range`: {len(regular_timestamp_range)}\")\n",
    "if len(df) == len(regular_timestamp_range):\n",
    "    print(\"\\nNo timestamp was missing in the dataframe.\")"
   ]
  },
  {
   "cell_type": "code",
   "execution_count": 10,
   "id": "6b99795d-b24f-46c4-8e6c-fb28c49d4d3c",
   "metadata": {},
   "outputs": [
    {
     "data": {
      "text/plain": [
       "96432"
      ]
     },
     "execution_count": 10,
     "metadata": {},
     "output_type": "execute_result"
    }
   ],
   "source": [
    "df = df.reindex(regular_timestamp_range, copy=True)\n",
    "len(df)"
   ]
  },
  {
   "cell_type": "code",
   "execution_count": 11,
   "id": "16ad73f7-eef4-4105-ad8d-30176100bb9f",
   "metadata": {},
   "outputs": [
    {
     "data": {
      "text/plain": [
       "35"
      ]
     },
     "execution_count": 11,
     "metadata": {},
     "output_type": "execute_result"
    }
   ],
   "source": [
    "df.isna().sum().sum()"
   ]
  },
  {
   "cell_type": "code",
   "execution_count": 12,
   "id": "d68542c2-cd04-4bc7-a870-f844a0c57815",
   "metadata": {},
   "outputs": [],
   "source": [
    "df[:1] = df.bfill()[:1]"
   ]
  },
  {
   "cell_type": "code",
   "execution_count": 13,
   "id": "6768265b-8264-4df2-8164-b50d93ff5dc4",
   "metadata": {},
   "outputs": [],
   "source": [
    "df.ffill(inplace=True)"
   ]
  },
  {
   "cell_type": "code",
   "execution_count": 14,
   "id": "8808144c-548b-4790-a3b0-7711aee44723",
   "metadata": {},
   "outputs": [
    {
     "data": {
      "text/plain": [
       "0"
      ]
     },
     "execution_count": 14,
     "metadata": {},
     "output_type": "execute_result"
    }
   ],
   "source": [
    "df.isna().sum().sum()"
   ]
  },
  {
   "cell_type": "code",
   "execution_count": 15,
   "id": "10a9ade8-7037-4018-8449-186191d4da55",
   "metadata": {},
   "outputs": [],
   "source": [
    "df[\"Timestamp\"] = df.index"
   ]
  },
  {
   "cell_type": "code",
   "execution_count": 16,
   "id": "d63453e7-9557-4ce6-8438-5e44a02a8e0a",
   "metadata": {},
   "outputs": [
    {
     "data": {
      "text/html": [
       "<div>\n",
       "<style scoped>\n",
       "    .dataframe tbody tr th:only-of-type {\n",
       "        vertical-align: middle;\n",
       "    }\n",
       "\n",
       "    .dataframe tbody tr th {\n",
       "        vertical-align: top;\n",
       "    }\n",
       "\n",
       "    .dataframe thead th {\n",
       "        text-align: right;\n",
       "    }\n",
       "</style>\n",
       "<table border=\"1\" class=\"dataframe\">\n",
       "  <thead>\n",
       "    <tr style=\"text-align: right;\">\n",
       "      <th></th>\n",
       "      <th>S_No</th>\n",
       "      <th>Location</th>\n",
       "      <th>Temperature_C</th>\n",
       "      <th>Apparent_Temperature_C</th>\n",
       "      <th>Humidity</th>\n",
       "      <th>Wind_speed_kmph</th>\n",
       "      <th>Wind_bearing_degrees</th>\n",
       "      <th>Visibility_km</th>\n",
       "      <th>Pressure_millibars</th>\n",
       "      <th>Weather_conditions</th>\n",
       "      <th>Timestamp</th>\n",
       "    </tr>\n",
       "  </thead>\n",
       "  <tbody>\n",
       "    <tr>\n",
       "      <th>2005-12-31 23:00:00+00:00</th>\n",
       "      <td>2880.0</td>\n",
       "      <td>Port of Turku, Finland</td>\n",
       "      <td>0.577778</td>\n",
       "      <td>-4.05</td>\n",
       "      <td>0.89</td>\n",
       "      <td>17.1143</td>\n",
       "      <td>140.0</td>\n",
       "      <td>9.982</td>\n",
       "      <td>1016.66</td>\n",
       "      <td>rain</td>\n",
       "      <td>2005-12-31 23:00:00+00:00</td>\n",
       "    </tr>\n",
       "  </tbody>\n",
       "</table>\n",
       "</div>"
      ],
      "text/plain": [
       "                             S_No                Location  Temperature_C  \\\n",
       "2005-12-31 23:00:00+00:00  2880.0  Port of Turku, Finland       0.577778   \n",
       "\n",
       "                           Apparent_Temperature_C  Humidity  Wind_speed_kmph  \\\n",
       "2005-12-31 23:00:00+00:00                   -4.05      0.89          17.1143   \n",
       "\n",
       "                           Wind_bearing_degrees  Visibility_km  \\\n",
       "2005-12-31 23:00:00+00:00                 140.0          9.982   \n",
       "\n",
       "                           Pressure_millibars Weather_conditions  \\\n",
       "2005-12-31 23:00:00+00:00             1016.66               rain   \n",
       "\n",
       "                                          Timestamp  \n",
       "2005-12-31 23:00:00+00:00 2005-12-31 23:00:00+00:00  "
      ]
     },
     "execution_count": 16,
     "metadata": {},
     "output_type": "execute_result"
    }
   ],
   "source": [
    "\n",
    "df.head(1)"
   ]
  },
  {
   "cell_type": "code",
   "execution_count": 17,
   "id": "436e5189-7f7c-4261-949d-c6d31730783e",
   "metadata": {},
   "outputs": [
    {
     "data": {
      "text/plain": [
       "43824"
      ]
     },
     "execution_count": 17,
     "metadata": {},
     "output_type": "execute_result"
    }
   ],
   "source": [
    "development_period = (df[\"Timestamp\"] >= \"2006\") & (df[\"Timestamp\"] < \"2011\")\n",
    "dev_df = df[development_period]\n",
    "dev_df\n",
    "len(dev_df)"
   ]
  },
  {
   "cell_type": "code",
   "execution_count": 18,
   "id": "7d003136-ccff-4773-b70a-671f7dfb104b",
   "metadata": {},
   "outputs": [
    {
     "data": {
      "text/html": [
       "<div>\n",
       "<style scoped>\n",
       "    .dataframe tbody tr th:only-of-type {\n",
       "        vertical-align: middle;\n",
       "    }\n",
       "\n",
       "    .dataframe tbody tr th {\n",
       "        vertical-align: top;\n",
       "    }\n",
       "\n",
       "    .dataframe thead th {\n",
       "        text-align: right;\n",
       "    }\n",
       "</style>\n",
       "<table border=\"1\" class=\"dataframe\">\n",
       "  <thead>\n",
       "    <tr style=\"text-align: right;\">\n",
       "      <th></th>\n",
       "      <th>S_No</th>\n",
       "      <th>Location</th>\n",
       "      <th>Temperature_C</th>\n",
       "      <th>Apparent_Temperature_C</th>\n",
       "      <th>Humidity</th>\n",
       "      <th>Wind_speed_kmph</th>\n",
       "      <th>Wind_bearing_degrees</th>\n",
       "      <th>Visibility_km</th>\n",
       "      <th>Pressure_millibars</th>\n",
       "      <th>Weather_conditions</th>\n",
       "      <th>Timestamp</th>\n",
       "    </tr>\n",
       "  </thead>\n",
       "  <tbody>\n",
       "    <tr>\n",
       "      <th>2006-01-01 00:00:00+00:00</th>\n",
       "      <td>2881.0</td>\n",
       "      <td>Port of Turku, Finland</td>\n",
       "      <td>1.161111</td>\n",
       "      <td>-3.238889</td>\n",
       "      <td>0.85</td>\n",
       "      <td>16.6152</td>\n",
       "      <td>139.0</td>\n",
       "      <td>9.9015</td>\n",
       "      <td>1016.15</td>\n",
       "      <td>rain</td>\n",
       "      <td>2006-01-01 00:00:00+00:00</td>\n",
       "    </tr>\n",
       "  </tbody>\n",
       "</table>\n",
       "</div>"
      ],
      "text/plain": [
       "                             S_No                Location  Temperature_C  \\\n",
       "2006-01-01 00:00:00+00:00  2881.0  Port of Turku, Finland       1.161111   \n",
       "\n",
       "                           Apparent_Temperature_C  Humidity  Wind_speed_kmph  \\\n",
       "2006-01-01 00:00:00+00:00               -3.238889      0.85          16.6152   \n",
       "\n",
       "                           Wind_bearing_degrees  Visibility_km  \\\n",
       "2006-01-01 00:00:00+00:00                 139.0         9.9015   \n",
       "\n",
       "                           Pressure_millibars Weather_conditions  \\\n",
       "2006-01-01 00:00:00+00:00             1016.15               rain   \n",
       "\n",
       "                                          Timestamp  \n",
       "2006-01-01 00:00:00+00:00 2006-01-01 00:00:00+00:00  "
      ]
     },
     "execution_count": 18,
     "metadata": {},
     "output_type": "execute_result"
    }
   ],
   "source": [
    "dev_df.head(1)"
   ]
  },
  {
   "cell_type": "code",
   "execution_count": 19,
   "id": "0d0063c7-1efa-47dc-9524-9ccf779ca403",
   "metadata": {},
   "outputs": [
    {
     "data": {
      "text/plain": [
       "52607"
      ]
     },
     "execution_count": 19,
     "metadata": {},
     "output_type": "execute_result"
    }
   ],
   "source": [
    "production_period = df[\"Timestamp\"] >= \"2011\"\n",
    "prod_df = df[production_period]\n",
    "len(prod_df)"
   ]
  },
  {
   "cell_type": "code",
   "execution_count": 20,
   "id": "f3dbe228-557c-4913-96e9-4b9b67c0e586",
   "metadata": {},
   "outputs": [
    {
     "data": {
      "text/html": [
       "<div>\n",
       "<style scoped>\n",
       "    .dataframe tbody tr th:only-of-type {\n",
       "        vertical-align: middle;\n",
       "    }\n",
       "\n",
       "    .dataframe tbody tr th {\n",
       "        vertical-align: top;\n",
       "    }\n",
       "\n",
       "    .dataframe thead th {\n",
       "        text-align: right;\n",
       "    }\n",
       "</style>\n",
       "<table border=\"1\" class=\"dataframe\">\n",
       "  <thead>\n",
       "    <tr style=\"text-align: right;\">\n",
       "      <th></th>\n",
       "      <th>S_No</th>\n",
       "      <th>Location</th>\n",
       "      <th>Temperature_C</th>\n",
       "      <th>Apparent_Temperature_C</th>\n",
       "      <th>Humidity</th>\n",
       "      <th>Wind_speed_kmph</th>\n",
       "      <th>Wind_bearing_degrees</th>\n",
       "      <th>Visibility_km</th>\n",
       "      <th>Pressure_millibars</th>\n",
       "      <th>Weather_conditions</th>\n",
       "      <th>Timestamp</th>\n",
       "    </tr>\n",
       "  </thead>\n",
       "  <tbody>\n",
       "    <tr>\n",
       "      <th>2011-01-01 00:00:00+00:00</th>\n",
       "      <td>46729.0</td>\n",
       "      <td>Port of Turku, Finland</td>\n",
       "      <td>-7.1</td>\n",
       "      <td>-7.1</td>\n",
       "      <td>0.96</td>\n",
       "      <td>3.8962</td>\n",
       "      <td>195.0</td>\n",
       "      <td>3.9123</td>\n",
       "      <td>1025.25</td>\n",
       "      <td>snow</td>\n",
       "      <td>2011-01-01 00:00:00+00:00</td>\n",
       "    </tr>\n",
       "  </tbody>\n",
       "</table>\n",
       "</div>"
      ],
      "text/plain": [
       "                              S_No                Location  Temperature_C  \\\n",
       "2011-01-01 00:00:00+00:00  46729.0  Port of Turku, Finland           -7.1   \n",
       "\n",
       "                           Apparent_Temperature_C  Humidity  Wind_speed_kmph  \\\n",
       "2011-01-01 00:00:00+00:00                    -7.1      0.96           3.8962   \n",
       "\n",
       "                           Wind_bearing_degrees  Visibility_km  \\\n",
       "2011-01-01 00:00:00+00:00                 195.0         3.9123   \n",
       "\n",
       "                           Pressure_millibars Weather_conditions  \\\n",
       "2011-01-01 00:00:00+00:00             1025.25               snow   \n",
       "\n",
       "                                          Timestamp  \n",
       "2011-01-01 00:00:00+00:00 2011-01-01 00:00:00+00:00  "
      ]
     },
     "execution_count": 20,
     "metadata": {},
     "output_type": "execute_result"
    }
   ],
   "source": [
    "prod_df.head(1)"
   ]
  },
  {
   "cell_type": "code",
   "execution_count": 25,
   "id": "4482e9e4-2b80-403e-8e27-8913547ef519",
   "metadata": {},
   "outputs": [
    {
     "data": {
      "text/html": [
       "<div>\n",
       "<style scoped>\n",
       "    .dataframe tbody tr th:only-of-type {\n",
       "        vertical-align: middle;\n",
       "    }\n",
       "\n",
       "    .dataframe tbody tr th {\n",
       "        vertical-align: top;\n",
       "    }\n",
       "\n",
       "    .dataframe thead th {\n",
       "        text-align: right;\n",
       "    }\n",
       "</style>\n",
       "<table border=\"1\" class=\"dataframe\">\n",
       "  <thead>\n",
       "    <tr style=\"text-align: right;\">\n",
       "      <th></th>\n",
       "      <th>S_No</th>\n",
       "      <th>Location</th>\n",
       "      <th>Temperature_C</th>\n",
       "      <th>Apparent_Temperature_C</th>\n",
       "      <th>Humidity</th>\n",
       "      <th>Wind_speed_kmph</th>\n",
       "      <th>Wind_bearing_degrees</th>\n",
       "      <th>Visibility_km</th>\n",
       "      <th>Pressure_millibars</th>\n",
       "      <th>Weather_conditions</th>\n",
       "      <th>Timestamp</th>\n",
       "    </tr>\n",
       "  </thead>\n",
       "  <tbody>\n",
       "    <tr>\n",
       "      <th>0</th>\n",
       "      <td>2881.0</td>\n",
       "      <td>Port of Turku, Finland</td>\n",
       "      <td>1.161111</td>\n",
       "      <td>-3.238889</td>\n",
       "      <td>0.85</td>\n",
       "      <td>16.6152</td>\n",
       "      <td>139.0</td>\n",
       "      <td>9.9015</td>\n",
       "      <td>1016.15</td>\n",
       "      <td>rain</td>\n",
       "      <td>2006-01-01 00:00:00+00:00</td>\n",
       "    </tr>\n",
       "  </tbody>\n",
       "</table>\n",
       "</div>"
      ],
      "text/plain": [
       "     S_No                Location  Temperature_C  Apparent_Temperature_C  \\\n",
       "0  2881.0  Port of Turku, Finland       1.161111               -3.238889   \n",
       "\n",
       "   Humidity  Wind_speed_kmph  Wind_bearing_degrees  Visibility_km  \\\n",
       "0      0.85          16.6152                 139.0         9.9015   \n",
       "\n",
       "   Pressure_millibars Weather_conditions                 Timestamp  \n",
       "0             1016.15               rain 2006-01-01 00:00:00+00:00  "
      ]
     },
     "execution_count": 25,
     "metadata": {},
     "output_type": "execute_result"
    }
   ],
   "source": [
    "dev_df.reset_index(drop=True, inplace=True)\n",
    "dev_df.head(1)"
   ]
  },
  {
   "cell_type": "code",
   "execution_count": 26,
   "id": "89978f30-5412-48b6-91f7-2a8e8b2b1838",
   "metadata": {},
   "outputs": [
    {
     "data": {
      "text/html": [
       "<div>\n",
       "<style scoped>\n",
       "    .dataframe tbody tr th:only-of-type {\n",
       "        vertical-align: middle;\n",
       "    }\n",
       "\n",
       "    .dataframe tbody tr th {\n",
       "        vertical-align: top;\n",
       "    }\n",
       "\n",
       "    .dataframe thead th {\n",
       "        text-align: right;\n",
       "    }\n",
       "</style>\n",
       "<table border=\"1\" class=\"dataframe\">\n",
       "  <thead>\n",
       "    <tr style=\"text-align: right;\">\n",
       "      <th></th>\n",
       "      <th>S_No</th>\n",
       "      <th>Location</th>\n",
       "      <th>Temperature_C</th>\n",
       "      <th>Apparent_Temperature_C</th>\n",
       "      <th>Humidity</th>\n",
       "      <th>Wind_speed_kmph</th>\n",
       "      <th>Wind_bearing_degrees</th>\n",
       "      <th>Visibility_km</th>\n",
       "      <th>Pressure_millibars</th>\n",
       "      <th>Weather_conditions</th>\n",
       "      <th>Timestamp</th>\n",
       "    </tr>\n",
       "  </thead>\n",
       "  <tbody>\n",
       "    <tr>\n",
       "      <th>0</th>\n",
       "      <td>2881.0</td>\n",
       "      <td>Port of Turku, Finland</td>\n",
       "      <td>1.161111</td>\n",
       "      <td>-3.238889</td>\n",
       "      <td>0.85</td>\n",
       "      <td>16.6152</td>\n",
       "      <td>139.0</td>\n",
       "      <td>9.9015</td>\n",
       "      <td>1016.15</td>\n",
       "      <td>rain</td>\n",
       "      <td>2006-01-01 00:00:00+00:00</td>\n",
       "    </tr>\n",
       "  </tbody>\n",
       "</table>\n",
       "</div>"
      ],
      "text/plain": [
       "     S_No                Location  Temperature_C  Apparent_Temperature_C  \\\n",
       "0  2881.0  Port of Turku, Finland       1.161111               -3.238889   \n",
       "\n",
       "   Humidity  Wind_speed_kmph  Wind_bearing_degrees  Visibility_km  \\\n",
       "0      0.85          16.6152                 139.0         9.9015   \n",
       "\n",
       "   Pressure_millibars Weather_conditions                 Timestamp  \n",
       "0             1016.15               rain 2006-01-01 00:00:00+00:00  "
      ]
     },
     "execution_count": 26,
     "metadata": {},
     "output_type": "execute_result"
    }
   ],
   "source": [
    "prod_df.reset_index(drop=True, inplace=True)\n",
    "dev_df.head(1)"
   ]
  },
  {
   "cell_type": "code",
   "execution_count": null,
   "id": "600d7f72-d09f-4eff-87f1-f82b089c6e3c",
   "metadata": {},
   "outputs": [],
   "source": []
  },
  {
   "cell_type": "code",
   "execution_count": 27,
   "id": "344b4fd4-ae7e-4fcf-a267-00ea94de2d82",
   "metadata": {},
   "outputs": [],
   "source": [
    "dev_df.to_csv(data_dir/'weather_dataset_raw_development.csv', index=True)"
   ]
  },
  {
   "cell_type": "code",
   "execution_count": 28,
   "id": "c4ffa65f-c557-442a-8128-7ffe9be78e9c",
   "metadata": {},
   "outputs": [],
   "source": [
    "prod_df.to_csv(data_dir/'weather_dataset_raw_production.csv', index=True)"
   ]
  },
  {
   "cell_type": "code",
   "execution_count": null,
   "id": "7b52856a-beb8-4050-a788-9a496a0f03ca",
   "metadata": {},
   "outputs": [],
   "source": []
  }
 ],
 "metadata": {
  "kernelspec": {
   "display_name": "Python 3 (ipykernel)",
   "language": "python",
   "name": "python3"
  },
  "language_info": {
   "codemirror_mode": {
    "name": "ipython",
    "version": 3
   },
   "file_extension": ".py",
   "mimetype": "text/x-python",
   "name": "python",
   "nbconvert_exporter": "python",
   "pygments_lexer": "ipython3",
   "version": "3.10.13"
  }
 },
 "nbformat": 4,
 "nbformat_minor": 5
}
