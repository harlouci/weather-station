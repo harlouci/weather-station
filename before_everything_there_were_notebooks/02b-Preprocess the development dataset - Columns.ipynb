{
 "cells": [
  {
   "cell_type": "markdown",
   "metadata": {},
   "source": [
    "# 02b-Preprocess the `development` dataset - Columns"
   ]
  },
  {
   "cell_type": "markdown",
   "metadata": {},
   "source": [
    "__Goal__:\n",
    "\n",
    "1. Read the dataset `weather_dataset_raw_development_timestamp.pkl`\n",
    "2. Preprocess the columns\n",
    "   - Rename the columns\n",
    "   - Drop the columns `S_No`, `Location`, `Apparent_temperature`\n",
    "   - Refactor the column `Weather`\n",
    "3. Statistical analysis of the numerical variables\n",
    "4. Statistical analysis of the categorical variable `Weather`\n",
    "5. Save the  preprocessed data as `weather_dataset_raw_development_columns.pkl`, and remove `weather_dataset_raw_development_timestamp.pkl`."
   ]
  },
  {
   "cell_type": "markdown",
   "metadata": {},
   "source": [
    "### Import"
   ]
  },
  {
   "cell_type": "code",
   "execution_count": 1,
   "metadata": {},
   "outputs": [],
   "source": [
    "import os\n",
    "\n",
    "import numpy as np\n",
    "import pandas as pd\n",
    "from IPython.display import display\n",
    "from pathlib import Path"
   ]
  },
  {
   "cell_type": "markdown",
   "metadata": {},
   "source": [
    "### Utilities"
   ]
  },
  {
   "cell_type": "code",
   "execution_count": 2,
   "metadata": {},
   "outputs": [],
   "source": [
    "def statistical_analysis_of_numerical_variables(df):\n",
    "    \n",
    "    # Print the numerical variables\n",
    "    numerical_variables = list(df.select_dtypes(include= \"number\").columns)\n",
    "    print('Numerical variables of \"df\":')\n",
    "    print(\"-\"*len('Numerical variables of \"df\":')+\"\\n\")\n",
    "    print(', '.join(numerical_variables)+\"\\n\")\n",
    "\n",
    "    # Print the number of NaN's per numerical variables\n",
    "    print(\"Number of NaN's per numerical variables:\")\n",
    "    print(\"-\"*len(\"Number of NaN's per numerical variables:\")+\"\\n\")\n",
    "    display(df[numerical_variables].isnull().sum())\n",
    "\n",
    "    # Display the statistics of numerical variables\n",
    "    print(\"\\nStatistics of numerical variables:\")\n",
    "    print(\"-\"*len(\"Statistics of numerical variables:\")+\"\\n\")\n",
    "    display(df[numerical_variables].describe())\n",
    "\n",
    "    # Display the correlation matrix of numerical variables\n",
    "    print(\"\\nCorrelation matrix of numerical variables:\")\n",
    "    print(\"-\"*len(\"Correlation matrix of numerical variables:\")+\"\\n\")\n",
    "    display(df[numerical_variables].corr('pearson'))"
   ]
  },
  {
   "cell_type": "markdown",
   "metadata": {},
   "source": [
    "# 1. Read the  dataset"
   ]
  },
  {
   "cell_type": "code",
   "execution_count": 3,
   "metadata": {},
   "outputs": [
    {
     "name": "stdout",
     "output_type": "stream",
     "text": [
      "<class 'pandas.core.frame.DataFrame'>\n",
      "DatetimeIndex: 43824 entries, 2006-01-01 00:00:00+00:00 to 2010-12-31 23:00:00+00:00\n",
      "Freq: H\n",
      "Data columns (total 10 columns):\n",
      " #   Column                  Non-Null Count  Dtype  \n",
      "---  ------                  --------------  -----  \n",
      " 0   S_No                    43824 non-null  int64  \n",
      " 1   Location                43824 non-null  object \n",
      " 2   Temperature_C           43824 non-null  float64\n",
      " 3   Apparent_Temperature_C  43824 non-null  float64\n",
      " 4   Humidity                43824 non-null  float64\n",
      " 5   Wind_speed_kmph         43824 non-null  float64\n",
      " 6   Wind_bearing_degrees    43824 non-null  int64  \n",
      " 7   Visibility_km           43824 non-null  float64\n",
      " 8   Pressure_millibars      43824 non-null  float64\n",
      " 9   Weather_conditions      43819 non-null  object \n",
      "dtypes: float64(6), int64(2), object(2)\n",
      "memory usage: 3.7+ MB\n"
     ]
    }
   ],
   "source": [
    "df = pd.read_pickle(Path('datasets')/'weather_dataset_raw_development_timestamp.pkl')\n",
    "df.info()"
   ]
  },
  {
   "cell_type": "code",
   "execution_count": 4,
   "metadata": {},
   "outputs": [
    {
     "data": {
      "text/html": [
       "<div>\n",
       "<style scoped>\n",
       "    .dataframe tbody tr th:only-of-type {\n",
       "        vertical-align: middle;\n",
       "    }\n",
       "\n",
       "    .dataframe tbody tr th {\n",
       "        vertical-align: top;\n",
       "    }\n",
       "\n",
       "    .dataframe thead th {\n",
       "        text-align: right;\n",
       "    }\n",
       "</style>\n",
       "<table border=\"1\" class=\"dataframe\">\n",
       "  <thead>\n",
       "    <tr style=\"text-align: right;\">\n",
       "      <th></th>\n",
       "      <th>S_No</th>\n",
       "      <th>Location</th>\n",
       "      <th>Temperature_C</th>\n",
       "      <th>Apparent_Temperature_C</th>\n",
       "      <th>Humidity</th>\n",
       "      <th>Wind_speed_kmph</th>\n",
       "      <th>Wind_bearing_degrees</th>\n",
       "      <th>Visibility_km</th>\n",
       "      <th>Pressure_millibars</th>\n",
       "      <th>Weather_conditions</th>\n",
       "    </tr>\n",
       "  </thead>\n",
       "  <tbody>\n",
       "    <tr>\n",
       "      <th>2006-01-01 00:00:00+00:00</th>\n",
       "      <td>2881</td>\n",
       "      <td>Port of Turku, Finland</td>\n",
       "      <td>1.161111</td>\n",
       "      <td>-3.238889</td>\n",
       "      <td>0.85</td>\n",
       "      <td>16.6152</td>\n",
       "      <td>139</td>\n",
       "      <td>9.9015</td>\n",
       "      <td>1016.15</td>\n",
       "      <td>rain</td>\n",
       "    </tr>\n",
       "    <tr>\n",
       "      <th>2006-01-01 01:00:00+00:00</th>\n",
       "      <td>2882</td>\n",
       "      <td>Port of Turku, Finland</td>\n",
       "      <td>1.666667</td>\n",
       "      <td>-3.155556</td>\n",
       "      <td>0.82</td>\n",
       "      <td>20.2538</td>\n",
       "      <td>140</td>\n",
       "      <td>9.9015</td>\n",
       "      <td>1015.87</td>\n",
       "      <td>rain</td>\n",
       "    </tr>\n",
       "    <tr>\n",
       "      <th>2006-01-01 02:00:00+00:00</th>\n",
       "      <td>2883</td>\n",
       "      <td>Port of Turku, Finland</td>\n",
       "      <td>1.711111</td>\n",
       "      <td>-2.194444</td>\n",
       "      <td>0.82</td>\n",
       "      <td>14.4900</td>\n",
       "      <td>140</td>\n",
       "      <td>9.9015</td>\n",
       "      <td>1015.56</td>\n",
       "      <td>rain</td>\n",
       "    </tr>\n",
       "    <tr>\n",
       "      <th>2006-01-01 03:00:00+00:00</th>\n",
       "      <td>2884</td>\n",
       "      <td>Port of Turku, Finland</td>\n",
       "      <td>1.183333</td>\n",
       "      <td>-2.744444</td>\n",
       "      <td>0.86</td>\n",
       "      <td>13.9426</td>\n",
       "      <td>134</td>\n",
       "      <td>9.9015</td>\n",
       "      <td>1014.98</td>\n",
       "      <td>rain</td>\n",
       "    </tr>\n",
       "    <tr>\n",
       "      <th>2006-01-01 04:00:00+00:00</th>\n",
       "      <td>2885</td>\n",
       "      <td>Port of Turku, Finland</td>\n",
       "      <td>1.205556</td>\n",
       "      <td>-3.072222</td>\n",
       "      <td>0.85</td>\n",
       "      <td>15.9068</td>\n",
       "      <td>149</td>\n",
       "      <td>9.9820</td>\n",
       "      <td>1014.08</td>\n",
       "      <td>rain</td>\n",
       "    </tr>\n",
       "  </tbody>\n",
       "</table>\n",
       "</div>"
      ],
      "text/plain": [
       "                           S_No                Location  Temperature_C  \\\n",
       "2006-01-01 00:00:00+00:00  2881  Port of Turku, Finland       1.161111   \n",
       "2006-01-01 01:00:00+00:00  2882  Port of Turku, Finland       1.666667   \n",
       "2006-01-01 02:00:00+00:00  2883  Port of Turku, Finland       1.711111   \n",
       "2006-01-01 03:00:00+00:00  2884  Port of Turku, Finland       1.183333   \n",
       "2006-01-01 04:00:00+00:00  2885  Port of Turku, Finland       1.205556   \n",
       "\n",
       "                           Apparent_Temperature_C  Humidity  Wind_speed_kmph  \\\n",
       "2006-01-01 00:00:00+00:00               -3.238889      0.85          16.6152   \n",
       "2006-01-01 01:00:00+00:00               -3.155556      0.82          20.2538   \n",
       "2006-01-01 02:00:00+00:00               -2.194444      0.82          14.4900   \n",
       "2006-01-01 03:00:00+00:00               -2.744444      0.86          13.9426   \n",
       "2006-01-01 04:00:00+00:00               -3.072222      0.85          15.9068   \n",
       "\n",
       "                           Wind_bearing_degrees  Visibility_km  \\\n",
       "2006-01-01 00:00:00+00:00                   139         9.9015   \n",
       "2006-01-01 01:00:00+00:00                   140         9.9015   \n",
       "2006-01-01 02:00:00+00:00                   140         9.9015   \n",
       "2006-01-01 03:00:00+00:00                   134         9.9015   \n",
       "2006-01-01 04:00:00+00:00                   149         9.9820   \n",
       "\n",
       "                           Pressure_millibars Weather_conditions  \n",
       "2006-01-01 00:00:00+00:00             1016.15               rain  \n",
       "2006-01-01 01:00:00+00:00             1015.87               rain  \n",
       "2006-01-01 02:00:00+00:00             1015.56               rain  \n",
       "2006-01-01 03:00:00+00:00             1014.98               rain  \n",
       "2006-01-01 04:00:00+00:00             1014.08               rain  "
      ]
     },
     "execution_count": 4,
     "metadata": {},
     "output_type": "execute_result"
    }
   ],
   "source": [
    "df.head()"
   ]
  },
  {
   "cell_type": "markdown",
   "metadata": {},
   "source": [
    "# 2. Preprocess the columns"
   ]
  },
  {
   "cell_type": "markdown",
   "metadata": {},
   "source": [
    "## A. Rename the columns"
   ]
  },
  {
   "cell_type": "code",
   "execution_count": 5,
   "metadata": {},
   "outputs": [],
   "source": [
    "df.rename(columns={\"Temperature_C\": \"Temperature\", \n",
    "                   \"Apparent_Temperature_C\": \"Apparent_temperature\",\n",
    "                   \"Wind_speed_kmph\": \"Wind_speed\",\n",
    "                   \"Wind_bearing_degrees\": \"Wind_bearing\",\n",
    "                   \"Visibility_km\": \"Visibility\",\n",
    "                   \"Pressure_millibars\": \"Pressure\",\n",
    "                   \"Weather_conditions\": \"Weather\"}, inplace=True)"
   ]
  },
  {
   "cell_type": "code",
   "execution_count": 6,
   "metadata": {},
   "outputs": [
    {
     "data": {
      "text/html": [
       "<div>\n",
       "<style scoped>\n",
       "    .dataframe tbody tr th:only-of-type {\n",
       "        vertical-align: middle;\n",
       "    }\n",
       "\n",
       "    .dataframe tbody tr th {\n",
       "        vertical-align: top;\n",
       "    }\n",
       "\n",
       "    .dataframe thead th {\n",
       "        text-align: right;\n",
       "    }\n",
       "</style>\n",
       "<table border=\"1\" class=\"dataframe\">\n",
       "  <thead>\n",
       "    <tr style=\"text-align: right;\">\n",
       "      <th></th>\n",
       "      <th>S_No</th>\n",
       "      <th>Location</th>\n",
       "      <th>Temperature</th>\n",
       "      <th>Apparent_temperature</th>\n",
       "      <th>Humidity</th>\n",
       "      <th>Wind_speed</th>\n",
       "      <th>Wind_bearing</th>\n",
       "      <th>Visibility</th>\n",
       "      <th>Pressure</th>\n",
       "      <th>Weather</th>\n",
       "    </tr>\n",
       "  </thead>\n",
       "  <tbody>\n",
       "    <tr>\n",
       "      <th>2006-01-01 00:00:00+00:00</th>\n",
       "      <td>2881</td>\n",
       "      <td>Port of Turku, Finland</td>\n",
       "      <td>1.161111</td>\n",
       "      <td>-3.238889</td>\n",
       "      <td>0.85</td>\n",
       "      <td>16.6152</td>\n",
       "      <td>139</td>\n",
       "      <td>9.9015</td>\n",
       "      <td>1016.15</td>\n",
       "      <td>rain</td>\n",
       "    </tr>\n",
       "    <tr>\n",
       "      <th>2006-01-01 01:00:00+00:00</th>\n",
       "      <td>2882</td>\n",
       "      <td>Port of Turku, Finland</td>\n",
       "      <td>1.666667</td>\n",
       "      <td>-3.155556</td>\n",
       "      <td>0.82</td>\n",
       "      <td>20.2538</td>\n",
       "      <td>140</td>\n",
       "      <td>9.9015</td>\n",
       "      <td>1015.87</td>\n",
       "      <td>rain</td>\n",
       "    </tr>\n",
       "    <tr>\n",
       "      <th>2006-01-01 02:00:00+00:00</th>\n",
       "      <td>2883</td>\n",
       "      <td>Port of Turku, Finland</td>\n",
       "      <td>1.711111</td>\n",
       "      <td>-2.194444</td>\n",
       "      <td>0.82</td>\n",
       "      <td>14.4900</td>\n",
       "      <td>140</td>\n",
       "      <td>9.9015</td>\n",
       "      <td>1015.56</td>\n",
       "      <td>rain</td>\n",
       "    </tr>\n",
       "    <tr>\n",
       "      <th>2006-01-01 03:00:00+00:00</th>\n",
       "      <td>2884</td>\n",
       "      <td>Port of Turku, Finland</td>\n",
       "      <td>1.183333</td>\n",
       "      <td>-2.744444</td>\n",
       "      <td>0.86</td>\n",
       "      <td>13.9426</td>\n",
       "      <td>134</td>\n",
       "      <td>9.9015</td>\n",
       "      <td>1014.98</td>\n",
       "      <td>rain</td>\n",
       "    </tr>\n",
       "    <tr>\n",
       "      <th>2006-01-01 04:00:00+00:00</th>\n",
       "      <td>2885</td>\n",
       "      <td>Port of Turku, Finland</td>\n",
       "      <td>1.205556</td>\n",
       "      <td>-3.072222</td>\n",
       "      <td>0.85</td>\n",
       "      <td>15.9068</td>\n",
       "      <td>149</td>\n",
       "      <td>9.9820</td>\n",
       "      <td>1014.08</td>\n",
       "      <td>rain</td>\n",
       "    </tr>\n",
       "  </tbody>\n",
       "</table>\n",
       "</div>"
      ],
      "text/plain": [
       "                           S_No                Location  Temperature  \\\n",
       "2006-01-01 00:00:00+00:00  2881  Port of Turku, Finland     1.161111   \n",
       "2006-01-01 01:00:00+00:00  2882  Port of Turku, Finland     1.666667   \n",
       "2006-01-01 02:00:00+00:00  2883  Port of Turku, Finland     1.711111   \n",
       "2006-01-01 03:00:00+00:00  2884  Port of Turku, Finland     1.183333   \n",
       "2006-01-01 04:00:00+00:00  2885  Port of Turku, Finland     1.205556   \n",
       "\n",
       "                           Apparent_temperature  Humidity  Wind_speed  \\\n",
       "2006-01-01 00:00:00+00:00             -3.238889      0.85     16.6152   \n",
       "2006-01-01 01:00:00+00:00             -3.155556      0.82     20.2538   \n",
       "2006-01-01 02:00:00+00:00             -2.194444      0.82     14.4900   \n",
       "2006-01-01 03:00:00+00:00             -2.744444      0.86     13.9426   \n",
       "2006-01-01 04:00:00+00:00             -3.072222      0.85     15.9068   \n",
       "\n",
       "                           Wind_bearing  Visibility  Pressure Weather  \n",
       "2006-01-01 00:00:00+00:00           139      9.9015   1016.15    rain  \n",
       "2006-01-01 01:00:00+00:00           140      9.9015   1015.87    rain  \n",
       "2006-01-01 02:00:00+00:00           140      9.9015   1015.56    rain  \n",
       "2006-01-01 03:00:00+00:00           134      9.9015   1014.98    rain  \n",
       "2006-01-01 04:00:00+00:00           149      9.9820   1014.08    rain  "
      ]
     },
     "execution_count": 6,
     "metadata": {},
     "output_type": "execute_result"
    }
   ],
   "source": [
    "df.head()"
   ]
  },
  {
   "cell_type": "markdown",
   "metadata": {},
   "source": [
    "## B. Drop the columns `S_No`, `Location`, and `Apparent_temperature`"
   ]
  },
  {
   "cell_type": "markdown",
   "metadata": {},
   "source": [
    "#### `S_No`"
   ]
  },
  {
   "cell_type": "code",
   "execution_count": 7,
   "metadata": {},
   "outputs": [
    {
     "data": {
      "text/plain": [
       "43824"
      ]
     },
     "execution_count": 7,
     "metadata": {},
     "output_type": "execute_result"
    }
   ],
   "source": [
    "len(df[\"S_No\"].unique())"
   ]
  },
  {
   "cell_type": "markdown",
   "metadata": {},
   "source": [
    "As `S_No` (Serial number) seems to be an incremental index, we discard it."
   ]
  },
  {
   "cell_type": "code",
   "execution_count": 8,
   "metadata": {},
   "outputs": [],
   "source": [
    "df.drop(['S_No'], axis=1, inplace=True)"
   ]
  },
  {
   "cell_type": "markdown",
   "metadata": {},
   "source": [
    "#### `Location`"
   ]
  },
  {
   "cell_type": "code",
   "execution_count": 9,
   "metadata": {},
   "outputs": [
    {
     "data": {
      "text/plain": [
       "Location\n",
       "Port of Turku, Finland    43824\n",
       "Name: count, dtype: int64"
      ]
     },
     "execution_count": 9,
     "metadata": {},
     "output_type": "execute_result"
    }
   ],
   "source": [
    "df[\"Location\"].value_counts()"
   ]
  },
  {
   "cell_type": "code",
   "execution_count": 10,
   "metadata": {},
   "outputs": [],
   "source": [
    "df.drop(['Location'], axis=1, inplace=True)"
   ]
  },
  {
   "cell_type": "markdown",
   "metadata": {},
   "source": [
    "#### `Apparent_temperature`"
   ]
  },
  {
   "cell_type": "code",
   "execution_count": 11,
   "metadata": {},
   "outputs": [
    {
     "data": {
      "text/html": [
       "<div>\n",
       "<style scoped>\n",
       "    .dataframe tbody tr th:only-of-type {\n",
       "        vertical-align: middle;\n",
       "    }\n",
       "\n",
       "    .dataframe tbody tr th {\n",
       "        vertical-align: top;\n",
       "    }\n",
       "\n",
       "    .dataframe thead th {\n",
       "        text-align: right;\n",
       "    }\n",
       "</style>\n",
       "<table border=\"1\" class=\"dataframe\">\n",
       "  <thead>\n",
       "    <tr style=\"text-align: right;\">\n",
       "      <th></th>\n",
       "      <th>Temperature</th>\n",
       "      <th>Apparent_temperature</th>\n",
       "    </tr>\n",
       "  </thead>\n",
       "  <tbody>\n",
       "    <tr>\n",
       "      <th>Temperature</th>\n",
       "      <td>1.000000</td>\n",
       "      <td>0.992251</td>\n",
       "    </tr>\n",
       "    <tr>\n",
       "      <th>Apparent_temperature</th>\n",
       "      <td>0.992251</td>\n",
       "      <td>1.000000</td>\n",
       "    </tr>\n",
       "  </tbody>\n",
       "</table>\n",
       "</div>"
      ],
      "text/plain": [
       "                      Temperature  Apparent_temperature\n",
       "Temperature              1.000000              0.992251\n",
       "Apparent_temperature     0.992251              1.000000"
      ]
     },
     "execution_count": 11,
     "metadata": {},
     "output_type": "execute_result"
    }
   ],
   "source": [
    "df[[\"Temperature\", \"Apparent_temperature\"]].corr('pearson')"
   ]
  },
  {
   "cell_type": "code",
   "execution_count": 12,
   "metadata": {},
   "outputs": [],
   "source": [
    "df.drop(['Apparent_temperature'], axis=1, inplace=True)"
   ]
  },
  {
   "cell_type": "markdown",
   "metadata": {},
   "source": [
    "## C. Refactor the column `Weather`"
   ]
  },
  {
   "cell_type": "code",
   "execution_count": 13,
   "metadata": {},
   "outputs": [
    {
     "data": {
      "text/plain": [
       "Weather\n",
       "rain     36840\n",
       "snow      5184\n",
       "clear     1795\n",
       "NaN          5\n",
       "Name: count, dtype: int64"
      ]
     },
     "execution_count": 13,
     "metadata": {},
     "output_type": "execute_result"
    }
   ],
   "source": [
    "df[\"Weather\"].value_counts(dropna=False)"
   ]
  },
  {
   "cell_type": "code",
   "execution_count": 14,
   "metadata": {},
   "outputs": [],
   "source": [
    "df[\"Weather\"].replace({\"snow\": \"no_rain\", \"clear\": \"no_rain\"}, inplace=True)"
   ]
  },
  {
   "cell_type": "code",
   "execution_count": 15,
   "metadata": {},
   "outputs": [
    {
     "data": {
      "text/plain": [
       "Weather\n",
       "rain       36840\n",
       "no_rain     6979\n",
       "NaN            5\n",
       "Name: count, dtype: int64"
      ]
     },
     "execution_count": 15,
     "metadata": {},
     "output_type": "execute_result"
    }
   ],
   "source": [
    "df[\"Weather\"].value_counts(dropna=False)"
   ]
  },
  {
   "cell_type": "code",
   "execution_count": 16,
   "metadata": {},
   "outputs": [],
   "source": [
    "df[\"Weather\"] = df[\"Weather\"].map({'rain': 0, 'no_rain': 1})"
   ]
  },
  {
   "cell_type": "code",
   "execution_count": 17,
   "metadata": {},
   "outputs": [
    {
     "data": {
      "text/plain": [
       "Weather\n",
       "0.0    36840\n",
       "1.0     6979\n",
       "NaN        5\n",
       "Name: count, dtype: int64"
      ]
     },
     "execution_count": 17,
     "metadata": {},
     "output_type": "execute_result"
    }
   ],
   "source": [
    "df[\"Weather\"].value_counts(dropna=False)"
   ]
  },
  {
   "cell_type": "markdown",
   "metadata": {},
   "source": [
    "# 3. Statistical analysis of `numerical_variables`"
   ]
  },
  {
   "cell_type": "code",
   "execution_count": 18,
   "metadata": {},
   "outputs": [
    {
     "name": "stdout",
     "output_type": "stream",
     "text": [
      "Numerical variables of \"df\":\n",
      "----------------------------\n",
      "\n",
      "Temperature, Humidity, Wind_speed, Wind_bearing, Visibility, Pressure, Weather\n",
      "\n",
      "Number of NaN's per numerical variables:\n",
      "----------------------------------------\n",
      "\n"
     ]
    },
    {
     "data": {
      "text/plain": [
       "Temperature     0\n",
       "Humidity        0\n",
       "Wind_speed      0\n",
       "Wind_bearing    0\n",
       "Visibility      0\n",
       "Pressure        0\n",
       "Weather         5\n",
       "dtype: int64"
      ]
     },
     "metadata": {},
     "output_type": "display_data"
    },
    {
     "name": "stdout",
     "output_type": "stream",
     "text": [
      "\n",
      "Statistics of numerical variables:\n",
      "----------------------------------\n",
      "\n"
     ]
    },
    {
     "data": {
      "text/html": [
       "<div>\n",
       "<style scoped>\n",
       "    .dataframe tbody tr th:only-of-type {\n",
       "        vertical-align: middle;\n",
       "    }\n",
       "\n",
       "    .dataframe tbody tr th {\n",
       "        vertical-align: top;\n",
       "    }\n",
       "\n",
       "    .dataframe thead th {\n",
       "        text-align: right;\n",
       "    }\n",
       "</style>\n",
       "<table border=\"1\" class=\"dataframe\">\n",
       "  <thead>\n",
       "    <tr style=\"text-align: right;\">\n",
       "      <th></th>\n",
       "      <th>Temperature</th>\n",
       "      <th>Humidity</th>\n",
       "      <th>Wind_speed</th>\n",
       "      <th>Wind_bearing</th>\n",
       "      <th>Visibility</th>\n",
       "      <th>Pressure</th>\n",
       "      <th>Weather</th>\n",
       "    </tr>\n",
       "  </thead>\n",
       "  <tbody>\n",
       "    <tr>\n",
       "      <th>count</th>\n",
       "      <td>43824.000000</td>\n",
       "      <td>43824.000000</td>\n",
       "      <td>43824.000000</td>\n",
       "      <td>43824.000000</td>\n",
       "      <td>43824.000000</td>\n",
       "      <td>43824.000000</td>\n",
       "      <td>43819.000000</td>\n",
       "    </tr>\n",
       "    <tr>\n",
       "      <th>mean</th>\n",
       "      <td>11.789543</td>\n",
       "      <td>0.732492</td>\n",
       "      <td>10.972127</td>\n",
       "      <td>189.951556</td>\n",
       "      <td>9.914277</td>\n",
       "      <td>1001.865363</td>\n",
       "      <td>0.159269</td>\n",
       "    </tr>\n",
       "    <tr>\n",
       "      <th>std</th>\n",
       "      <td>9.527718</td>\n",
       "      <td>0.191495</td>\n",
       "      <td>7.024639</td>\n",
       "      <td>107.132753</td>\n",
       "      <td>3.793477</td>\n",
       "      <td>121.552295</td>\n",
       "      <td>0.365931</td>\n",
       "    </tr>\n",
       "    <tr>\n",
       "      <th>min</th>\n",
       "      <td>-16.666667</td>\n",
       "      <td>0.000000</td>\n",
       "      <td>0.000000</td>\n",
       "      <td>0.000000</td>\n",
       "      <td>0.000000</td>\n",
       "      <td>0.000000</td>\n",
       "      <td>0.000000</td>\n",
       "    </tr>\n",
       "    <tr>\n",
       "      <th>25%</th>\n",
       "      <td>4.855556</td>\n",
       "      <td>0.610000</td>\n",
       "      <td>5.957000</td>\n",
       "      <td>118.000000</td>\n",
       "      <td>8.194900</td>\n",
       "      <td>1011.390000</td>\n",
       "      <td>0.000000</td>\n",
       "    </tr>\n",
       "    <tr>\n",
       "      <th>50%</th>\n",
       "      <td>11.777778</td>\n",
       "      <td>0.780000</td>\n",
       "      <td>10.143000</td>\n",
       "      <td>185.000000</td>\n",
       "      <td>9.982000</td>\n",
       "      <td>1016.210000</td>\n",
       "      <td>0.000000</td>\n",
       "    </tr>\n",
       "    <tr>\n",
       "      <th>75%</th>\n",
       "      <td>18.750000</td>\n",
       "      <td>0.890000</td>\n",
       "      <td>14.312900</td>\n",
       "      <td>290.000000</td>\n",
       "      <td>11.270000</td>\n",
       "      <td>1021.000000</td>\n",
       "      <td>0.000000</td>\n",
       "    </tr>\n",
       "    <tr>\n",
       "      <th>max</th>\n",
       "      <td>39.905556</td>\n",
       "      <td>1.000000</td>\n",
       "      <td>63.852600</td>\n",
       "      <td>359.000000</td>\n",
       "      <td>16.100000</td>\n",
       "      <td>1046.380000</td>\n",
       "      <td>1.000000</td>\n",
       "    </tr>\n",
       "  </tbody>\n",
       "</table>\n",
       "</div>"
      ],
      "text/plain": [
       "        Temperature      Humidity    Wind_speed  Wind_bearing    Visibility  \\\n",
       "count  43824.000000  43824.000000  43824.000000  43824.000000  43824.000000   \n",
       "mean      11.789543      0.732492     10.972127    189.951556      9.914277   \n",
       "std        9.527718      0.191495      7.024639    107.132753      3.793477   \n",
       "min      -16.666667      0.000000      0.000000      0.000000      0.000000   \n",
       "25%        4.855556      0.610000      5.957000    118.000000      8.194900   \n",
       "50%       11.777778      0.780000     10.143000    185.000000      9.982000   \n",
       "75%       18.750000      0.890000     14.312900    290.000000     11.270000   \n",
       "max       39.905556      1.000000     63.852600    359.000000     16.100000   \n",
       "\n",
       "           Pressure       Weather  \n",
       "count  43824.000000  43819.000000  \n",
       "mean    1001.865363      0.159269  \n",
       "std      121.552295      0.365931  \n",
       "min        0.000000      0.000000  \n",
       "25%     1011.390000      0.000000  \n",
       "50%     1016.210000      0.000000  \n",
       "75%     1021.000000      0.000000  \n",
       "max     1046.380000      1.000000  "
      ]
     },
     "metadata": {},
     "output_type": "display_data"
    },
    {
     "name": "stdout",
     "output_type": "stream",
     "text": [
      "\n",
      "Correlation matrix of numerical variables:\n",
      "------------------------------------------\n",
      "\n"
     ]
    },
    {
     "data": {
      "text/html": [
       "<div>\n",
       "<style scoped>\n",
       "    .dataframe tbody tr th:only-of-type {\n",
       "        vertical-align: middle;\n",
       "    }\n",
       "\n",
       "    .dataframe tbody tr th {\n",
       "        vertical-align: top;\n",
       "    }\n",
       "\n",
       "    .dataframe thead th {\n",
       "        text-align: right;\n",
       "    }\n",
       "</style>\n",
       "<table border=\"1\" class=\"dataframe\">\n",
       "  <thead>\n",
       "    <tr style=\"text-align: right;\">\n",
       "      <th></th>\n",
       "      <th>Temperature</th>\n",
       "      <th>Humidity</th>\n",
       "      <th>Wind_speed</th>\n",
       "      <th>Wind_bearing</th>\n",
       "      <th>Visibility</th>\n",
       "      <th>Pressure</th>\n",
       "      <th>Weather</th>\n",
       "    </tr>\n",
       "  </thead>\n",
       "  <tbody>\n",
       "    <tr>\n",
       "      <th>Temperature</th>\n",
       "      <td>1.000000</td>\n",
       "      <td>-0.626261</td>\n",
       "      <td>-0.000865</td>\n",
       "      <td>0.011999</td>\n",
       "      <td>0.348283</td>\n",
       "      <td>-0.036823</td>\n",
       "      <td>-0.382796</td>\n",
       "    </tr>\n",
       "    <tr>\n",
       "      <th>Humidity</th>\n",
       "      <td>-0.626261</td>\n",
       "      <td>1.000000</td>\n",
       "      <td>-0.225751</td>\n",
       "      <td>0.013195</td>\n",
       "      <td>-0.321460</td>\n",
       "      <td>0.004298</td>\n",
       "      <td>0.134289</td>\n",
       "    </tr>\n",
       "    <tr>\n",
       "      <th>Wind_speed</th>\n",
       "      <td>-0.000865</td>\n",
       "      <td>-0.225751</td>\n",
       "      <td>1.000000</td>\n",
       "      <td>0.121207</td>\n",
       "      <td>0.122641</td>\n",
       "      <td>-0.038202</td>\n",
       "      <td>-0.106498</td>\n",
       "    </tr>\n",
       "    <tr>\n",
       "      <th>Wind_bearing</th>\n",
       "      <td>0.011999</td>\n",
       "      <td>0.013195</td>\n",
       "      <td>0.121207</td>\n",
       "      <td>1.000000</td>\n",
       "      <td>0.051812</td>\n",
       "      <td>-0.006570</td>\n",
       "      <td>-0.051289</td>\n",
       "    </tr>\n",
       "    <tr>\n",
       "      <th>Visibility</th>\n",
       "      <td>0.348283</td>\n",
       "      <td>-0.321460</td>\n",
       "      <td>0.122641</td>\n",
       "      <td>0.051812</td>\n",
       "      <td>1.000000</td>\n",
       "      <td>0.014031</td>\n",
       "      <td>-0.240793</td>\n",
       "    </tr>\n",
       "    <tr>\n",
       "      <th>Pressure</th>\n",
       "      <td>-0.036823</td>\n",
       "      <td>0.004298</td>\n",
       "      <td>-0.038202</td>\n",
       "      <td>-0.006570</td>\n",
       "      <td>0.014031</td>\n",
       "      <td>1.000000</td>\n",
       "      <td>-0.016011</td>\n",
       "    </tr>\n",
       "    <tr>\n",
       "      <th>Weather</th>\n",
       "      <td>-0.382796</td>\n",
       "      <td>0.134289</td>\n",
       "      <td>-0.106498</td>\n",
       "      <td>-0.051289</td>\n",
       "      <td>-0.240793</td>\n",
       "      <td>-0.016011</td>\n",
       "      <td>1.000000</td>\n",
       "    </tr>\n",
       "  </tbody>\n",
       "</table>\n",
       "</div>"
      ],
      "text/plain": [
       "              Temperature  Humidity  Wind_speed  Wind_bearing  Visibility  \\\n",
       "Temperature      1.000000 -0.626261   -0.000865      0.011999    0.348283   \n",
       "Humidity        -0.626261  1.000000   -0.225751      0.013195   -0.321460   \n",
       "Wind_speed      -0.000865 -0.225751    1.000000      0.121207    0.122641   \n",
       "Wind_bearing     0.011999  0.013195    0.121207      1.000000    0.051812   \n",
       "Visibility       0.348283 -0.321460    0.122641      0.051812    1.000000   \n",
       "Pressure        -0.036823  0.004298   -0.038202     -0.006570    0.014031   \n",
       "Weather         -0.382796  0.134289   -0.106498     -0.051289   -0.240793   \n",
       "\n",
       "              Pressure   Weather  \n",
       "Temperature  -0.036823 -0.382796  \n",
       "Humidity      0.004298  0.134289  \n",
       "Wind_speed   -0.038202 -0.106498  \n",
       "Wind_bearing -0.006570 -0.051289  \n",
       "Visibility    0.014031 -0.240793  \n",
       "Pressure      1.000000 -0.016011  \n",
       "Weather      -0.016011  1.000000  "
      ]
     },
     "metadata": {},
     "output_type": "display_data"
    }
   ],
   "source": [
    "statistical_analysis_of_numerical_variables(df)"
   ]
  },
  {
   "cell_type": "markdown",
   "metadata": {},
   "source": [
    "# 4. Statistical analysis of `Weather`"
   ]
  },
  {
   "cell_type": "code",
   "execution_count": 19,
   "metadata": {},
   "outputs": [
    {
     "data": {
      "text/plain": [
       "Weather\n",
       "0.0    36840\n",
       "1.0     6979\n",
       "NaN        5\n",
       "Name: count, dtype: int64"
      ]
     },
     "execution_count": 19,
     "metadata": {},
     "output_type": "execute_result"
    }
   ],
   "source": [
    "df['Weather'].value_counts(dropna=False) "
   ]
  },
  {
   "cell_type": "markdown",
   "metadata": {},
   "source": [
    "# 5. Save the preprocessed dataset, and remove the previous one"
   ]
  },
  {
   "cell_type": "code",
   "execution_count": 20,
   "metadata": {},
   "outputs": [],
   "source": [
    "df.to_pickle(Path('datasets')/'weather_dataset_raw_development_columns.pkl')"
   ]
  },
  {
   "cell_type": "code",
   "execution_count": 21,
   "metadata": {},
   "outputs": [],
   "source": [
    "os.remove(Path('datasets')/'weather_dataset_raw_development_timestamp.pkl')"
   ]
  }
 ],
 "metadata": {
  "kernelspec": {
   "display_name": "Python 3 (ipykernel)",
   "language": "python",
   "name": "python3"
  },
  "language_info": {
   "codemirror_mode": {
    "name": "ipython",
    "version": 3
   },
   "file_extension": ".py",
   "mimetype": "text/x-python",
   "name": "python",
   "nbconvert_exporter": "python",
   "pygments_lexer": "ipython3",
   "version": "3.10.13"
  }
 },
 "nbformat": 4,
 "nbformat_minor": 4
}
