{
 "cells": [
  {
   "cell_type": "markdown",
   "metadata": {},
   "source": [
    "# 02a - Preprocess the `development dataset` - `Timestamp` as `index`"
   ]
  },
  {
   "cell_type": "markdown",
   "metadata": {},
   "source": [
    "__Goal__:\n",
    "\n",
    "1. Read the `development` dataset `weather_dataset_raw_development.csv`, and check that it is sorted or sortit according to the `Timestamp` variable;\n",
    "2. Preprocess the `Timestamp` variable, aka:\n",
    " - Remove rows with `Timestamp` duplicates;\n",
    " - Set the `Timestamp` variable as the `index` of the dataset;\n",
    " - Add empty rows (filled  with `Nan`s) to the dataset when a `Timestamp` is missing;\n",
    "3. Save the `development` dataset as `weather_dataset_raw_development_timestamp.pkl`."
   ]
  },
  {
   "cell_type": "markdown",
   "metadata": {},
   "source": [
    "### Import"
   ]
  },
  {
   "cell_type": "code",
   "execution_count": 1,
   "metadata": {},
   "outputs": [],
   "source": [
    "import pandas as pd\n",
    "from pathlib import Path"
   ]
  },
  {
   "cell_type": "code",
   "execution_count": 2,
   "metadata": {},
   "outputs": [],
   "source": [
    "data_dir = Path('../data')"
   ]
  },
  {
   "cell_type": "markdown",
   "metadata": {},
   "source": [
    "# 1. Read the `development` dataset, and  check that it is sorted or sort it"
   ]
  },
  {
   "cell_type": "markdown",
   "metadata": {},
   "source": [
    "## A. Read the `development` dataset"
   ]
  },
  {
   "cell_type": "code",
   "execution_count": 3,
   "metadata": {},
   "outputs": [
    {
     "name": "stdout",
     "output_type": "stream",
     "text": [
      "<class 'pandas.core.frame.DataFrame'>\n",
      "RangeIndex: 43848 entries, 0 to 43847\n",
      "Data columns (total 11 columns):\n",
      " #   Column                  Non-Null Count  Dtype  \n",
      "---  ------                  --------------  -----  \n",
      " 0   S_No                    43848 non-null  int64  \n",
      " 1   Timestamp               43848 non-null  object \n",
      " 2   Location                43848 non-null  object \n",
      " 3   Temperature_C           43848 non-null  float64\n",
      " 4   Apparent_Temperature_C  43848 non-null  float64\n",
      " 5   Humidity                43848 non-null  float64\n",
      " 6   Wind_speed_kmph         43848 non-null  float64\n",
      " 7   Wind_bearing_degrees    43848 non-null  int64  \n",
      " 8   Visibility_km           43848 non-null  float64\n",
      " 9   Pressure_millibars      43848 non-null  float64\n",
      " 10  Weather_conditions      43843 non-null  object \n",
      "dtypes: float64(6), int64(2), object(3)\n",
      "memory usage: 3.7+ MB\n"
     ]
    }
   ],
   "source": [
    "df = pd.read_csv(data_dir / 'weather_dataset_raw_development.csv')\n",
    "df.info()"
   ]
  },
  {
   "cell_type": "markdown",
   "metadata": {},
   "source": [
    "## B. Convert the `Timestamp` variable into a `datetime` without `UTC offsets`"
   ]
  },
  {
   "cell_type": "code",
   "execution_count": 4,
   "metadata": {},
   "outputs": [],
   "source": [
    "df['Timestamp'] = pd.to_datetime(df['Timestamp'], utc=True)"
   ]
  },
  {
   "cell_type": "code",
   "execution_count": 5,
   "metadata": {},
   "outputs": [
    {
     "data": {
      "text/plain": [
       "pandas._libs.tslibs.timestamps.Timestamp"
      ]
     },
     "execution_count": 5,
     "metadata": {},
     "output_type": "execute_result"
    }
   ],
   "source": [
    "type(df['Timestamp'][0])"
   ]
  },
  {
   "cell_type": "markdown",
   "metadata": {},
   "source": [
    "## C. Check that the dataset is sorted according to the `Timestamp` variable"
   ]
  },
  {
   "cell_type": "code",
   "execution_count": 6,
   "metadata": {},
   "outputs": [],
   "source": [
    "df.sort_values(by='Timestamp', inplace=True)"
   ]
  },
  {
   "cell_type": "code",
   "execution_count": 7,
   "metadata": {},
   "outputs": [
    {
     "data": {
      "text/html": [
       "<div>\n",
       "<style scoped>\n",
       "    .dataframe tbody tr th:only-of-type {\n",
       "        vertical-align: middle;\n",
       "    }\n",
       "\n",
       "    .dataframe tbody tr th {\n",
       "        vertical-align: top;\n",
       "    }\n",
       "\n",
       "    .dataframe thead th {\n",
       "        text-align: right;\n",
       "    }\n",
       "</style>\n",
       "<table border=\"1\" class=\"dataframe\">\n",
       "  <thead>\n",
       "    <tr style=\"text-align: right;\">\n",
       "      <th></th>\n",
       "      <th>S_No</th>\n",
       "      <th>Timestamp</th>\n",
       "      <th>Location</th>\n",
       "      <th>Temperature_C</th>\n",
       "      <th>Apparent_Temperature_C</th>\n",
       "      <th>Humidity</th>\n",
       "      <th>Wind_speed_kmph</th>\n",
       "      <th>Wind_bearing_degrees</th>\n",
       "      <th>Visibility_km</th>\n",
       "      <th>Pressure_millibars</th>\n",
       "      <th>Weather_conditions</th>\n",
       "    </tr>\n",
       "  </thead>\n",
       "  <tbody>\n",
       "    <tr>\n",
       "      <th>0</th>\n",
       "      <td>2881</td>\n",
       "      <td>2006-01-01 00:00:00+00:00</td>\n",
       "      <td>Port of Turku, Finland</td>\n",
       "      <td>1.161111</td>\n",
       "      <td>-3.238889</td>\n",
       "      <td>0.85</td>\n",
       "      <td>16.6152</td>\n",
       "      <td>139</td>\n",
       "      <td>9.9015</td>\n",
       "      <td>1016.15</td>\n",
       "      <td>rain</td>\n",
       "    </tr>\n",
       "    <tr>\n",
       "      <th>1</th>\n",
       "      <td>2882</td>\n",
       "      <td>2006-01-01 01:00:00+00:00</td>\n",
       "      <td>Port of Turku, Finland</td>\n",
       "      <td>1.666667</td>\n",
       "      <td>-3.155556</td>\n",
       "      <td>0.82</td>\n",
       "      <td>20.2538</td>\n",
       "      <td>140</td>\n",
       "      <td>9.9015</td>\n",
       "      <td>1015.87</td>\n",
       "      <td>rain</td>\n",
       "    </tr>\n",
       "    <tr>\n",
       "      <th>2</th>\n",
       "      <td>2883</td>\n",
       "      <td>2006-01-01 02:00:00+00:00</td>\n",
       "      <td>Port of Turku, Finland</td>\n",
       "      <td>1.711111</td>\n",
       "      <td>-2.194444</td>\n",
       "      <td>0.82</td>\n",
       "      <td>14.4900</td>\n",
       "      <td>140</td>\n",
       "      <td>9.9015</td>\n",
       "      <td>1015.56</td>\n",
       "      <td>rain</td>\n",
       "    </tr>\n",
       "    <tr>\n",
       "      <th>3</th>\n",
       "      <td>2884</td>\n",
       "      <td>2006-01-01 03:00:00+00:00</td>\n",
       "      <td>Port of Turku, Finland</td>\n",
       "      <td>1.183333</td>\n",
       "      <td>-2.744444</td>\n",
       "      <td>0.86</td>\n",
       "      <td>13.9426</td>\n",
       "      <td>134</td>\n",
       "      <td>9.9015</td>\n",
       "      <td>1014.98</td>\n",
       "      <td>rain</td>\n",
       "    </tr>\n",
       "    <tr>\n",
       "      <th>4</th>\n",
       "      <td>2885</td>\n",
       "      <td>2006-01-01 04:00:00+00:00</td>\n",
       "      <td>Port of Turku, Finland</td>\n",
       "      <td>1.205556</td>\n",
       "      <td>-3.072222</td>\n",
       "      <td>0.85</td>\n",
       "      <td>15.9068</td>\n",
       "      <td>149</td>\n",
       "      <td>9.9820</td>\n",
       "      <td>1014.08</td>\n",
       "      <td>rain</td>\n",
       "    </tr>\n",
       "  </tbody>\n",
       "</table>\n",
       "</div>"
      ],
      "text/plain": [
       "   S_No                 Timestamp                Location  Temperature_C  \\\n",
       "0  2881 2006-01-01 00:00:00+00:00  Port of Turku, Finland       1.161111   \n",
       "1  2882 2006-01-01 01:00:00+00:00  Port of Turku, Finland       1.666667   \n",
       "2  2883 2006-01-01 02:00:00+00:00  Port of Turku, Finland       1.711111   \n",
       "3  2884 2006-01-01 03:00:00+00:00  Port of Turku, Finland       1.183333   \n",
       "4  2885 2006-01-01 04:00:00+00:00  Port of Turku, Finland       1.205556   \n",
       "\n",
       "   Apparent_Temperature_C  Humidity  Wind_speed_kmph  Wind_bearing_degrees  \\\n",
       "0               -3.238889      0.85          16.6152                   139   \n",
       "1               -3.155556      0.82          20.2538                   140   \n",
       "2               -2.194444      0.82          14.4900                   140   \n",
       "3               -2.744444      0.86          13.9426                   134   \n",
       "4               -3.072222      0.85          15.9068                   149   \n",
       "\n",
       "   Visibility_km  Pressure_millibars Weather_conditions  \n",
       "0         9.9015             1016.15               rain  \n",
       "1         9.9015             1015.87               rain  \n",
       "2         9.9015             1015.56               rain  \n",
       "3         9.9015             1014.98               rain  \n",
       "4         9.9820             1014.08               rain  "
      ]
     },
     "execution_count": 7,
     "metadata": {},
     "output_type": "execute_result"
    }
   ],
   "source": [
    "df.head()"
   ]
  },
  {
   "cell_type": "code",
   "execution_count": 8,
   "metadata": {},
   "outputs": [
    {
     "data": {
      "text/html": [
       "<div>\n",
       "<style scoped>\n",
       "    .dataframe tbody tr th:only-of-type {\n",
       "        vertical-align: middle;\n",
       "    }\n",
       "\n",
       "    .dataframe tbody tr th {\n",
       "        vertical-align: top;\n",
       "    }\n",
       "\n",
       "    .dataframe thead th {\n",
       "        text-align: right;\n",
       "    }\n",
       "</style>\n",
       "<table border=\"1\" class=\"dataframe\">\n",
       "  <thead>\n",
       "    <tr style=\"text-align: right;\">\n",
       "      <th></th>\n",
       "      <th>S_No</th>\n",
       "      <th>Timestamp</th>\n",
       "      <th>Location</th>\n",
       "      <th>Temperature_C</th>\n",
       "      <th>Apparent_Temperature_C</th>\n",
       "      <th>Humidity</th>\n",
       "      <th>Wind_speed_kmph</th>\n",
       "      <th>Wind_bearing_degrees</th>\n",
       "      <th>Visibility_km</th>\n",
       "      <th>Pressure_millibars</th>\n",
       "      <th>Weather_conditions</th>\n",
       "    </tr>\n",
       "  </thead>\n",
       "  <tbody>\n",
       "    <tr>\n",
       "      <th>43843</th>\n",
       "      <td>37148</td>\n",
       "      <td>2010-12-31 19:00:00+00:00</td>\n",
       "      <td>Port of Turku, Finland</td>\n",
       "      <td>-7.222222</td>\n",
       "      <td>-7.222222</td>\n",
       "      <td>0.96</td>\n",
       "      <td>0.1449</td>\n",
       "      <td>230</td>\n",
       "      <td>3.4293</td>\n",
       "      <td>1025.43</td>\n",
       "      <td>snow</td>\n",
       "    </tr>\n",
       "    <tr>\n",
       "      <th>43844</th>\n",
       "      <td>37149</td>\n",
       "      <td>2010-12-31 20:00:00+00:00</td>\n",
       "      <td>Port of Turku, Finland</td>\n",
       "      <td>-7.200000</td>\n",
       "      <td>-7.200000</td>\n",
       "      <td>0.96</td>\n",
       "      <td>3.1717</td>\n",
       "      <td>258</td>\n",
       "      <td>3.4293</td>\n",
       "      <td>1025.57</td>\n",
       "      <td>snow</td>\n",
       "    </tr>\n",
       "    <tr>\n",
       "      <th>43845</th>\n",
       "      <td>37150</td>\n",
       "      <td>2010-12-31 21:00:00+00:00</td>\n",
       "      <td>Port of Turku, Finland</td>\n",
       "      <td>-7.244444</td>\n",
       "      <td>-7.244444</td>\n",
       "      <td>0.96</td>\n",
       "      <td>3.3327</td>\n",
       "      <td>311</td>\n",
       "      <td>4.2504</td>\n",
       "      <td>1025.36</td>\n",
       "      <td>snow</td>\n",
       "    </tr>\n",
       "    <tr>\n",
       "      <th>43846</th>\n",
       "      <td>37151</td>\n",
       "      <td>2010-12-31 22:00:00+00:00</td>\n",
       "      <td>Port of Turku, Finland</td>\n",
       "      <td>-7.127778</td>\n",
       "      <td>-7.127778</td>\n",
       "      <td>0.96</td>\n",
       "      <td>3.0751</td>\n",
       "      <td>260</td>\n",
       "      <td>3.8801</td>\n",
       "      <td>1025.59</td>\n",
       "      <td>snow</td>\n",
       "    </tr>\n",
       "    <tr>\n",
       "      <th>43847</th>\n",
       "      <td>46728</td>\n",
       "      <td>2010-12-31 23:00:00+00:00</td>\n",
       "      <td>Port of Turku, Finland</td>\n",
       "      <td>-7.105556</td>\n",
       "      <td>-7.105556</td>\n",
       "      <td>0.96</td>\n",
       "      <td>3.2039</td>\n",
       "      <td>249</td>\n",
       "      <td>3.4132</td>\n",
       "      <td>1025.47</td>\n",
       "      <td>snow</td>\n",
       "    </tr>\n",
       "  </tbody>\n",
       "</table>\n",
       "</div>"
      ],
      "text/plain": [
       "        S_No                 Timestamp                Location  Temperature_C  \\\n",
       "43843  37148 2010-12-31 19:00:00+00:00  Port of Turku, Finland      -7.222222   \n",
       "43844  37149 2010-12-31 20:00:00+00:00  Port of Turku, Finland      -7.200000   \n",
       "43845  37150 2010-12-31 21:00:00+00:00  Port of Turku, Finland      -7.244444   \n",
       "43846  37151 2010-12-31 22:00:00+00:00  Port of Turku, Finland      -7.127778   \n",
       "43847  46728 2010-12-31 23:00:00+00:00  Port of Turku, Finland      -7.105556   \n",
       "\n",
       "       Apparent_Temperature_C  Humidity  Wind_speed_kmph  \\\n",
       "43843               -7.222222      0.96           0.1449   \n",
       "43844               -7.200000      0.96           3.1717   \n",
       "43845               -7.244444      0.96           3.3327   \n",
       "43846               -7.127778      0.96           3.0751   \n",
       "43847               -7.105556      0.96           3.2039   \n",
       "\n",
       "       Wind_bearing_degrees  Visibility_km  Pressure_millibars  \\\n",
       "43843                   230         3.4293             1025.43   \n",
       "43844                   258         3.4293             1025.57   \n",
       "43845                   311         4.2504             1025.36   \n",
       "43846                   260         3.8801             1025.59   \n",
       "43847                   249         3.4132             1025.47   \n",
       "\n",
       "      Weather_conditions  \n",
       "43843               snow  \n",
       "43844               snow  \n",
       "43845               snow  \n",
       "43846               snow  \n",
       "43847               snow  "
      ]
     },
     "execution_count": 8,
     "metadata": {},
     "output_type": "execute_result"
    }
   ],
   "source": [
    "df.tail()"
   ]
  },
  {
   "cell_type": "markdown",
   "metadata": {},
   "source": [
    "# 2. Preprocess the `Timestamp` variable"
   ]
  },
  {
   "cell_type": "markdown",
   "metadata": {},
   "source": [
    "## A. Remove `Timestamp` duplicates"
   ]
  },
  {
   "cell_type": "code",
   "execution_count": 9,
   "metadata": {},
   "outputs": [
    {
     "name": "stdout",
     "output_type": "stream",
     "text": [
      "<class 'pandas.core.frame.DataFrame'>\n",
      "Index: 43824 entries, 0 to 43847\n",
      "Data columns (total 11 columns):\n",
      " #   Column                  Non-Null Count  Dtype              \n",
      "---  ------                  --------------  -----              \n",
      " 0   S_No                    43824 non-null  int64              \n",
      " 1   Timestamp               43824 non-null  datetime64[ns, UTC]\n",
      " 2   Location                43824 non-null  object             \n",
      " 3   Temperature_C           43824 non-null  float64            \n",
      " 4   Apparent_Temperature_C  43824 non-null  float64            \n",
      " 5   Humidity                43824 non-null  float64            \n",
      " 6   Wind_speed_kmph         43824 non-null  float64            \n",
      " 7   Wind_bearing_degrees    43824 non-null  int64              \n",
      " 8   Visibility_km           43824 non-null  float64            \n",
      " 9   Pressure_millibars      43824 non-null  float64            \n",
      " 10  Weather_conditions      43819 non-null  object             \n",
      "dtypes: datetime64[ns, UTC](1), float64(6), int64(2), object(2)\n",
      "memory usage: 4.0+ MB\n"
     ]
    }
   ],
   "source": [
    "df = df.drop_duplicates(subset=[\"Timestamp\"], keep=\"last\")\n",
    "df.info() # 24 duplicates removed"
   ]
  },
  {
   "cell_type": "code",
   "execution_count": 10,
   "metadata": {},
   "outputs": [
    {
     "data": {
      "text/plain": [
       "0                   NaT\n",
       "1       0 days 01:00:00\n",
       "2       0 days 01:00:00\n",
       "3       0 days 01:00:00\n",
       "4       0 days 01:00:00\n",
       "              ...      \n",
       "43843   0 days 01:00:00\n",
       "43844   0 days 01:00:00\n",
       "43845   0 days 01:00:00\n",
       "43846   0 days 01:00:00\n",
       "43847   0 days 01:00:00\n",
       "Name: Timestamp, Length: 43824, dtype: timedelta64[ns]"
      ]
     },
     "execution_count": 10,
     "metadata": {},
     "output_type": "execute_result"
    }
   ],
   "source": [
    "df[\"Timestamp\"].diff()"
   ]
  },
  {
   "cell_type": "markdown",
   "metadata": {},
   "source": [
    "## B. Set the `Timestamp` variable as the `index` of the dataset"
   ]
  },
  {
   "cell_type": "code",
   "execution_count": 11,
   "metadata": {},
   "outputs": [],
   "source": [
    "df.set_index('Timestamp', inplace=True)"
   ]
  },
  {
   "cell_type": "markdown",
   "metadata": {},
   "source": [
    "## C. Add empty rows to the dataset when a `Timestamp` is missing"
   ]
  },
  {
   "cell_type": "code",
   "execution_count": 12,
   "metadata": {},
   "outputs": [
    {
     "name": "stdout",
     "output_type": "stream",
     "text": [
      "Minimum index of \"df\": 2006-01-01 00:00:00+00:00 \n",
      "Maximum index of \"df\": 2010-12-31 23:00:00+00:00\n"
     ]
    }
   ],
   "source": [
    "df_min_timestamp = df.index.min()\n",
    "df_max_timestamp = df.index.max()\n",
    "print(f'Minimum index of \"df\": {df_min_timestamp} \\nMaximum index of \"df\": {df_max_timestamp}')"
   ]
  },
  {
   "cell_type": "code",
   "execution_count": 13,
   "metadata": {},
   "outputs": [
    {
     "name": "stdout",
     "output_type": "stream",
     "text": [
      "Length of the dataframe `df`: 43824\n",
      "Length of the datetime index `regular_timestamp_range`: 43824\n",
      "\n",
      "No timestamp was missing in the dataframe.\n"
     ]
    }
   ],
   "source": [
    "regular_timestamp_range = pd.date_range(start=df_min_timestamp, end=df_max_timestamp,freq='H')\n",
    "print(f\"Length of the dataframe `df`: {len(df)}\\nLength of the datetime index `regular_timestamp_range`: {len(regular_timestamp_range)}\")\n",
    "if len(df) == len(regular_timestamp_range):\n",
    "    print(\"\\nNo timestamp was missing in the dataframe.\")"
   ]
  },
  {
   "cell_type": "code",
   "execution_count": 14,
   "metadata": {},
   "outputs": [
    {
     "name": "stdout",
     "output_type": "stream",
     "text": [
      "<class 'pandas.core.frame.DataFrame'>\n",
      "DatetimeIndex: 43824 entries, 2006-01-01 00:00:00+00:00 to 2010-12-31 23:00:00+00:00\n",
      "Freq: H\n",
      "Data columns (total 10 columns):\n",
      " #   Column                  Non-Null Count  Dtype  \n",
      "---  ------                  --------------  -----  \n",
      " 0   S_No                    43824 non-null  int64  \n",
      " 1   Location                43824 non-null  object \n",
      " 2   Temperature_C           43824 non-null  float64\n",
      " 3   Apparent_Temperature_C  43824 non-null  float64\n",
      " 4   Humidity                43824 non-null  float64\n",
      " 5   Wind_speed_kmph         43824 non-null  float64\n",
      " 6   Wind_bearing_degrees    43824 non-null  int64  \n",
      " 7   Visibility_km           43824 non-null  float64\n",
      " 8   Pressure_millibars      43824 non-null  float64\n",
      " 9   Weather_conditions      43819 non-null  object \n",
      "dtypes: float64(6), int64(2), object(2)\n",
      "memory usage: 3.7+ MB\n"
     ]
    }
   ],
   "source": [
    "regular_timestamp_df = df.reindex(regular_timestamp_range, copy=True)\n",
    "regular_timestamp_df.info()"
   ]
  },
  {
   "cell_type": "markdown",
   "metadata": {},
   "source": [
    "# 3. Save the `development` dataset as `weather_dataset_raw_development.pkl`"
   ]
  },
  {
   "cell_type": "code",
   "execution_count": 15,
   "metadata": {},
   "outputs": [],
   "source": [
    "regular_timestamp_df.to_pickle(data_dir/'weather_dataset_raw_development_timestamp.pkl')"
   ]
  }
 ],
 "metadata": {
  "kernelspec": {
   "display_name": "Python 3 (ipykernel)",
   "language": "python",
   "name": "python3"
  },
  "language_info": {
   "codemirror_mode": {
    "name": "ipython",
    "version": 3
   },
   "file_extension": ".py",
   "mimetype": "text/x-python",
   "name": "python",
   "nbconvert_exporter": "python",
   "pygments_lexer": "ipython3",
   "version": "3.10.13"
  }
 },
 "nbformat": 4,
 "nbformat_minor": 4
}
