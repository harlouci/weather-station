{
 "cells": [
  {
   "cell_type": "markdown",
   "id": "be68fa4a-9012-4826-a75d-0416c1844c7c",
   "metadata": {},
   "source": [
    "# 6c - Raw data without NaNs"
   ]
  },
  {
   "cell_type": "markdown",
   "id": "6d4c9d0f-06da-48cc-8389-a991a7ea4ce2",
   "metadata": {},
   "source": [
    "### Import"
   ]
  },
  {
   "cell_type": "code",
   "execution_count": 32,
   "id": "f5f14228-7a03-478c-955b-c3455727df4b",
   "metadata": {},
   "outputs": [],
   "source": [
    "import pandas as pd\n",
    "import warnings \n",
    "warnings.filterwarnings('ignore')\n",
    "from pathlib import Path"
   ]
  },
  {
   "cell_type": "markdown",
   "id": "10b19143-af9d-4b85-8fdb-52f0b4536bc6",
   "metadata": {},
   "source": [
    "### Set the directory paths"
   ]
  },
  {
   "cell_type": "code",
   "execution_count": 33,
   "id": "31e47fa1-30d6-411f-8281-fed699d5d1e1",
   "metadata": {},
   "outputs": [],
   "source": [
    "data_dir =  Path.cwd().parent / \"data\""
   ]
  },
  {
   "cell_type": "markdown",
   "id": "a5621938-be52-4f33-8a02-cadf2987fac0",
   "metadata": {},
   "source": [
    "### Read raw data"
   ]
  },
  {
   "cell_type": "code",
   "execution_count": 34,
   "id": "6fcb9bca-3573-43fe-a334-4b3cfa8e4a92",
   "metadata": {},
   "outputs": [
    {
     "data": {
      "text/plain": [
       "96453"
      ]
     },
     "execution_count": 34,
     "metadata": {},
     "output_type": "execute_result"
    }
   ],
   "source": [
    "df = pd.read_csv(data_dir / 'weather_dataset_raw.csv')\n",
    "len(df)"
   ]
  },
  {
   "cell_type": "markdown",
   "id": "43143f60",
   "metadata": {},
   "source": [
    "### Cast `Timestamp` into `datetime`"
   ]
  },
  {
   "cell_type": "code",
   "execution_count": 35,
   "id": "15bdef43-d9e8-46e4-b40d-d8290672cf7f",
   "metadata": {},
   "outputs": [],
   "source": [
    "df['Timestamp'] = pd.to_datetime(df['Timestamp'], utc=True)"
   ]
  },
  {
   "cell_type": "code",
   "execution_count": 36,
   "id": "1e977da9-5d0b-4b01-8565-97fe97f7467a",
   "metadata": {},
   "outputs": [
    {
     "data": {
      "text/plain": [
       "96453"
      ]
     },
     "execution_count": 36,
     "metadata": {},
     "output_type": "execute_result"
    }
   ],
   "source": [
    "df.sort_values(by='Timestamp', inplace=True)\n",
    "len(df)"
   ]
  },
  {
   "cell_type": "code",
   "execution_count": 37,
   "id": "57e81917-bdbc-4760-9dd4-7d3511483e6b",
   "metadata": {},
   "outputs": [
    {
     "data": {
      "text/plain": [
       "96429"
      ]
     },
     "execution_count": 37,
     "metadata": {},
     "output_type": "execute_result"
    }
   ],
   "source": [
    "df = df.drop_duplicates(subset=[\"Timestamp\"], keep=\"last\")\n",
    "len(df) # 24 duplicates removed "
   ]
  },
  {
   "cell_type": "code",
   "execution_count": 38,
   "id": "dc2247fc-8253-4d19-897c-5586ceb00193",
   "metadata": {},
   "outputs": [],
   "source": [
    "df.set_index('Timestamp', inplace=True)"
   ]
  },
  {
   "cell_type": "code",
   "execution_count": 39,
   "id": "581a11a6-7266-4611-b180-e539b0b1eaa3",
   "metadata": {},
   "outputs": [
    {
     "name": "stdout",
     "output_type": "stream",
     "text": [
      "Minimum index of \"df\": 2005-12-31 23:00:00+00:00 \n",
      "Maximum index of \"df\": 2016-12-31 22:00:00+00:00\n"
     ]
    }
   ],
   "source": [
    "df_min_timestamp = df.index.min()\n",
    "df_max_timestamp = df.index.max()\n",
    "print(f'Minimum index of \"df\": {df_min_timestamp} \\nMaximum index of \"df\": {df_max_timestamp}')"
   ]
  },
  {
   "cell_type": "code",
   "execution_count": 40,
   "id": "cc393e0c-7354-4163-b401-4266af1525cb",
   "metadata": {},
   "outputs": [
    {
     "name": "stdout",
     "output_type": "stream",
     "text": [
      "Length of the dataframe `df`: 96429\n",
      "Length of the datetime index `regular_timestamp_range`: 96432\n",
      "\n",
      "3 timestamp(s) were missing in the dataframe.\n"
     ]
    }
   ],
   "source": [
    "regular_timestamp_range = pd.date_range(start=df_min_timestamp, end=df_max_timestamp,freq='H')\n",
    "print(f\"Length of the dataframe `df`: {len(df)}\\nLength of the datetime index `regular_timestamp_range`: {len(regular_timestamp_range)}\")\n",
    "diff = len(regular_timestamp_range) - len(df)\n",
    "if diff == 0:\n",
    "    print(\"\\nNo timestamp was missing in the dataframe.\")\n",
    "else:\n",
    "    print(f\"\\n{diff} timestamp(s) were missing in the dataframe.\")"
   ]
  },
  {
   "cell_type": "code",
   "execution_count": 41,
   "id": "6b99795d-b24f-46c4-8e6c-fb28c49d4d3c",
   "metadata": {},
   "outputs": [
    {
     "data": {
      "text/plain": [
       "96432"
      ]
     },
     "execution_count": 41,
     "metadata": {},
     "output_type": "execute_result"
    }
   ],
   "source": [
    "df = df.reindex(regular_timestamp_range, copy=True)\n",
    "len(df)"
   ]
  },
  {
   "cell_type": "code",
   "execution_count": 42,
   "id": "c8d5ad38",
   "metadata": {},
   "outputs": [],
   "source": [
    "df[\"Timestamp\"] = df.index"
   ]
  },
  {
   "cell_type": "code",
   "execution_count": 43,
   "id": "68a07039",
   "metadata": {},
   "outputs": [
    {
     "data": {
      "text/html": [
       "<div>\n",
       "<style scoped>\n",
       "    .dataframe tbody tr th:only-of-type {\n",
       "        vertical-align: middle;\n",
       "    }\n",
       "\n",
       "    .dataframe tbody tr th {\n",
       "        vertical-align: top;\n",
       "    }\n",
       "\n",
       "    .dataframe thead th {\n",
       "        text-align: right;\n",
       "    }\n",
       "</style>\n",
       "<table border=\"1\" class=\"dataframe\">\n",
       "  <thead>\n",
       "    <tr style=\"text-align: right;\">\n",
       "      <th></th>\n",
       "      <th>S_No</th>\n",
       "      <th>Location</th>\n",
       "      <th>Temperature_C</th>\n",
       "      <th>Apparent_Temperature_C</th>\n",
       "      <th>Humidity</th>\n",
       "      <th>Wind_speed_kmph</th>\n",
       "      <th>Wind_bearing_degrees</th>\n",
       "      <th>Visibility_km</th>\n",
       "      <th>Pressure_millibars</th>\n",
       "      <th>Weather_conditions</th>\n",
       "      <th>Timestamp</th>\n",
       "    </tr>\n",
       "  </thead>\n",
       "  <tbody>\n",
       "    <tr>\n",
       "      <th>0</th>\n",
       "      <td>2880.0</td>\n",
       "      <td>Port of Turku, Finland</td>\n",
       "      <td>0.577778</td>\n",
       "      <td>-4.05</td>\n",
       "      <td>0.89</td>\n",
       "      <td>17.1143</td>\n",
       "      <td>140.0</td>\n",
       "      <td>9.982</td>\n",
       "      <td>1016.66</td>\n",
       "      <td>rain</td>\n",
       "      <td>2005-12-31 23:00:00+00:00</td>\n",
       "    </tr>\n",
       "  </tbody>\n",
       "</table>\n",
       "</div>"
      ],
      "text/plain": [
       "     S_No                Location  Temperature_C  Apparent_Temperature_C  \\\n",
       "0  2880.0  Port of Turku, Finland       0.577778                   -4.05   \n",
       "\n",
       "   Humidity  Wind_speed_kmph  Wind_bearing_degrees  Visibility_km  \\\n",
       "0      0.89          17.1143                 140.0          9.982   \n",
       "\n",
       "   Pressure_millibars Weather_conditions                 Timestamp  \n",
       "0             1016.66               rain 2005-12-31 23:00:00+00:00  "
      ]
     },
     "execution_count": 43,
     "metadata": {},
     "output_type": "execute_result"
    }
   ],
   "source": [
    "df.reset_index(drop=True, inplace=True)\n",
    "df.head(1)"
   ]
  },
  {
   "cell_type": "markdown",
   "id": "f38842c7",
   "metadata": {},
   "source": [
    "### Remove `NaNs`"
   ]
  },
  {
   "cell_type": "code",
   "execution_count": 44,
   "id": "16ad73f7-eef4-4105-ad8d-30176100bb9f",
   "metadata": {},
   "outputs": [
    {
     "data": {
      "text/plain": [
       "35"
      ]
     },
     "execution_count": 44,
     "metadata": {},
     "output_type": "execute_result"
    }
   ],
   "source": [
    "df.isna().sum().sum()"
   ]
  },
  {
   "cell_type": "code",
   "execution_count": 45,
   "id": "d68542c2-cd04-4bc7-a870-f844a0c57815",
   "metadata": {},
   "outputs": [],
   "source": [
    "df[:1] = df.bfill()[:1]"
   ]
  },
  {
   "cell_type": "code",
   "execution_count": 46,
   "id": "6768265b-8264-4df2-8164-b50d93ff5dc4",
   "metadata": {},
   "outputs": [],
   "source": [
    "df.ffill(inplace=True)"
   ]
  },
  {
   "cell_type": "code",
   "execution_count": 47,
   "id": "8808144c-548b-4790-a3b0-7711aee44723",
   "metadata": {},
   "outputs": [
    {
     "data": {
      "text/plain": [
       "0"
      ]
     },
     "execution_count": 47,
     "metadata": {},
     "output_type": "execute_result"
    }
   ],
   "source": [
    "df.isna().sum().sum()"
   ]
  },
  {
   "cell_type": "markdown",
   "id": "ce4bdd0d",
   "metadata": {},
   "source": [
    "### Split data into `dev` and `prod`"
   ]
  },
  {
   "cell_type": "code",
   "execution_count": 48,
   "id": "436e5189-7f7c-4261-949d-c6d31730783e",
   "metadata": {},
   "outputs": [
    {
     "data": {
      "text/plain": [
       "43824"
      ]
     },
     "execution_count": 48,
     "metadata": {},
     "output_type": "execute_result"
    }
   ],
   "source": [
    "dev_period = (df[\"Timestamp\"] >= \"2006\") & (df[\"Timestamp\"] < \"2011\")\n",
    "dev_df = df[dev_period]\n",
    "dev_df\n",
    "len(dev_df)"
   ]
  },
  {
   "cell_type": "code",
   "execution_count": 49,
   "id": "7d003136-ccff-4773-b70a-671f7dfb104b",
   "metadata": {},
   "outputs": [
    {
     "data": {
      "text/html": [
       "<div>\n",
       "<style scoped>\n",
       "    .dataframe tbody tr th:only-of-type {\n",
       "        vertical-align: middle;\n",
       "    }\n",
       "\n",
       "    .dataframe tbody tr th {\n",
       "        vertical-align: top;\n",
       "    }\n",
       "\n",
       "    .dataframe thead th {\n",
       "        text-align: right;\n",
       "    }\n",
       "</style>\n",
       "<table border=\"1\" class=\"dataframe\">\n",
       "  <thead>\n",
       "    <tr style=\"text-align: right;\">\n",
       "      <th></th>\n",
       "      <th>S_No</th>\n",
       "      <th>Location</th>\n",
       "      <th>Temperature_C</th>\n",
       "      <th>Apparent_Temperature_C</th>\n",
       "      <th>Humidity</th>\n",
       "      <th>Wind_speed_kmph</th>\n",
       "      <th>Wind_bearing_degrees</th>\n",
       "      <th>Visibility_km</th>\n",
       "      <th>Pressure_millibars</th>\n",
       "      <th>Weather_conditions</th>\n",
       "      <th>Timestamp</th>\n",
       "    </tr>\n",
       "  </thead>\n",
       "  <tbody>\n",
       "    <tr>\n",
       "      <th>1</th>\n",
       "      <td>2881.0</td>\n",
       "      <td>Port of Turku, Finland</td>\n",
       "      <td>1.161111</td>\n",
       "      <td>-3.238889</td>\n",
       "      <td>0.85</td>\n",
       "      <td>16.6152</td>\n",
       "      <td>139.0</td>\n",
       "      <td>9.9015</td>\n",
       "      <td>1016.15</td>\n",
       "      <td>rain</td>\n",
       "      <td>2006-01-01 00:00:00+00:00</td>\n",
       "    </tr>\n",
       "  </tbody>\n",
       "</table>\n",
       "</div>"
      ],
      "text/plain": [
       "     S_No                Location  Temperature_C  Apparent_Temperature_C  \\\n",
       "1  2881.0  Port of Turku, Finland       1.161111               -3.238889   \n",
       "\n",
       "   Humidity  Wind_speed_kmph  Wind_bearing_degrees  Visibility_km  \\\n",
       "1      0.85          16.6152                 139.0         9.9015   \n",
       "\n",
       "   Pressure_millibars Weather_conditions                 Timestamp  \n",
       "1             1016.15               rain 2006-01-01 00:00:00+00:00  "
      ]
     },
     "execution_count": 49,
     "metadata": {},
     "output_type": "execute_result"
    }
   ],
   "source": [
    "dev_df.head(1)"
   ]
  },
  {
   "cell_type": "code",
   "execution_count": 50,
   "id": "0d0063c7-1efa-47dc-9524-9ccf779ca403",
   "metadata": {},
   "outputs": [
    {
     "data": {
      "text/plain": [
       "52607"
      ]
     },
     "execution_count": 50,
     "metadata": {},
     "output_type": "execute_result"
    }
   ],
   "source": [
    "prod_period = df[\"Timestamp\"] >= \"2011\"\n",
    "prod_df = df[prod_period]\n",
    "len(prod_df)"
   ]
  },
  {
   "cell_type": "code",
   "execution_count": 51,
   "id": "f3dbe228-557c-4913-96e9-4b9b67c0e586",
   "metadata": {},
   "outputs": [
    {
     "data": {
      "text/html": [
       "<div>\n",
       "<style scoped>\n",
       "    .dataframe tbody tr th:only-of-type {\n",
       "        vertical-align: middle;\n",
       "    }\n",
       "\n",
       "    .dataframe tbody tr th {\n",
       "        vertical-align: top;\n",
       "    }\n",
       "\n",
       "    .dataframe thead th {\n",
       "        text-align: right;\n",
       "    }\n",
       "</style>\n",
       "<table border=\"1\" class=\"dataframe\">\n",
       "  <thead>\n",
       "    <tr style=\"text-align: right;\">\n",
       "      <th></th>\n",
       "      <th>S_No</th>\n",
       "      <th>Location</th>\n",
       "      <th>Temperature_C</th>\n",
       "      <th>Apparent_Temperature_C</th>\n",
       "      <th>Humidity</th>\n",
       "      <th>Wind_speed_kmph</th>\n",
       "      <th>Wind_bearing_degrees</th>\n",
       "      <th>Visibility_km</th>\n",
       "      <th>Pressure_millibars</th>\n",
       "      <th>Weather_conditions</th>\n",
       "      <th>Timestamp</th>\n",
       "    </tr>\n",
       "  </thead>\n",
       "  <tbody>\n",
       "    <tr>\n",
       "      <th>43825</th>\n",
       "      <td>46729.0</td>\n",
       "      <td>Port of Turku, Finland</td>\n",
       "      <td>-7.1</td>\n",
       "      <td>-7.1</td>\n",
       "      <td>0.96</td>\n",
       "      <td>3.8962</td>\n",
       "      <td>195.0</td>\n",
       "      <td>3.9123</td>\n",
       "      <td>1025.25</td>\n",
       "      <td>snow</td>\n",
       "      <td>2011-01-01 00:00:00+00:00</td>\n",
       "    </tr>\n",
       "  </tbody>\n",
       "</table>\n",
       "</div>"
      ],
      "text/plain": [
       "          S_No                Location  Temperature_C  Apparent_Temperature_C  \\\n",
       "43825  46729.0  Port of Turku, Finland           -7.1                    -7.1   \n",
       "\n",
       "       Humidity  Wind_speed_kmph  Wind_bearing_degrees  Visibility_km  \\\n",
       "43825      0.96           3.8962                 195.0         3.9123   \n",
       "\n",
       "       Pressure_millibars Weather_conditions                 Timestamp  \n",
       "43825             1025.25               snow 2011-01-01 00:00:00+00:00  "
      ]
     },
     "execution_count": 51,
     "metadata": {},
     "output_type": "execute_result"
    }
   ],
   "source": [
    "prod_df.head(1)"
   ]
  },
  {
   "cell_type": "markdown",
   "id": "0d629906",
   "metadata": {},
   "source": [
    "###  Store `dev` and `prod` data as `csv` files"
   ]
  },
  {
   "cell_type": "code",
   "execution_count": 52,
   "id": "344b4fd4-ae7e-4fcf-a267-00ea94de2d82",
   "metadata": {},
   "outputs": [],
   "source": [
    "dev_df.to_csv(data_dir/'weather_dataset_raw_development.csv', index=False)"
   ]
  },
  {
   "cell_type": "code",
   "execution_count": 53,
   "id": "c4ffa65f-c557-442a-8128-7ffe9be78e9c",
   "metadata": {},
   "outputs": [],
   "source": [
    "prod_df.to_csv(data_dir/'weather_dataset_raw_production.csv', index=False)"
   ]
  },
  {
   "cell_type": "code",
   "execution_count": null,
   "id": "7b52856a-beb8-4050-a788-9a496a0f03ca",
   "metadata": {},
   "outputs": [],
   "source": []
  }
 ],
 "metadata": {
  "kernelspec": {
   "display_name": "Python 3 (ipykernel)",
   "language": "python",
   "name": "python3"
  },
  "language_info": {
   "codemirror_mode": {
    "name": "ipython",
    "version": 3
   },
   "file_extension": ".py",
   "mimetype": "text/x-python",
   "name": "python",
   "nbconvert_exporter": "python",
   "pygments_lexer": "ipython3",
   "version": "3.11.5"
  }
 },
 "nbformat": 4,
 "nbformat_minor": 5
}
