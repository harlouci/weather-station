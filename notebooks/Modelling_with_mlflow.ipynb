{
 "cells": [
  {
   "cell_type": "markdown",
   "id": "be68fa4a-9012-4826-a75d-0416c1844c7c",
   "metadata": {},
   "source": [
    "# Modelling with mlflow"
   ]
  },
  {
   "cell_type": "markdown",
   "id": "d812e960-3d55-4b1c-a38c-7e189c70cd2b",
   "metadata": {},
   "source": [
    "__Goal__: Add `mlflow` to a simpliefied version of notebook `Modelling.ipynb`. "
   ]
  },
  {
   "cell_type": "markdown",
   "id": "6d4c9d0f-06da-48cc-8389-a991a7ea4ce2",
   "metadata": {},
   "source": [
    "### Import"
   ]
  },
  {
   "cell_type": "code",
   "execution_count": 1,
   "id": "f5f14228-7a03-478c-955b-c3455727df4b",
   "metadata": {},
   "outputs": [],
   "source": [
    "%load_ext autoreload\n",
    "%autoreload 2\n",
    "import joblib\n",
    "import mlflow\n",
    "import pandas as pd\n",
    "import warnings \n",
    "warnings.filterwarnings('ignore')\n",
    "from pathlib import Path\n",
    "from pprint import pprint\n",
    "\n",
    "from sklearn.ensemble import RandomForestClassifier\n",
    "from sklearn.linear_model import LogisticRegression\n",
    "from sklearn.metrics import (\n",
    "    accuracy_score,\n",
    "    f1_score,\n",
    "    precision_score,\n",
    "    recall_score,\n",
    ")\n",
    "from sklearn.svm import LinearSVC, SVC\n",
    "from sklearn.tree import DecisionTreeClassifier\n",
    "\n",
    "from weather.transformers.skl_transformer_makers import (\n",
    "    FeatureNames,\n",
    "    TargetChoice,\n",
    "    make_dataset_ingestion_transformer,\n",
    "    make_target_creation_transformer,\n",
    "    make_remove_horizonless_rows_transformer, \n",
    "    make_predictors_feature_engineering_transformer,\n",
    ")\n",
    "from weather.data.prep_datasets import (\n",
    "    prepare_binary_classification_tabular_data, \n",
    "    transform_dataset_and_create_target,\n",
    ")\n",
    "from weather.mlflow.tracking import (\n",
    "    get_best_run,\n",
    "    explore_best_runs, \n",
    "    load_model_from_run,\n",
    ")\n",
    "from weather.mlflow.registry import (\n",
    "    register_model_from_run, \n",
    "    get_latest_model_versions,\n",
    "    load_production_model,\n",
    "    transition_model_to_production,\n",
    ")\n",
    "from weather.helpers.utils import camel_to_snake\n",
    "from weather.models.skl_tracked_train_models import (\n",
    "    Experiment,\n",
    "    train_and_evaluate_with_tracking,\n",
    ")\n",
    "from weather.models.skl_train_models import (\n",
    "    train_and_evaluate, \n",
    "    score_evaluation,\n",
    ")"
   ]
  },
  {
   "cell_type": "markdown",
   "id": "10b19143-af9d-4b85-8fdb-52f0b4536bc6",
   "metadata": {},
   "source": [
    "### Set the directory paths"
   ]
  },
  {
   "cell_type": "code",
   "execution_count": 2,
   "id": "31e47fa1-30d6-411f-8281-fed699d5d1e1",
   "metadata": {},
   "outputs": [],
   "source": [
    "data_dir =  Path.cwd().parent / \"data\"\n",
    "models_dir = Path.cwd().parent / \"models\"\n",
    "models_dir.mkdir(exist_ok=True)"
   ]
  },
  {
   "cell_type": "markdown",
   "id": "d74e823b-30ee-453b-8931-cc304e059ae4",
   "metadata": {},
   "source": [
    "### Set the transformers parameters"
   ]
  },
  {
   "cell_type": "code",
   "execution_count": 3,
   "id": "61482ed5-956f-4b18-9efa-469a2fcd1ad0",
   "metadata": {},
   "outputs": [],
   "source": [
    "# Set column names\n",
    "oldnames_newnames_dict = {\n",
    "    \"Temperature_C\": \"Temperature\", \n",
    "    \"Apparent_Temperature_C\": \"Apparent_temperature\",\n",
    "    \"Wind_speed_kmph\": \"Wind_speed\",\n",
    "    \"Wind_bearing_degrees\": \"Wind_bearing\",\n",
    "    \"Visibility_km\": \"Visibility\",\n",
    "    \"Pressure_millibars\": \"Pressure\",\n",
    "    \"Weather_conditions\": \"Weather\"}\n",
    "\n",
    "# Select \"predicted\", aka \"Weather\" in 4 hours\n",
    "target_name = \"Weather\"\n",
    "horizon = 4\n",
    "target_choice = TargetChoice(target_name, horizon)\n",
    "\n",
    "# Select feature_names\n",
    "feature_names = FeatureNames(\n",
    "    numerical=[\n",
    "        \"Temperature\",\n",
    "        \"Humidity\",\n",
    "        \"Wind_speed\",\n",
    "        \"Wind_bearing\",\n",
    "        \"Visibility\",\n",
    "        \"Pressure\",\n",
    "    ],\n",
    "    categorical=[],  # Add or remove \"Weather\", \"Month\" to the predictors\n",
    ")"
   ]
  },
  {
   "cell_type": "markdown",
   "id": "566883d3-cb31-409d-af79-18bc07f8ce5a",
   "metadata": {},
   "source": [
    "### Build the transformers"
   ]
  },
  {
   "cell_type": "code",
   "execution_count": 4,
   "id": "05033867-8cb3-499b-92a3-12d33f0138b9",
   "metadata": {},
   "outputs": [],
   "source": [
    "dataset_ingestion_transformer = make_dataset_ingestion_transformer(target_choice, oldnames_newnames_dict)\n",
    "remove_horizonless_rows_transformer = make_remove_horizonless_rows_transformer(target_choice)\n",
    "target_creation_transformer = make_target_creation_transformer(target_choice)                       \n",
    "predictors_feature_engineering_transformer = make_predictors_feature_engineering_transformer(feature_names, target_choice)"
   ]
  },
  {
   "cell_type": "markdown",
   "id": "e0d6299f-c160-4294-95f1-6d919513e5ea",
   "metadata": {},
   "source": [
    "### Read the development raw data"
   ]
  },
  {
   "cell_type": "code",
   "execution_count": 5,
   "id": "0e868205-9670-4633-b7b3-60e62821b4ed",
   "metadata": {},
   "outputs": [
    {
     "data": {
      "text/html": [
       "<div>\n",
       "<style scoped>\n",
       "    .dataframe tbody tr th:only-of-type {\n",
       "        vertical-align: middle;\n",
       "    }\n",
       "\n",
       "    .dataframe tbody tr th {\n",
       "        vertical-align: top;\n",
       "    }\n",
       "\n",
       "    .dataframe thead th {\n",
       "        text-align: right;\n",
       "    }\n",
       "</style>\n",
       "<table border=\"1\" class=\"dataframe\">\n",
       "  <thead>\n",
       "    <tr style=\"text-align: right;\">\n",
       "      <th></th>\n",
       "      <th>S_No</th>\n",
       "      <th>Timestamp</th>\n",
       "      <th>Location</th>\n",
       "      <th>Temperature_C</th>\n",
       "      <th>Apparent_Temperature_C</th>\n",
       "      <th>Humidity</th>\n",
       "      <th>Wind_speed_kmph</th>\n",
       "      <th>Wind_bearing_degrees</th>\n",
       "      <th>Visibility_km</th>\n",
       "      <th>Pressure_millibars</th>\n",
       "      <th>Weather_conditions</th>\n",
       "    </tr>\n",
       "  </thead>\n",
       "  <tbody>\n",
       "    <tr>\n",
       "      <th>0</th>\n",
       "      <td>2881</td>\n",
       "      <td>2006-01-01 00:00:00+00:00</td>\n",
       "      <td>Port of Turku, Finland</td>\n",
       "      <td>1.161111</td>\n",
       "      <td>-3.238889</td>\n",
       "      <td>0.85</td>\n",
       "      <td>16.6152</td>\n",
       "      <td>139</td>\n",
       "      <td>9.9015</td>\n",
       "      <td>1016.15</td>\n",
       "      <td>rain</td>\n",
       "    </tr>\n",
       "  </tbody>\n",
       "</table>\n",
       "</div>"
      ],
      "text/plain": [
       "   S_No                  Timestamp                Location  Temperature_C  \\\n",
       "0  2881  2006-01-01 00:00:00+00:00  Port of Turku, Finland       1.161111   \n",
       "\n",
       "   Apparent_Temperature_C  Humidity  Wind_speed_kmph  Wind_bearing_degrees  \\\n",
       "0               -3.238889      0.85          16.6152                   139   \n",
       "\n",
       "   Visibility_km  Pressure_millibars Weather_conditions  \n",
       "0         9.9015             1016.15               rain  "
      ]
     },
     "execution_count": 5,
     "metadata": {},
     "output_type": "execute_result"
    }
   ],
   "source": [
    "df = pd.read_csv(data_dir / 'weather_dataset_raw_development.csv')\n",
    "df.head(1)"
   ]
  },
  {
   "cell_type": "markdown",
   "id": "4394929a-f30d-401c-839d-fb4cf9957c82",
   "metadata": {},
   "source": [
    "### Transform the raw dataset and split it"
   ]
  },
  {
   "cell_type": "code",
   "execution_count": 6,
   "id": "55323804-bf99-4d98-9415-f01fd1e9cc60",
   "metadata": {
    "scrolled": true
   },
   "outputs": [],
   "source": [
    "# Three transformers: \"dataset__ingestion_transformer\", \"remove_horizonless_rows_transformer\", \"target_creation_transformer\"\n",
    "transformed_data, created_target = transform_dataset_and_create_target(\n",
    "    df,   \n",
    "    dataset_ingestion_transformer,\n",
    "    remove_horizonless_rows_transformer,\n",
    "    target_creation_transformer,\n",
    ")\n",
    "\n",
    "# Split the dataset\n",
    "dataset = prepare_binary_classification_tabular_data(\n",
    "    transformed_data,\n",
    "    created_target,\n",
    ")"
   ]
  },
  {
   "cell_type": "markdown",
   "id": "5bcc1a49-0084-4a9d-9c6b-e6888b63a74e",
   "metadata": {},
   "source": [
    "### Define a set of candidate models"
   ]
  },
  {
   "cell_type": "code",
   "execution_count": 7,
   "id": "ca2e57b0-280d-43b1-9e12-39155acd941b",
   "metadata": {},
   "outputs": [],
   "source": [
    "random_state = 1234\n",
    "max_depth = 4\n",
    "max_iter = 10_000\n",
    "\n",
    "models = {\n",
    "    \"DecisionTree\": {\n",
    "        \"model\": DecisionTreeClassifier(max_depth=max_depth, random_state=random_state),\n",
    "    },\n",
    "    \"LinearSvc\": {\n",
    "        \"model\": LinearSVC(max_iter=max_iter, random_state=random_state),\n",
    "    },\n",
    "    \"LogisticRegression\": {\n",
    "        \"model\": LogisticRegression(),\n",
    "    },\n",
    "    \"RandomForest\": {\n",
    "        \"model\": RandomForestClassifier(max_depth=max_depth, random_state=random_state),\n",
    "    },\n",
    "}"
   ]
  },
  {
   "cell_type": "markdown",
   "id": "d3f3b31d-9c7b-4e5c-8677-6e7778ddef0f",
   "metadata": {},
   "source": [
    "### Model"
   ]
  },
  {
   "cell_type": "raw",
   "id": "19d3dd2d-9f79-4406-8186-a42a0c9362fa",
   "metadata": {},
   "source": [
    "classifiers_list = [LogisticRegression, LinearSVC, DecisionTreeClassifier, RandomForestClassifier]\n",
    "results = train_and_evaluate(dataset, predictors_feature_engineering_transformer, classifiers_list, f1_score)\n",
    "pprint(results, sort_dicts=False)"
   ]
  },
  {
   "cell_type": "markdown",
   "id": "227eb3a8-b154-4d64-95f9-d85fb89794f2",
   "metadata": {},
   "source": [
    "### Model with mlflow\n",
    "\n",
    "WARNING: The method `.fit()` might already been called by `predictors_feature_engineering_transformer` in section `Model` above, within `train_and_evaluate()`. Even in that case, it would not affect the results below (`.fit()` would be called twice)."
   ]
  },
  {
   "cell_type": "code",
   "execution_count": 8,
   "id": "55b78596-acc9-4d39-96f2-442e4a51ad53",
   "metadata": {},
   "outputs": [],
   "source": [
    "MLFlow_URI = 'http://127.0.0.1:5000'\n",
    "experiment_name = \"tune_random_forest_with_full_pipeline\"\n",
    "\n",
    "experiment = Experiment(MLFlow_URI, experiment_name)"
   ]
  },
  {
   "cell_type": "markdown",
   "id": "a08fec19-2fd8-4e76-a957-a72061aee315",
   "metadata": {},
   "source": [
    "##### Remove previous runs"
   ]
  },
  {
   "cell_type": "code",
   "execution_count": 9,
   "id": "9c189789-3c8b-46dd-aa7e-1b67c7234a08",
   "metadata": {},
   "outputs": [],
   "source": [
    "# mlflow.set_tracking_uri(MLFlow_URI)\n",
    "# runs = mlflow.search_runs(experiment_names=[experiment_name)\n",
    "# for run_id in runs[\"run_id\"]:\n",
    "#     mlflow.delete_run(run_id)\n",
    "#     print(f\"Deleted run {run_id}\")"
   ]
  },
  {
   "cell_type": "code",
   "execution_count": 10,
   "id": "50f2e0d2-6f09-4779-bb73-c20097345992",
   "metadata": {},
   "outputs": [
    {
     "data": {
      "application/vnd.jupyter.widget-view+json": {
       "model_id": "36b37ffe3f874807b9293aa88a869477",
       "version_major": 2,
       "version_minor": 0
      },
      "text/plain": [
       "Downloading artifacts:   0%|          | 0/1 [00:00<?, ?it/s]"
      ]
     },
     "metadata": {},
     "output_type": "display_data"
    },
    {
     "data": {
      "application/vnd.jupyter.widget-view+json": {
       "model_id": "feb45eb14b884e769cf0c918d8cfb68c",
       "version_major": 2,
       "version_minor": 0
      },
      "text/plain": [
       "Downloading artifacts:   0%|          | 0/1 [00:00<?, ?it/s]"
      ]
     },
     "metadata": {},
     "output_type": "display_data"
    }
   ],
   "source": [
    "# classifiers_list = [LogisticRegression, LinearSVC, DecisionTreeClassifier, RandomForestClassifier]\n",
    "classifiers_list = [RandomForestClassifier]\n",
    "train_and_evaluate_with_tracking(dataset, predictors_feature_engineering_transformer, classifiers_list, f1_score, experiment)"
   ]
  },
  {
   "cell_type": "markdown",
   "id": "542785a4-3d0c-4b2a-98e0-169fdb224d0c",
   "metadata": {},
   "source": [
    "### Model Tracking"
   ]
  },
  {
   "cell_type": "code",
   "execution_count": 11,
   "id": "beeafb64-cbaa-4c33-9e8e-a4c4ebfb9010",
   "metadata": {},
   "outputs": [],
   "source": [
    "# Retrieve a list of runs from the experiment\n",
    "runs = explore_best_runs(experiment, to_dataframe=False) # mlflow.store.entities.paged_list.PagedList of length 2"
   ]
  },
  {
   "cell_type": "code",
   "execution_count": 12,
   "id": "c0bfd82e-5671-48ea-9266-3c66c5d141e9",
   "metadata": {},
   "outputs": [],
   "source": [
    "# Fetch the best run from the specified experiment, 'test_of_clustering_plus_classification'\n",
    "best_run = get_best_run(experiment) # mlflow.entities.run.Run"
   ]
  },
  {
   "cell_type": "code",
   "execution_count": 13,
   "id": "03222137-5bcd-4fc4-8486-bd9d0ebf0490",
   "metadata": {
    "scrolled": true
   },
   "outputs": [
    {
     "data": {
      "application/vnd.jupyter.widget-view+json": {
       "model_id": "fb35101358ca4dabaf23cc0a74d2b229",
       "version_major": 2,
       "version_minor": 0
      },
      "text/plain": [
       "Downloading artifacts:   0%|          | 0/8 [00:00<?, ?it/s]"
      ]
     },
     "metadata": {},
     "output_type": "display_data"
    }
   ],
   "source": [
    "# Load model artifacts from the best_run within the specified experiment, 'test_of_clustering_plus_classification'\n",
    "loaded_artifacts = load_model_from_run(experiment.tracking_server_uri, best_run) # mlflow.pyfunc.PyFuncModel"
   ]
  },
  {
   "cell_type": "code",
   "execution_count": 14,
   "id": "d107c335-e01d-4a87-9509-ffec490c42f4",
   "metadata": {},
   "outputs": [],
   "source": [
    "# Extract the data transformer and classifier objects from the loaded model artifacts. Provide training data as input to predict() for schema verification.\n",
    "transformer, classifier = loaded_artifacts.predict(dataset.train_x) # weather.transformers.skl_transformer_utilities.SimpleCustomPipeline, sklearn.ensemble._forest.RandomForestClassifier"
   ]
  },
  {
   "cell_type": "code",
   "execution_count": 15,
   "id": "09878d16-5cea-49ae-a018-8f78ae976c28",
   "metadata": {},
   "outputs": [
    {
     "data": {
      "text/html": [
       "<style>#sk-container-id-1 {color: black;}#sk-container-id-1 pre{padding: 0;}#sk-container-id-1 div.sk-toggleable {background-color: white;}#sk-container-id-1 label.sk-toggleable__label {cursor: pointer;display: block;width: 100%;margin-bottom: 0;padding: 0.3em;box-sizing: border-box;text-align: center;}#sk-container-id-1 label.sk-toggleable__label-arrow:before {content: \"▸\";float: left;margin-right: 0.25em;color: #696969;}#sk-container-id-1 label.sk-toggleable__label-arrow:hover:before {color: black;}#sk-container-id-1 div.sk-estimator:hover label.sk-toggleable__label-arrow:before {color: black;}#sk-container-id-1 div.sk-toggleable__content {max-height: 0;max-width: 0;overflow: hidden;text-align: left;background-color: #f0f8ff;}#sk-container-id-1 div.sk-toggleable__content pre {margin: 0.2em;color: black;border-radius: 0.25em;background-color: #f0f8ff;}#sk-container-id-1 input.sk-toggleable__control:checked~div.sk-toggleable__content {max-height: 200px;max-width: 100%;overflow: auto;}#sk-container-id-1 input.sk-toggleable__control:checked~label.sk-toggleable__label-arrow:before {content: \"▾\";}#sk-container-id-1 div.sk-estimator input.sk-toggleable__control:checked~label.sk-toggleable__label {background-color: #d4ebff;}#sk-container-id-1 div.sk-label input.sk-toggleable__control:checked~label.sk-toggleable__label {background-color: #d4ebff;}#sk-container-id-1 input.sk-hidden--visually {border: 0;clip: rect(1px 1px 1px 1px);clip: rect(1px, 1px, 1px, 1px);height: 1px;margin: -1px;overflow: hidden;padding: 0;position: absolute;width: 1px;}#sk-container-id-1 div.sk-estimator {font-family: monospace;background-color: #f0f8ff;border: 1px dotted black;border-radius: 0.25em;box-sizing: border-box;margin-bottom: 0.5em;}#sk-container-id-1 div.sk-estimator:hover {background-color: #d4ebff;}#sk-container-id-1 div.sk-parallel-item::after {content: \"\";width: 100%;border-bottom: 1px solid gray;flex-grow: 1;}#sk-container-id-1 div.sk-label:hover label.sk-toggleable__label {background-color: #d4ebff;}#sk-container-id-1 div.sk-serial::before {content: \"\";position: absolute;border-left: 1px solid gray;box-sizing: border-box;top: 0;bottom: 0;left: 50%;z-index: 0;}#sk-container-id-1 div.sk-serial {display: flex;flex-direction: column;align-items: center;background-color: white;padding-right: 0.2em;padding-left: 0.2em;position: relative;}#sk-container-id-1 div.sk-item {position: relative;z-index: 1;}#sk-container-id-1 div.sk-parallel {display: flex;align-items: stretch;justify-content: center;background-color: white;position: relative;}#sk-container-id-1 div.sk-item::before, #sk-container-id-1 div.sk-parallel-item::before {content: \"\";position: absolute;border-left: 1px solid gray;box-sizing: border-box;top: 0;bottom: 0;left: 50%;z-index: -1;}#sk-container-id-1 div.sk-parallel-item {display: flex;flex-direction: column;z-index: 1;position: relative;background-color: white;}#sk-container-id-1 div.sk-parallel-item:first-child::after {align-self: flex-end;width: 50%;}#sk-container-id-1 div.sk-parallel-item:last-child::after {align-self: flex-start;width: 50%;}#sk-container-id-1 div.sk-parallel-item:only-child::after {width: 0;}#sk-container-id-1 div.sk-dashed-wrapped {border: 1px dashed gray;margin: 0 0.4em 0.5em 0.4em;box-sizing: border-box;padding-bottom: 0.4em;background-color: white;}#sk-container-id-1 div.sk-label label {font-family: monospace;font-weight: bold;display: inline-block;line-height: 1.2em;}#sk-container-id-1 div.sk-label-container {text-align: center;}#sk-container-id-1 div.sk-container {/* jupyter's `normalize.less` sets `[hidden] { display: none; }` but bootstrap.min.css set `[hidden] { display: none !important; }` so we also need the `!important` here to be able to override the default hidden behavior on the sphinx rendered scikit-learn.org. See: https://github.com/scikit-learn/scikit-learn/issues/21755 */display: inline-block !important;position: relative;}#sk-container-id-1 div.sk-text-repr-fallback {display: none;}</style><div id=\"sk-container-id-1\" class=\"sk-top-container\"><div class=\"sk-text-repr-fallback\"><pre>SimpleCustomPipeline(steps=[(&#x27;add_columns_year_month_day_hour&#x27;,\n",
       "                             AddColumnsYearMonthDayHourFromIndexTransformer()),\n",
       "                            (&#x27;weather&#x27;,\n",
       "                             WeatherTransformer(feature_name=&#x27;Weather&#x27;)),\n",
       "                            (&#x27;fill_initial_rows_nans&#x27;,\n",
       "                             FillInitialRowsWithBfillTransformer(number_of_rows=1)),\n",
       "                            (&#x27;nans_imputation&#x27;, NaNsImputationTransformer()),\n",
       "                            (&#x27;outliers&#x27;,\n",
       "                             Pipeline(steps=[(&#x27;inpute_humidity_outlier...\n",
       "                                              ImputeOutliersTransformer(column_name=&#x27;Pressure&#x27;))])),\n",
       "                            (&#x27;one_hot_encoder_and_standard_scaler&#x27;,\n",
       "                             DataFrameColumnTransformer(transformers=[(&#x27;cat&#x27;,\n",
       "                                                                       SimpleCustomPipeline(steps=[(&#x27;onehot&#x27;,\n",
       "                                                                                                    OneHotEncoderDataFrame())]),\n",
       "                                                                       []),\n",
       "                                                                      (&#x27;num&#x27;,\n",
       "                                                                       SimpleCustomPipeline(steps=[(&#x27;scaler&#x27;,\n",
       "                                                                                                    TransformerToDataFrame(base_transformer=StandardScaler()))]),\n",
       "                                                                       [&#x27;Temperature&#x27;,\n",
       "                                                                        &#x27;Humidity&#x27;,\n",
       "                                                                        &#x27;Wind_speed&#x27;,\n",
       "                                                                        &#x27;Wind_bearing&#x27;,\n",
       "                                                                        &#x27;Visibility&#x27;,\n",
       "                                                                        &#x27;Pressure&#x27;])]))])</pre><b>In a Jupyter environment, please rerun this cell to show the HTML representation or trust the notebook. <br />On GitHub, the HTML representation is unable to render, please try loading this page with nbviewer.org.</b></div><div class=\"sk-container\" hidden><div class=\"sk-item sk-dashed-wrapped\"><div class=\"sk-label-container\"><div class=\"sk-label sk-toggleable\"><input class=\"sk-toggleable__control sk-hidden--visually\" id=\"sk-estimator-id-1\" type=\"checkbox\" ><label for=\"sk-estimator-id-1\" class=\"sk-toggleable__label sk-toggleable__label-arrow\">SimpleCustomPipeline</label><div class=\"sk-toggleable__content\"><pre>SimpleCustomPipeline(steps=[(&#x27;add_columns_year_month_day_hour&#x27;,\n",
       "                             AddColumnsYearMonthDayHourFromIndexTransformer()),\n",
       "                            (&#x27;weather&#x27;,\n",
       "                             WeatherTransformer(feature_name=&#x27;Weather&#x27;)),\n",
       "                            (&#x27;fill_initial_rows_nans&#x27;,\n",
       "                             FillInitialRowsWithBfillTransformer(number_of_rows=1)),\n",
       "                            (&#x27;nans_imputation&#x27;, NaNsImputationTransformer()),\n",
       "                            (&#x27;outliers&#x27;,\n",
       "                             Pipeline(steps=[(&#x27;inpute_humidity_outlier...\n",
       "                                              ImputeOutliersTransformer(column_name=&#x27;Pressure&#x27;))])),\n",
       "                            (&#x27;one_hot_encoder_and_standard_scaler&#x27;,\n",
       "                             DataFrameColumnTransformer(transformers=[(&#x27;cat&#x27;,\n",
       "                                                                       SimpleCustomPipeline(steps=[(&#x27;onehot&#x27;,\n",
       "                                                                                                    OneHotEncoderDataFrame())]),\n",
       "                                                                       []),\n",
       "                                                                      (&#x27;num&#x27;,\n",
       "                                                                       SimpleCustomPipeline(steps=[(&#x27;scaler&#x27;,\n",
       "                                                                                                    TransformerToDataFrame(base_transformer=StandardScaler()))]),\n",
       "                                                                       [&#x27;Temperature&#x27;,\n",
       "                                                                        &#x27;Humidity&#x27;,\n",
       "                                                                        &#x27;Wind_speed&#x27;,\n",
       "                                                                        &#x27;Wind_bearing&#x27;,\n",
       "                                                                        &#x27;Visibility&#x27;,\n",
       "                                                                        &#x27;Pressure&#x27;])]))])</pre></div></div></div><div class=\"sk-serial\"><div class=\"sk-item\"><div class=\"sk-estimator sk-toggleable\"><input class=\"sk-toggleable__control sk-hidden--visually\" id=\"sk-estimator-id-2\" type=\"checkbox\" ><label for=\"sk-estimator-id-2\" class=\"sk-toggleable__label sk-toggleable__label-arrow\">AddColumnsYearMonthDayHourFromIndexTransformer</label><div class=\"sk-toggleable__content\"><pre>AddColumnsYearMonthDayHourFromIndexTransformer()</pre></div></div></div><div class=\"sk-item\"><div class=\"sk-estimator sk-toggleable\"><input class=\"sk-toggleable__control sk-hidden--visually\" id=\"sk-estimator-id-3\" type=\"checkbox\" ><label for=\"sk-estimator-id-3\" class=\"sk-toggleable__label sk-toggleable__label-arrow\">WeatherTransformer</label><div class=\"sk-toggleable__content\"><pre>WeatherTransformer(feature_name=&#x27;Weather&#x27;)</pre></div></div></div><div class=\"sk-item\"><div class=\"sk-estimator sk-toggleable\"><input class=\"sk-toggleable__control sk-hidden--visually\" id=\"sk-estimator-id-4\" type=\"checkbox\" ><label for=\"sk-estimator-id-4\" class=\"sk-toggleable__label sk-toggleable__label-arrow\">FillInitialRowsWithBfillTransformer</label><div class=\"sk-toggleable__content\"><pre>FillInitialRowsWithBfillTransformer(number_of_rows=1)</pre></div></div></div><div class=\"sk-item\"><div class=\"sk-estimator sk-toggleable\"><input class=\"sk-toggleable__control sk-hidden--visually\" id=\"sk-estimator-id-5\" type=\"checkbox\" ><label for=\"sk-estimator-id-5\" class=\"sk-toggleable__label sk-toggleable__label-arrow\">NaNsImputationTransformer</label><div class=\"sk-toggleable__content\"><pre>NaNsImputationTransformer()</pre></div></div></div><div class=\"sk-item\"><div class=\"sk-label-container\"><div class=\"sk-label sk-toggleable\"><input class=\"sk-toggleable__control sk-hidden--visually\" id=\"sk-estimator-id-6\" type=\"checkbox\" ><label for=\"sk-estimator-id-6\" class=\"sk-toggleable__label sk-toggleable__label-arrow\">outliers: Pipeline</label><div class=\"sk-toggleable__content\"><pre>Pipeline(steps=[(&#x27;inpute_humidity_outliers&#x27;,\n",
       "                 ImputeOutliersTransformer(column_name=&#x27;Humidity&#x27;)),\n",
       "                (&#x27;inpute_pressure_outliers&#x27;,\n",
       "                 ImputeOutliersTransformer(column_name=&#x27;Pressure&#x27;))])</pre></div></div></div><div class=\"sk-serial\"><div class=\"sk-item\"><div class=\"sk-estimator sk-toggleable\"><input class=\"sk-toggleable__control sk-hidden--visually\" id=\"sk-estimator-id-7\" type=\"checkbox\" ><label for=\"sk-estimator-id-7\" class=\"sk-toggleable__label sk-toggleable__label-arrow\">ImputeOutliersTransformer</label><div class=\"sk-toggleable__content\"><pre>ImputeOutliersTransformer(column_name=&#x27;Humidity&#x27;)</pre></div></div></div><div class=\"sk-item\"><div class=\"sk-estimator sk-toggleable\"><input class=\"sk-toggleable__control sk-hidden--visually\" id=\"sk-estimator-id-8\" type=\"checkbox\" ><label for=\"sk-estimator-id-8\" class=\"sk-toggleable__label sk-toggleable__label-arrow\">ImputeOutliersTransformer</label><div class=\"sk-toggleable__content\"><pre>ImputeOutliersTransformer(column_name=&#x27;Pressure&#x27;)</pre></div></div></div></div></div><div class=\"sk-item sk-dashed-wrapped\"><div class=\"sk-label-container\"><div class=\"sk-label sk-toggleable\"><input class=\"sk-toggleable__control sk-hidden--visually\" id=\"sk-estimator-id-9\" type=\"checkbox\" ><label for=\"sk-estimator-id-9\" class=\"sk-toggleable__label sk-toggleable__label-arrow\">one_hot_encoder_and_standard_scaler: DataFrameColumnTransformer</label><div class=\"sk-toggleable__content\"><pre>DataFrameColumnTransformer(transformers=[(&#x27;cat&#x27;,\n",
       "                                          SimpleCustomPipeline(steps=[(&#x27;onehot&#x27;,\n",
       "                                                                       OneHotEncoderDataFrame())]),\n",
       "                                          []),\n",
       "                                         (&#x27;num&#x27;,\n",
       "                                          SimpleCustomPipeline(steps=[(&#x27;scaler&#x27;,\n",
       "                                                                       TransformerToDataFrame(base_transformer=StandardScaler()))]),\n",
       "                                          [&#x27;Temperature&#x27;, &#x27;Humidity&#x27;,\n",
       "                                           &#x27;Wind_speed&#x27;, &#x27;Wind_bearing&#x27;,\n",
       "                                           &#x27;Visibility&#x27;, &#x27;Pressure&#x27;])])</pre></div></div></div><div class=\"sk-parallel\"><div class=\"sk-parallel-item\"><div class=\"sk-item\"><div class=\"sk-label-container\"><div class=\"sk-label sk-toggleable\"><input class=\"sk-toggleable__control sk-hidden--visually\" id=\"sk-estimator-id-10\" type=\"checkbox\" ><label for=\"sk-estimator-id-10\" class=\"sk-toggleable__label sk-toggleable__label-arrow\">cat</label><div class=\"sk-toggleable__content\"><pre>[]</pre></div></div></div><div class=\"sk-serial\"><div class=\"sk-item\"><div class=\"sk-serial\"><div class=\"sk-item\"><div class=\"sk-estimator sk-toggleable\"><input class=\"sk-toggleable__control sk-hidden--visually\" id=\"sk-estimator-id-11\" type=\"checkbox\" ><label for=\"sk-estimator-id-11\" class=\"sk-toggleable__label sk-toggleable__label-arrow\">OneHotEncoderDataFrame</label><div class=\"sk-toggleable__content\"><pre>OneHotEncoderDataFrame()</pre></div></div></div></div></div></div></div></div><div class=\"sk-parallel-item\"><div class=\"sk-item\"><div class=\"sk-label-container\"><div class=\"sk-label sk-toggleable\"><input class=\"sk-toggleable__control sk-hidden--visually\" id=\"sk-estimator-id-12\" type=\"checkbox\" ><label for=\"sk-estimator-id-12\" class=\"sk-toggleable__label sk-toggleable__label-arrow\">num</label><div class=\"sk-toggleable__content\"><pre>[&#x27;Temperature&#x27;, &#x27;Humidity&#x27;, &#x27;Wind_speed&#x27;, &#x27;Wind_bearing&#x27;, &#x27;Visibility&#x27;, &#x27;Pressure&#x27;]</pre></div></div></div><div class=\"sk-serial\"><div class=\"sk-item\"><div class=\"sk-serial\"><div class=\"sk-item sk-dashed-wrapped\"><div class=\"sk-label-container\"><div class=\"sk-label sk-toggleable\"><input class=\"sk-toggleable__control sk-hidden--visually\" id=\"sk-estimator-id-13\" type=\"checkbox\" ><label for=\"sk-estimator-id-13\" class=\"sk-toggleable__label sk-toggleable__label-arrow\">scaler: TransformerToDataFrame</label><div class=\"sk-toggleable__content\"><pre>TransformerToDataFrame(base_transformer=StandardScaler())</pre></div></div></div><div class=\"sk-parallel\"><div class=\"sk-parallel-item\"><div class=\"sk-item\"><div class=\"sk-label-container\"><div class=\"sk-label sk-toggleable\"><input class=\"sk-toggleable__control sk-hidden--visually\" id=\"sk-estimator-id-14\" type=\"checkbox\" ><label for=\"sk-estimator-id-14\" class=\"sk-toggleable__label sk-toggleable__label-arrow\">base_transformer: StandardScaler</label><div class=\"sk-toggleable__content\"><pre>StandardScaler()</pre></div></div></div><div class=\"sk-serial\"><div class=\"sk-item\"><div class=\"sk-estimator sk-toggleable\"><input class=\"sk-toggleable__control sk-hidden--visually\" id=\"sk-estimator-id-15\" type=\"checkbox\" ><label for=\"sk-estimator-id-15\" class=\"sk-toggleable__label sk-toggleable__label-arrow\">StandardScaler</label><div class=\"sk-toggleable__content\"><pre>StandardScaler()</pre></div></div></div></div></div></div></div></div></div></div></div></div></div></div></div></div></div></div></div>"
      ],
      "text/plain": [
       "SimpleCustomPipeline(steps=[('add_columns_year_month_day_hour',\n",
       "                             AddColumnsYearMonthDayHourFromIndexTransformer()),\n",
       "                            ('weather',\n",
       "                             WeatherTransformer(feature_name='Weather')),\n",
       "                            ('fill_initial_rows_nans',\n",
       "                             FillInitialRowsWithBfillTransformer(number_of_rows=1)),\n",
       "                            ('nans_imputation', NaNsImputationTransformer()),\n",
       "                            ('outliers',\n",
       "                             Pipeline(steps=[('inpute_humidity_outlier...\n",
       "                                              ImputeOutliersTransformer(column_name='Pressure'))])),\n",
       "                            ('one_hot_encoder_and_standard_scaler',\n",
       "                             DataFrameColumnTransformer(transformers=[('cat',\n",
       "                                                                       SimpleCustomPipeline(steps=[('onehot',\n",
       "                                                                                                    OneHotEncoderDataFrame())]),\n",
       "                                                                       []),\n",
       "                                                                      ('num',\n",
       "                                                                       SimpleCustomPipeline(steps=[('scaler',\n",
       "                                                                                                    TransformerToDataFrame(base_transformer=StandardScaler()))]),\n",
       "                                                                       ['Temperature',\n",
       "                                                                        'Humidity',\n",
       "                                                                        'Wind_speed',\n",
       "                                                                        'Wind_bearing',\n",
       "                                                                        'Visibility',\n",
       "                                                                        'Pressure'])]))])"
      ]
     },
     "execution_count": 15,
     "metadata": {},
     "output_type": "execute_result"
    }
   ],
   "source": [
    "transformer"
   ]
  },
  {
   "cell_type": "code",
   "execution_count": 16,
   "id": "648801a7-2bee-4433-8432-930f4aebfae5",
   "metadata": {},
   "outputs": [
    {
     "data": {
      "text/html": [
       "<style>#sk-container-id-2 {color: black;}#sk-container-id-2 pre{padding: 0;}#sk-container-id-2 div.sk-toggleable {background-color: white;}#sk-container-id-2 label.sk-toggleable__label {cursor: pointer;display: block;width: 100%;margin-bottom: 0;padding: 0.3em;box-sizing: border-box;text-align: center;}#sk-container-id-2 label.sk-toggleable__label-arrow:before {content: \"▸\";float: left;margin-right: 0.25em;color: #696969;}#sk-container-id-2 label.sk-toggleable__label-arrow:hover:before {color: black;}#sk-container-id-2 div.sk-estimator:hover label.sk-toggleable__label-arrow:before {color: black;}#sk-container-id-2 div.sk-toggleable__content {max-height: 0;max-width: 0;overflow: hidden;text-align: left;background-color: #f0f8ff;}#sk-container-id-2 div.sk-toggleable__content pre {margin: 0.2em;color: black;border-radius: 0.25em;background-color: #f0f8ff;}#sk-container-id-2 input.sk-toggleable__control:checked~div.sk-toggleable__content {max-height: 200px;max-width: 100%;overflow: auto;}#sk-container-id-2 input.sk-toggleable__control:checked~label.sk-toggleable__label-arrow:before {content: \"▾\";}#sk-container-id-2 div.sk-estimator input.sk-toggleable__control:checked~label.sk-toggleable__label {background-color: #d4ebff;}#sk-container-id-2 div.sk-label input.sk-toggleable__control:checked~label.sk-toggleable__label {background-color: #d4ebff;}#sk-container-id-2 input.sk-hidden--visually {border: 0;clip: rect(1px 1px 1px 1px);clip: rect(1px, 1px, 1px, 1px);height: 1px;margin: -1px;overflow: hidden;padding: 0;position: absolute;width: 1px;}#sk-container-id-2 div.sk-estimator {font-family: monospace;background-color: #f0f8ff;border: 1px dotted black;border-radius: 0.25em;box-sizing: border-box;margin-bottom: 0.5em;}#sk-container-id-2 div.sk-estimator:hover {background-color: #d4ebff;}#sk-container-id-2 div.sk-parallel-item::after {content: \"\";width: 100%;border-bottom: 1px solid gray;flex-grow: 1;}#sk-container-id-2 div.sk-label:hover label.sk-toggleable__label {background-color: #d4ebff;}#sk-container-id-2 div.sk-serial::before {content: \"\";position: absolute;border-left: 1px solid gray;box-sizing: border-box;top: 0;bottom: 0;left: 50%;z-index: 0;}#sk-container-id-2 div.sk-serial {display: flex;flex-direction: column;align-items: center;background-color: white;padding-right: 0.2em;padding-left: 0.2em;position: relative;}#sk-container-id-2 div.sk-item {position: relative;z-index: 1;}#sk-container-id-2 div.sk-parallel {display: flex;align-items: stretch;justify-content: center;background-color: white;position: relative;}#sk-container-id-2 div.sk-item::before, #sk-container-id-2 div.sk-parallel-item::before {content: \"\";position: absolute;border-left: 1px solid gray;box-sizing: border-box;top: 0;bottom: 0;left: 50%;z-index: -1;}#sk-container-id-2 div.sk-parallel-item {display: flex;flex-direction: column;z-index: 1;position: relative;background-color: white;}#sk-container-id-2 div.sk-parallel-item:first-child::after {align-self: flex-end;width: 50%;}#sk-container-id-2 div.sk-parallel-item:last-child::after {align-self: flex-start;width: 50%;}#sk-container-id-2 div.sk-parallel-item:only-child::after {width: 0;}#sk-container-id-2 div.sk-dashed-wrapped {border: 1px dashed gray;margin: 0 0.4em 0.5em 0.4em;box-sizing: border-box;padding-bottom: 0.4em;background-color: white;}#sk-container-id-2 div.sk-label label {font-family: monospace;font-weight: bold;display: inline-block;line-height: 1.2em;}#sk-container-id-2 div.sk-label-container {text-align: center;}#sk-container-id-2 div.sk-container {/* jupyter's `normalize.less` sets `[hidden] { display: none; }` but bootstrap.min.css set `[hidden] { display: none !important; }` so we also need the `!important` here to be able to override the default hidden behavior on the sphinx rendered scikit-learn.org. See: https://github.com/scikit-learn/scikit-learn/issues/21755 */display: inline-block !important;position: relative;}#sk-container-id-2 div.sk-text-repr-fallback {display: none;}</style><div id=\"sk-container-id-2\" class=\"sk-top-container\"><div class=\"sk-text-repr-fallback\"><pre>RandomForestClassifier()</pre><b>In a Jupyter environment, please rerun this cell to show the HTML representation or trust the notebook. <br />On GitHub, the HTML representation is unable to render, please try loading this page with nbviewer.org.</b></div><div class=\"sk-container\" hidden><div class=\"sk-item\"><div class=\"sk-estimator sk-toggleable\"><input class=\"sk-toggleable__control sk-hidden--visually\" id=\"sk-estimator-id-16\" type=\"checkbox\" checked><label for=\"sk-estimator-id-16\" class=\"sk-toggleable__label sk-toggleable__label-arrow\">RandomForestClassifier</label><div class=\"sk-toggleable__content\"><pre>RandomForestClassifier()</pre></div></div></div></div></div>"
      ],
      "text/plain": [
       "RandomForestClassifier()"
      ]
     },
     "execution_count": 16,
     "metadata": {},
     "output_type": "execute_result"
    }
   ],
   "source": [
    "classifier"
   ]
  },
  {
   "cell_type": "code",
   "execution_count": 17,
   "id": "2ec95d86-e82f-4ac6-8195-7312859c8fd0",
   "metadata": {},
   "outputs": [
    {
     "data": {
      "text/plain": [
       "Score(score_name='f1_score', train=1.0, val=0.955, test=0.952)"
      ]
     },
     "execution_count": 17,
     "metadata": {},
     "output_type": "execute_result"
    }
   ],
   "source": [
    "# Evaluate the accuracy of the pair (data transformer, classifier) on the dataset\n",
    "score_evaluation(f1_score, transformer, classifier, dataset)"
   ]
  },
  {
   "cell_type": "markdown",
   "id": "aec4462e-c4d2-4ee3-a12d-2b048c70bbf9",
   "metadata": {},
   "source": [
    "### Model Registry"
   ]
  },
  {
   "cell_type": "code",
   "execution_count": 18,
   "id": "287502a7-1677-409b-acaf-eea57749d22f",
   "metadata": {},
   "outputs": [],
   "source": [
    "# Retrieve the best run from the 'experiment' using default metric 'valid_accuracy'\n",
    "best_run = get_best_run(experiment)"
   ]
  },
  {
   "cell_type": "code",
   "execution_count": 19,
   "id": "1ff643a0-107b-43f6-ab9a-f1e5b676c5cc",
   "metadata": {},
   "outputs": [
    {
     "name": "stderr",
     "output_type": "stream",
     "text": [
      "Registered model 'random_forest' already exists. Creating a new version of this model...\n",
      "2024/02/11 17:00:17 INFO mlflow.store.model_registry.abstract_store: Waiting up to 300 seconds for model version to finish creation. Model name: random_forest, version 2\n",
      "Created version '2' of model 'random_forest'.\n"
     ]
    }
   ],
   "source": [
    "# Register the best run's model as 'random_forest'\n",
    "register_model_from_run(experiment.tracking_server_uri, best_run, 'random_forest')"
   ]
  },
  {
   "cell_type": "code",
   "execution_count": 20,
   "id": "80757d94-e483-478d-a8a9-c3533fc7e6e8",
   "metadata": {},
   "outputs": [
    {
     "data": {
      "text/plain": [
       "[{'version': '1', 'stage': 'Production'}, {'version': '2', 'stage': 'None'}]"
      ]
     },
     "execution_count": 20,
     "metadata": {},
     "output_type": "execute_result"
    }
   ],
   "source": [
    "# Retrieve the latest versions of the 'random_forest' model to observe the function behaviors\n",
    "get_latest_model_versions(experiment.tracking_server_uri, 'random_forest') "
   ]
  },
  {
   "cell_type": "code",
   "execution_count": 21,
   "id": "81a7cd5c-2ec6-4548-9e04-a8c45928f168",
   "metadata": {},
   "outputs": [],
   "source": [
    "# Transition model version '1' of 'random_forest' to the 'Production' stage \n",
    "transition_model_to_production(experiment.tracking_server_uri, 'random_forest', '1') "
   ]
  },
  {
   "cell_type": "code",
   "execution_count": 22,
   "id": "77991674-0325-43f1-8872-e6d52caafd6e",
   "metadata": {},
   "outputs": [
    {
     "data": {
      "text/plain": [
       "[{'version': '1', 'stage': 'Production'}, {'version': '2', 'stage': 'None'}]"
      ]
     },
     "execution_count": 22,
     "metadata": {},
     "output_type": "execute_result"
    }
   ],
   "source": [
    "# Retrieve the latest versions of the 'random_forest' model to observe function behavior\n",
    "get_latest_model_versions(experiment.tracking_server_uri, 'random_forest') "
   ]
  },
  {
   "cell_type": "code",
   "execution_count": 23,
   "id": "5f13c4ef-d8ba-430d-a8b2-165396d8a001",
   "metadata": {},
   "outputs": [
    {
     "data": {
      "application/vnd.jupyter.widget-view+json": {
       "model_id": "58cdf672160649e98ad6e56620762f0d",
       "version_major": 2,
       "version_minor": 0
      },
      "text/plain": [
       "Downloading artifacts:   0%|          | 0/8 [00:00<?, ?it/s]"
      ]
     },
     "metadata": {},
     "output_type": "display_data"
    }
   ],
   "source": [
    "# Load the 'random_forest' model artifacts deployed in the 'Production' stage\n",
    "loaded_artifacts = load_production_model(experiment.tracking_server_uri, 'random_forest')"
   ]
  },
  {
   "cell_type": "code",
   "execution_count": 24,
   "id": "4ddff36d-b891-448a-9369-596114dbae8a",
   "metadata": {},
   "outputs": [],
   "source": [
    "# Extract the data transformer and classifier objects from the loaded model artifacts. Provide training data as input to predict() for schema verification.\n",
    "transformer, classifier = loaded_artifacts.predict(dataset.train_x)"
   ]
  },
  {
   "cell_type": "code",
   "execution_count": 25,
   "id": "b0addedd-c895-4e94-9663-ec9add2291d8",
   "metadata": {},
   "outputs": [
    {
     "data": {
      "text/plain": [
       "Score(score_name='f1_score', train=1.0, val=0.955, test=0.952)"
      ]
     },
     "execution_count": 25,
     "metadata": {},
     "output_type": "execute_result"
    }
   ],
   "source": [
    "# Evaluate the accuracy of the pair (data transformer, classifier) on the dataset \n",
    "score_evaluation(f1_score, transformer, classifier, dataset)"
   ]
  }
 ],
 "metadata": {
  "kernelspec": {
   "display_name": "Python 3 (ipykernel)",
   "language": "python",
   "name": "python3"
  },
  "language_info": {
   "codemirror_mode": {
    "name": "ipython",
    "version": 3
   },
   "file_extension": ".py",
   "mimetype": "text/x-python",
   "name": "python",
   "nbconvert_exporter": "python",
   "pygments_lexer": "ipython3",
   "version": "3.10.13"
  }
 },
 "nbformat": 4,
 "nbformat_minor": 5
}
